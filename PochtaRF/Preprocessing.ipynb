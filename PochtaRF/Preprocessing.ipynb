{
 "cells": [
  {
   "cell_type": "markdown",
   "metadata": {},
   "source": [
    "# read From file"
   ]
  },
  {
   "cell_type": "code",
   "execution_count": null,
   "metadata": {},
   "outputs": [],
   "source": [
    "import pandas as pd\n",
    "import os\n",
    "import numpy as np\n",
    "\n",
    "np.set_printoptions(precision=4)\n",
    "\n",
    "df = pd.read_csv('full.tsv', sep='\\t')"
   ]
  },
  {
   "cell_type": "markdown",
   "metadata": {},
   "source": [
    "# set static values"
   ]
  },
  {
   "cell_type": "code",
   "execution_count": 6,
   "metadata": {},
   "outputs": [],
   "source": [
    "df['total'] = 0\n",
    "df['success_rate'] = -1"
   ]
  },
  {
   "cell_type": "markdown",
   "metadata": {},
   "source": [
    "# top 5 results"
   ]
  },
  {
   "cell_type": "code",
   "execution_count": 2,
   "metadata": {},
   "outputs": [
    {
     "data": {
      "text/html": [
       "<div>\n",
       "<style scoped>\n",
       "    .dataframe tbody tr th:only-of-type {\n",
       "        vertical-align: middle;\n",
       "    }\n",
       "\n",
       "    .dataframe tbody tr th {\n",
       "        vertical-align: top;\n",
       "    }\n",
       "\n",
       "    .dataframe thead th {\n",
       "        text-align: right;\n",
       "    }\n",
       "</style>\n",
       "<table border=\"1\" class=\"dataframe\">\n",
       "  <thead>\n",
       "    <tr style=\"text-align: right;\">\n",
       "      <th></th>\n",
       "      <th>indexop</th>\n",
       "      <th>indexstart</th>\n",
       "      <th>indexdest</th>\n",
       "      <th>price</th>\n",
       "      <th>sender</th>\n",
       "      <th>mailtype</th>\n",
       "      <th>mailctg</th>\n",
       "      <th>mailmass</th>\n",
       "      <th>status</th>\n",
       "      <th>optimestamp</th>\n",
       "      <th>...</th>\n",
       "      <th>dest_city</th>\n",
       "      <th>dest_timezone</th>\n",
       "      <th>op_area</th>\n",
       "      <th>op_area_id</th>\n",
       "      <th>op_region</th>\n",
       "      <th>op_region_i</th>\n",
       "      <th>op_district_id</th>\n",
       "      <th>op_district</th>\n",
       "      <th>op_city</th>\n",
       "      <th>op_timezone</th>\n",
       "    </tr>\n",
       "  </thead>\n",
       "  <tbody>\n",
       "    <tr>\n",
       "      <th>0</th>\n",
       "      <td>629380</td>\n",
       "      <td>109117</td>\n",
       "      <td>629384</td>\n",
       "      <td>4980</td>\n",
       "      <td>6510313</td>\n",
       "      <td>3</td>\n",
       "      <td>4</td>\n",
       "      <td>326</td>\n",
       "      <td>0</td>\n",
       "      <td>2018-05-11 16:03:35</td>\n",
       "      <td>...</td>\n",
       "      <td>РАТТА</td>\n",
       "      <td>5.0</td>\n",
       "      <td>КРАСНОСЕЛЬКУПСКИЙ РАЙОН</td>\n",
       "      <td>1318.0</td>\n",
       "      <td>ЯМАЛО-НЕНЕЦКИЙ АВТОНОМНЫЙ ОКРУГ</td>\n",
       "      <td>16.0</td>\n",
       "      <td>8.0</td>\n",
       "      <td>УРАЛЬСКИЙ ФО</td>\n",
       "      <td>КРАСНОСЕЛЬКУП</td>\n",
       "      <td>5.0</td>\n",
       "    </tr>\n",
       "    <tr>\n",
       "      <th>1</th>\n",
       "      <td>629384</td>\n",
       "      <td>140961</td>\n",
       "      <td>629384</td>\n",
       "      <td>4659</td>\n",
       "      <td>1203</td>\n",
       "      <td>47</td>\n",
       "      <td>4</td>\n",
       "      <td>590</td>\n",
       "      <td>1</td>\n",
       "      <td>2018-05-15 19:35:04</td>\n",
       "      <td>...</td>\n",
       "      <td>РАТТА</td>\n",
       "      <td>5.0</td>\n",
       "      <td>КРАСНОСЕЛЬКУПСКИЙ РАЙОН</td>\n",
       "      <td>1318.0</td>\n",
       "      <td>ЯМАЛО-НЕНЕЦКИЙ АВТОНОМНЫЙ ОКРУГ</td>\n",
       "      <td>16.0</td>\n",
       "      <td>8.0</td>\n",
       "      <td>УРАЛЬСКИЙ ФО</td>\n",
       "      <td>РАТТА</td>\n",
       "      <td>5.0</td>\n",
       "    </tr>\n",
       "    <tr>\n",
       "      <th>2</th>\n",
       "      <td>629380</td>\n",
       "      <td>115742</td>\n",
       "      <td>629384</td>\n",
       "      <td>7300</td>\n",
       "      <td>298925</td>\n",
       "      <td>47</td>\n",
       "      <td>4</td>\n",
       "      <td>746</td>\n",
       "      <td>0</td>\n",
       "      <td>2019-04-29 15:13:23</td>\n",
       "      <td>...</td>\n",
       "      <td>РАТТА</td>\n",
       "      <td>5.0</td>\n",
       "      <td>КРАСНОСЕЛЬКУПСКИЙ РАЙОН</td>\n",
       "      <td>1318.0</td>\n",
       "      <td>ЯМАЛО-НЕНЕЦКИЙ АВТОНОМНЫЙ ОКРУГ</td>\n",
       "      <td>16.0</td>\n",
       "      <td>8.0</td>\n",
       "      <td>УРАЛЬСКИЙ ФО</td>\n",
       "      <td>КРАСНОСЕЛЬКУП</td>\n",
       "      <td>5.0</td>\n",
       "    </tr>\n",
       "    <tr>\n",
       "      <th>3</th>\n",
       "      <td>629384</td>\n",
       "      <td>127616</td>\n",
       "      <td>629384</td>\n",
       "      <td>3950</td>\n",
       "      <td>169839</td>\n",
       "      <td>16</td>\n",
       "      <td>4</td>\n",
       "      <td>120</td>\n",
       "      <td>0</td>\n",
       "      <td>2016-06-18 09:57:00</td>\n",
       "      <td>...</td>\n",
       "      <td>РАТТА</td>\n",
       "      <td>5.0</td>\n",
       "      <td>КРАСНОСЕЛЬКУПСКИЙ РАЙОН</td>\n",
       "      <td>1318.0</td>\n",
       "      <td>ЯМАЛО-НЕНЕЦКИЙ АВТОНОМНЫЙ ОКРУГ</td>\n",
       "      <td>16.0</td>\n",
       "      <td>8.0</td>\n",
       "      <td>УРАЛЬСКИЙ ФО</td>\n",
       "      <td>РАТТА</td>\n",
       "      <td>5.0</td>\n",
       "    </tr>\n",
       "    <tr>\n",
       "      <th>4</th>\n",
       "      <td>629384</td>\n",
       "      <td>140961</td>\n",
       "      <td>629384</td>\n",
       "      <td>4900</td>\n",
       "      <td>0</td>\n",
       "      <td>16</td>\n",
       "      <td>4</td>\n",
       "      <td>210</td>\n",
       "      <td>0</td>\n",
       "      <td>2017-04-15 08:49:00</td>\n",
       "      <td>...</td>\n",
       "      <td>РАТТА</td>\n",
       "      <td>5.0</td>\n",
       "      <td>КРАСНОСЕЛЬКУПСКИЙ РАЙОН</td>\n",
       "      <td>1318.0</td>\n",
       "      <td>ЯМАЛО-НЕНЕЦКИЙ АВТОНОМНЫЙ ОКРУГ</td>\n",
       "      <td>16.0</td>\n",
       "      <td>8.0</td>\n",
       "      <td>УРАЛЬСКИЙ ФО</td>\n",
       "      <td>РАТТА</td>\n",
       "      <td>5.0</td>\n",
       "    </tr>\n",
       "  </tbody>\n",
       "</table>\n",
       "<p>5 rows × 42 columns</p>\n",
       "</div>"
      ],
      "text/plain": [
       "   indexop  indexstart  indexdest  price   sender  mailtype  mailctg  \\\n",
       "0   629380      109117     629384   4980  6510313         3        4   \n",
       "1   629384      140961     629384   4659     1203        47        4   \n",
       "2   629380      115742     629384   7300   298925        47        4   \n",
       "3   629384      127616     629384   3950   169839        16        4   \n",
       "4   629384      140961     629384   4900        0        16        4   \n",
       "\n",
       "   mailmass  status          optimestamp     ...       dest_city  \\\n",
       "0       326       0  2018-05-11 16:03:35     ...           РАТТА   \n",
       "1       590       1  2018-05-15 19:35:04     ...           РАТТА   \n",
       "2       746       0  2019-04-29 15:13:23     ...           РАТТА   \n",
       "3       120       0  2016-06-18 09:57:00     ...           РАТТА   \n",
       "4       210       0  2017-04-15 08:49:00     ...           РАТТА   \n",
       "\n",
       "   dest_timezone                  op_area  op_area_id  \\\n",
       "0            5.0  КРАСНОСЕЛЬКУПСКИЙ РАЙОН      1318.0   \n",
       "1            5.0  КРАСНОСЕЛЬКУПСКИЙ РАЙОН      1318.0   \n",
       "2            5.0  КРАСНОСЕЛЬКУПСКИЙ РАЙОН      1318.0   \n",
       "3            5.0  КРАСНОСЕЛЬКУПСКИЙ РАЙОН      1318.0   \n",
       "4            5.0  КРАСНОСЕЛЬКУПСКИЙ РАЙОН      1318.0   \n",
       "\n",
       "                         op_region  op_region_i  op_district_id   op_district  \\\n",
       "0  ЯМАЛО-НЕНЕЦКИЙ АВТОНОМНЫЙ ОКРУГ         16.0             8.0  УРАЛЬСКИЙ ФО   \n",
       "1  ЯМАЛО-НЕНЕЦКИЙ АВТОНОМНЫЙ ОКРУГ         16.0             8.0  УРАЛЬСКИЙ ФО   \n",
       "2  ЯМАЛО-НЕНЕЦКИЙ АВТОНОМНЫЙ ОКРУГ         16.0             8.0  УРАЛЬСКИЙ ФО   \n",
       "3  ЯМАЛО-НЕНЕЦКИЙ АВТОНОМНЫЙ ОКРУГ         16.0             8.0  УРАЛЬСКИЙ ФО   \n",
       "4  ЯМАЛО-НЕНЕЦКИЙ АВТОНОМНЫЙ ОКРУГ         16.0             8.0  УРАЛЬСКИЙ ФО   \n",
       "\n",
       "         op_city  op_timezone  \n",
       "0  КРАСНОСЕЛЬКУП          5.0  \n",
       "1          РАТТА          5.0  \n",
       "2  КРАСНОСЕЛЬКУП          5.0  \n",
       "3          РАТТА          5.0  \n",
       "4          РАТТА          5.0  \n",
       "\n",
       "[5 rows x 42 columns]"
      ]
     },
     "execution_count": 2,
     "metadata": {},
     "output_type": "execute_result"
    }
   ],
   "source": [
    "df.head(5)"
   ]
  },
  {
   "cell_type": "markdown",
   "metadata": {},
   "source": [
    "# columns"
   ]
  },
  {
   "cell_type": "code",
   "execution_count": 7,
   "metadata": {},
   "outputs": [
    {
     "data": {
      "text/plain": [
       "Index(['indexop', 'indexstart', 'indexdest', 'price', 'sender', 'mailtype',\n",
       "       'mailctg', 'mailmass', 'status', 'optimestamp', 'traveltime',\n",
       "       'decisiontime', 'sourcerowid', 'mailrank', 'sendctgid', 'postmark',\n",
       "       'people_id', 'gender', 'start_area', 'start_area_id', 'start_region',\n",
       "       'start_region_id', 'start_district_id', 'start_district', 'start_city',\n",
       "       'start_timezone', 'dest_area', 'dest_area_id', 'dest_region',\n",
       "       'dest_region_id', 'dest_district_id', 'dest_district', 'dest_city',\n",
       "       'dest_timezone', 'op_area', 'op_area_id', 'op_region', 'op_region_i',\n",
       "       'op_district_id', 'op_district', 'op_city', 'op_timezone', 'total',\n",
       "       'success_rate'],\n",
       "      dtype='object')"
      ]
     },
     "execution_count": 7,
     "metadata": {},
     "output_type": "execute_result"
    }
   ],
   "source": [
    "df.columns"
   ]
  },
  {
   "cell_type": "markdown",
   "metadata": {},
   "source": [
    "# Z is dataFrame with need values"
   ]
  },
  {
   "cell_type": "code",
   "execution_count": 1,
   "metadata": {},
   "outputs": [
    {
     "ename": "NameError",
     "evalue": "name 'df' is not defined",
     "output_type": "error",
     "traceback": [
      "\u001b[0;31m---------------------------------------------------------------------------\u001b[0m",
      "\u001b[0;31mNameError\u001b[0m                                 Traceback (most recent call last)",
      "\u001b[0;32m<ipython-input-1-26cce5d74f48>\u001b[0m in \u001b[0;36m<module>\u001b[0;34m\u001b[0m\n\u001b[0;32m----> 1\u001b[0;31m z = df[['status','sourcerowid', 'people_id','indexop', 'indexstart', 'indexdest', 'price', 'mailtype',\n\u001b[0m\u001b[1;32m      2\u001b[0m        \u001b[0;34m'mailctg'\u001b[0m\u001b[0;34m,\u001b[0m \u001b[0;34m'mailmass'\u001b[0m\u001b[0;34m,\u001b[0m \u001b[0;34m'optimestamp'\u001b[0m\u001b[0;34m,\u001b[0m\u001b[0;34m\u001b[0m\u001b[0;34m\u001b[0m\u001b[0m\n\u001b[1;32m      3\u001b[0m        \u001b[0;34m'decisiontime'\u001b[0m\u001b[0;34m,\u001b[0m \u001b[0;34m'mailrank'\u001b[0m\u001b[0;34m,\u001b[0m \u001b[0;34m'sendctgid'\u001b[0m\u001b[0;34m,\u001b[0m \u001b[0;34m'postmark'\u001b[0m\u001b[0;34m,\u001b[0m\u001b[0;34m\u001b[0m\u001b[0;34m\u001b[0m\u001b[0m\n\u001b[1;32m      4\u001b[0m         \u001b[0;34m'gender'\u001b[0m\u001b[0;34m,\u001b[0m \u001b[0;34m'start_area_id'\u001b[0m\u001b[0;34m,\u001b[0m\u001b[0;34m\u001b[0m\u001b[0;34m\u001b[0m\u001b[0m\n\u001b[1;32m      5\u001b[0m        \u001b[0;34m'start_region_id'\u001b[0m\u001b[0;34m,\u001b[0m \u001b[0;34m'start_district_id'\u001b[0m\u001b[0;34m,\u001b[0m\u001b[0;34m\u001b[0m\u001b[0;34m\u001b[0m\u001b[0m\n",
      "\u001b[0;31mNameError\u001b[0m: name 'df' is not defined"
     ]
    }
   ],
   "source": [
    "z = df[['status','sourcerowid', 'people_id','indexop', 'indexstart', 'indexdest', 'price', 'mailtype',\n",
    "       'mailctg', 'mailmass', 'optimestamp',\n",
    "       'decisiontime', 'mailrank', 'sendctgid', 'postmark',\n",
    "        'gender', 'start_area_id',\n",
    "       'start_region_id', 'start_district_id',\n",
    "       'start_timezone', 'dest_area_id',\n",
    "       'dest_region_id', 'dest_district_id', 'op_region_i',\n",
    "       'op_district_id', 'op_timezone', 'total',\n",
    "       'success_rate']]\n",
    "# z.corr().style.background_gradient(cmap='coolwarm').set_precision(2)"
   ]
  },
  {
   "cell_type": "markdown",
   "metadata": {},
   "source": [
    "# correleition cofficent"
   ]
  },
  {
   "cell_type": "code",
   "execution_count": 5,
   "metadata": {},
   "outputs": [],
   "source": [
    "z.corr().style.background_gradient(cmap='coolwarm').set_precision(2)"
   ]
  },
  {
   "cell_type": "markdown",
   "metadata": {},
   "source": [
    "# data to second and in int64"
   ]
  },
  {
   "cell_type": "code",
   "execution_count": 10,
   "metadata": {},
   "outputs": [
    {
     "name": "stderr",
     "output_type": "stream",
     "text": [
      "/Users/nazhmeddinbabakhanov/anaconda3/lib/python3.7/site-packages/ipykernel_launcher.py:4: SettingWithCopyWarning: \n",
      "A value is trying to be set on a copy of a slice from a DataFrame.\n",
      "Try using .loc[row_indexer,col_indexer] = value instead\n",
      "\n",
      "See the caveats in the documentation: http://pandas.pydata.org/pandas-docs/stable/indexing.html#indexing-view-versus-copy\n",
      "  after removing the cwd from sys.path.\n"
     ]
    }
   ],
   "source": [
    "z['optimestamp'] = pd.to_datetime(z['optimestamp']).astype('int64')"
   ]
  },
  {
   "cell_type": "markdown",
   "metadata": {},
   "source": [
    "# deleting df because to free up RAM(ОЗУ)"
   ]
  },
  {
   "cell_type": "code",
   "execution_count": 12,
   "metadata": {},
   "outputs": [],
   "source": [
    "del df"
   ]
  },
  {
   "cell_type": "markdown",
   "metadata": {},
   "source": [
    "# Sorting values by sourcerowid"
   ]
  },
  {
   "cell_type": "code",
   "execution_count": 15,
   "metadata": {},
   "outputs": [
    {
     "name": "stderr",
     "output_type": "stream",
     "text": [
      "/Users/nazhmeddinbabakhanov/anaconda3/lib/python3.7/site-packages/ipykernel_launcher.py:1: UserWarning: Boolean Series key will be reindexed to match DataFrame index.\n",
      "  \"\"\"Entry point for launching an IPython kernel.\n"
     ]
    }
   ],
   "source": [
    "z = z.sort_values(by=['sourcerowid'])"
   ]
  },
  {
   "cell_type": "markdown",
   "metadata": {},
   "source": [
    "# all sourcerowid is smallerthan 1315349602"
   ]
  },
  {
   "cell_type": "code",
   "execution_count": null,
   "metadata": {},
   "outputs": [],
   "source": [
    "z = z.sort_values(by=['sourcerowid'])[z.sourcerowid < 1315349602]"
   ]
  },
  {
   "cell_type": "markdown",
   "metadata": {},
   "source": [
    "# Sorting values by 2 columns  'people_id', 'optimestamp'"
   ]
  },
  {
   "cell_type": "code",
   "execution_count": 13,
   "metadata": {},
   "outputs": [],
   "source": [
    "z = z.sort_values(['people_id', 'optimestamp'], ascending=[True, True])"
   ]
  },
  {
   "cell_type": "markdown",
   "metadata": {},
   "source": [
    "# Check result"
   ]
  },
  {
   "cell_type": "code",
   "execution_count": 14,
   "metadata": {},
   "outputs": [
    {
     "data": {
      "text/html": [
       "<div>\n",
       "<style scoped>\n",
       "    .dataframe tbody tr th:only-of-type {\n",
       "        vertical-align: middle;\n",
       "    }\n",
       "\n",
       "    .dataframe tbody tr th {\n",
       "        vertical-align: top;\n",
       "    }\n",
       "\n",
       "    .dataframe thead th {\n",
       "        text-align: right;\n",
       "    }\n",
       "</style>\n",
       "<table border=\"1\" class=\"dataframe\">\n",
       "  <thead>\n",
       "    <tr style=\"text-align: right;\">\n",
       "      <th></th>\n",
       "      <th>status</th>\n",
       "      <th>sourcerowid</th>\n",
       "      <th>people_id</th>\n",
       "      <th>indexop</th>\n",
       "      <th>indexstart</th>\n",
       "      <th>indexdest</th>\n",
       "      <th>price</th>\n",
       "      <th>mailtype</th>\n",
       "      <th>mailctg</th>\n",
       "      <th>mailmass</th>\n",
       "      <th>...</th>\n",
       "      <th>start_district_id</th>\n",
       "      <th>start_timezone</th>\n",
       "      <th>dest_area_id</th>\n",
       "      <th>dest_region_id</th>\n",
       "      <th>dest_district_id</th>\n",
       "      <th>op_region_i</th>\n",
       "      <th>op_district_id</th>\n",
       "      <th>op_timezone</th>\n",
       "      <th>total</th>\n",
       "      <th>success_rate</th>\n",
       "    </tr>\n",
       "  </thead>\n",
       "  <tbody>\n",
       "    <tr>\n",
       "      <th>967952</th>\n",
       "      <td>1</td>\n",
       "      <td>944502339</td>\n",
       "      <td>1</td>\n",
       "      <td>694500</td>\n",
       "      <td>443096</td>\n",
       "      <td>694500</td>\n",
       "      <td>1998</td>\n",
       "      <td>16</td>\n",
       "      <td>4</td>\n",
       "      <td>1280</td>\n",
       "      <td>...</td>\n",
       "      <td>3.0</td>\n",
       "      <td>4.0</td>\n",
       "      <td>1751.0</td>\n",
       "      <td>8.0</td>\n",
       "      <td>2.0</td>\n",
       "      <td>8.0</td>\n",
       "      <td>2.0</td>\n",
       "      <td>11.0</td>\n",
       "      <td>0</td>\n",
       "      <td>-1</td>\n",
       "    </tr>\n",
       "    <tr>\n",
       "      <th>968003</th>\n",
       "      <td>0</td>\n",
       "      <td>852097698</td>\n",
       "      <td>1</td>\n",
       "      <td>694500</td>\n",
       "      <td>190847</td>\n",
       "      <td>694500</td>\n",
       "      <td>6167</td>\n",
       "      <td>4</td>\n",
       "      <td>4</td>\n",
       "      <td>1100</td>\n",
       "      <td>...</td>\n",
       "      <td>4.0</td>\n",
       "      <td>3.0</td>\n",
       "      <td>1751.0</td>\n",
       "      <td>8.0</td>\n",
       "      <td>2.0</td>\n",
       "      <td>8.0</td>\n",
       "      <td>2.0</td>\n",
       "      <td>11.0</td>\n",
       "      <td>0</td>\n",
       "      <td>-1</td>\n",
       "    </tr>\n",
       "    <tr>\n",
       "      <th>967954</th>\n",
       "      <td>1</td>\n",
       "      <td>694196513</td>\n",
       "      <td>1</td>\n",
       "      <td>694500</td>\n",
       "      <td>111537</td>\n",
       "      <td>694500</td>\n",
       "      <td>4221</td>\n",
       "      <td>4</td>\n",
       "      <td>4</td>\n",
       "      <td>5420</td>\n",
       "      <td>...</td>\n",
       "      <td>9.0</td>\n",
       "      <td>3.0</td>\n",
       "      <td>1751.0</td>\n",
       "      <td>8.0</td>\n",
       "      <td>2.0</td>\n",
       "      <td>8.0</td>\n",
       "      <td>2.0</td>\n",
       "      <td>11.0</td>\n",
       "      <td>0</td>\n",
       "      <td>-1</td>\n",
       "    </tr>\n",
       "    <tr>\n",
       "      <th>967992</th>\n",
       "      <td>1</td>\n",
       "      <td>824189587</td>\n",
       "      <td>1</td>\n",
       "      <td>694500</td>\n",
       "      <td>170972</td>\n",
       "      <td>694500</td>\n",
       "      <td>11069</td>\n",
       "      <td>4</td>\n",
       "      <td>4</td>\n",
       "      <td>2389</td>\n",
       "      <td>...</td>\n",
       "      <td>9.0</td>\n",
       "      <td>3.0</td>\n",
       "      <td>1751.0</td>\n",
       "      <td>8.0</td>\n",
       "      <td>2.0</td>\n",
       "      <td>8.0</td>\n",
       "      <td>2.0</td>\n",
       "      <td>11.0</td>\n",
       "      <td>0</td>\n",
       "      <td>-1</td>\n",
       "    </tr>\n",
       "  </tbody>\n",
       "</table>\n",
       "<p>4 rows × 28 columns</p>\n",
       "</div>"
      ],
      "text/plain": [
       "        status  sourcerowid  people_id  indexop  indexstart  indexdest  price  \\\n",
       "967952       1    944502339          1   694500      443096     694500   1998   \n",
       "968003       0    852097698          1   694500      190847     694500   6167   \n",
       "967954       1    694196513          1   694500      111537     694500   4221   \n",
       "967992       1    824189587          1   694500      170972     694500  11069   \n",
       "\n",
       "        mailtype  mailctg  mailmass      ...       start_district_id  \\\n",
       "967952        16        4      1280      ...                     3.0   \n",
       "968003         4        4      1100      ...                     4.0   \n",
       "967954         4        4      5420      ...                     9.0   \n",
       "967992         4        4      2389      ...                     9.0   \n",
       "\n",
       "        start_timezone  dest_area_id  dest_region_id  dest_district_id  \\\n",
       "967952             4.0        1751.0             8.0               2.0   \n",
       "968003             3.0        1751.0             8.0               2.0   \n",
       "967954             3.0        1751.0             8.0               2.0   \n",
       "967992             3.0        1751.0             8.0               2.0   \n",
       "\n",
       "       op_region_i  op_district_id  op_timezone  total  success_rate  \n",
       "967952         8.0             2.0         11.0      0            -1  \n",
       "968003         8.0             2.0         11.0      0            -1  \n",
       "967954         8.0             2.0         11.0      0            -1  \n",
       "967992         8.0             2.0         11.0      0            -1  \n",
       "\n",
       "[4 rows x 28 columns]"
      ]
     },
     "execution_count": 14,
     "metadata": {},
     "output_type": "execute_result"
    }
   ],
   "source": [
    "z[:4]"
   ]
  },
  {
   "cell_type": "markdown",
   "metadata": {},
   "source": [
    "# calculate total(How many) and success_rate(done/total)"
   ]
  },
  {
   "cell_type": "code",
   "execution_count": 15,
   "metadata": {},
   "outputs": [
    {
     "name": "stdout",
     "output_type": "stream",
     "text": [
      "0\n",
      "1000000\n",
      "2000000\n",
      "3000000\n",
      "4000000\n",
      "5000000\n",
      "6000000\n",
      "7000000\n",
      "8000000\n",
      "9000000\n"
     ]
    }
   ],
   "source": [
    "a = {\"people_id\": 1, \"status\": 1}\n",
    "done = 0\n",
    "total = 0\n",
    "for index,row in z.iterrows():\n",
    "    if index%1000000 == 0: \n",
    "        print(index)\n",
    "    if a['people_id'] == row['people_id']:\n",
    "        if (row['status'] == 1):\n",
    "            done += 1\n",
    "        total += 1\n",
    "        if (total > 0):\n",
    "            z.at[index, 'total'] = total\n",
    "            z.at[index, 'success_rate'] = done / total * 100   \n",
    "    else:\n",
    "        done = 0\n",
    "        total = 0\n",
    "        a = row"
   ]
  },
  {
   "cell_type": "markdown",
   "metadata": {},
   "source": [
    "# Checking"
   ]
  },
  {
   "cell_type": "code",
   "execution_count": 16,
   "metadata": {},
   "outputs": [
    {
     "data": {
      "text/html": [
       "<div>\n",
       "<style scoped>\n",
       "    .dataframe tbody tr th:only-of-type {\n",
       "        vertical-align: middle;\n",
       "    }\n",
       "\n",
       "    .dataframe tbody tr th {\n",
       "        vertical-align: top;\n",
       "    }\n",
       "\n",
       "    .dataframe thead th {\n",
       "        text-align: right;\n",
       "    }\n",
       "</style>\n",
       "<table border=\"1\" class=\"dataframe\">\n",
       "  <thead>\n",
       "    <tr style=\"text-align: right;\">\n",
       "      <th></th>\n",
       "      <th>status</th>\n",
       "      <th>sourcerowid</th>\n",
       "      <th>people_id</th>\n",
       "      <th>indexop</th>\n",
       "      <th>indexstart</th>\n",
       "      <th>indexdest</th>\n",
       "      <th>price</th>\n",
       "      <th>mailtype</th>\n",
       "      <th>mailctg</th>\n",
       "      <th>mailmass</th>\n",
       "      <th>...</th>\n",
       "      <th>start_district_id</th>\n",
       "      <th>start_timezone</th>\n",
       "      <th>dest_area_id</th>\n",
       "      <th>dest_region_id</th>\n",
       "      <th>dest_district_id</th>\n",
       "      <th>op_region_i</th>\n",
       "      <th>op_district_id</th>\n",
       "      <th>op_timezone</th>\n",
       "      <th>total</th>\n",
       "      <th>success_rate</th>\n",
       "    </tr>\n",
       "  </thead>\n",
       "  <tbody>\n",
       "    <tr>\n",
       "      <th>967952</th>\n",
       "      <td>1</td>\n",
       "      <td>944502339</td>\n",
       "      <td>1</td>\n",
       "      <td>694500</td>\n",
       "      <td>443096</td>\n",
       "      <td>694500</td>\n",
       "      <td>1998</td>\n",
       "      <td>16</td>\n",
       "      <td>4</td>\n",
       "      <td>1280</td>\n",
       "      <td>...</td>\n",
       "      <td>3.0</td>\n",
       "      <td>4.0</td>\n",
       "      <td>1751.0</td>\n",
       "      <td>8.0</td>\n",
       "      <td>2.0</td>\n",
       "      <td>8.0</td>\n",
       "      <td>2.0</td>\n",
       "      <td>11.0</td>\n",
       "      <td>1</td>\n",
       "      <td>100</td>\n",
       "    </tr>\n",
       "    <tr>\n",
       "      <th>968003</th>\n",
       "      <td>0</td>\n",
       "      <td>852097698</td>\n",
       "      <td>1</td>\n",
       "      <td>694500</td>\n",
       "      <td>190847</td>\n",
       "      <td>694500</td>\n",
       "      <td>6167</td>\n",
       "      <td>4</td>\n",
       "      <td>4</td>\n",
       "      <td>1100</td>\n",
       "      <td>...</td>\n",
       "      <td>4.0</td>\n",
       "      <td>3.0</td>\n",
       "      <td>1751.0</td>\n",
       "      <td>8.0</td>\n",
       "      <td>2.0</td>\n",
       "      <td>8.0</td>\n",
       "      <td>2.0</td>\n",
       "      <td>11.0</td>\n",
       "      <td>2</td>\n",
       "      <td>50</td>\n",
       "    </tr>\n",
       "    <tr>\n",
       "      <th>967954</th>\n",
       "      <td>1</td>\n",
       "      <td>694196513</td>\n",
       "      <td>1</td>\n",
       "      <td>694500</td>\n",
       "      <td>111537</td>\n",
       "      <td>694500</td>\n",
       "      <td>4221</td>\n",
       "      <td>4</td>\n",
       "      <td>4</td>\n",
       "      <td>5420</td>\n",
       "      <td>...</td>\n",
       "      <td>9.0</td>\n",
       "      <td>3.0</td>\n",
       "      <td>1751.0</td>\n",
       "      <td>8.0</td>\n",
       "      <td>2.0</td>\n",
       "      <td>8.0</td>\n",
       "      <td>2.0</td>\n",
       "      <td>11.0</td>\n",
       "      <td>3</td>\n",
       "      <td>66</td>\n",
       "    </tr>\n",
       "    <tr>\n",
       "      <th>967992</th>\n",
       "      <td>1</td>\n",
       "      <td>824189587</td>\n",
       "      <td>1</td>\n",
       "      <td>694500</td>\n",
       "      <td>170972</td>\n",
       "      <td>694500</td>\n",
       "      <td>11069</td>\n",
       "      <td>4</td>\n",
       "      <td>4</td>\n",
       "      <td>2389</td>\n",
       "      <td>...</td>\n",
       "      <td>9.0</td>\n",
       "      <td>3.0</td>\n",
       "      <td>1751.0</td>\n",
       "      <td>8.0</td>\n",
       "      <td>2.0</td>\n",
       "      <td>8.0</td>\n",
       "      <td>2.0</td>\n",
       "      <td>11.0</td>\n",
       "      <td>4</td>\n",
       "      <td>75</td>\n",
       "    </tr>\n",
       "  </tbody>\n",
       "</table>\n",
       "<p>4 rows × 28 columns</p>\n",
       "</div>"
      ],
      "text/plain": [
       "        status  sourcerowid  people_id  indexop  indexstart  indexdest  price  \\\n",
       "967952       1    944502339          1   694500      443096     694500   1998   \n",
       "968003       0    852097698          1   694500      190847     694500   6167   \n",
       "967954       1    694196513          1   694500      111537     694500   4221   \n",
       "967992       1    824189587          1   694500      170972     694500  11069   \n",
       "\n",
       "        mailtype  mailctg  mailmass      ...       start_district_id  \\\n",
       "967952        16        4      1280      ...                     3.0   \n",
       "968003         4        4      1100      ...                     4.0   \n",
       "967954         4        4      5420      ...                     9.0   \n",
       "967992         4        4      2389      ...                     9.0   \n",
       "\n",
       "        start_timezone  dest_area_id  dest_region_id  dest_district_id  \\\n",
       "967952             4.0        1751.0             8.0               2.0   \n",
       "968003             3.0        1751.0             8.0               2.0   \n",
       "967954             3.0        1751.0             8.0               2.0   \n",
       "967992             3.0        1751.0             8.0               2.0   \n",
       "\n",
       "       op_region_i  op_district_id  op_timezone  total  success_rate  \n",
       "967952         8.0             2.0         11.0      1           100  \n",
       "968003         8.0             2.0         11.0      2            50  \n",
       "967954         8.0             2.0         11.0      3            66  \n",
       "967992         8.0             2.0         11.0      4            75  \n",
       "\n",
       "[4 rows x 28 columns]"
      ]
     },
     "execution_count": 16,
     "metadata": {},
     "output_type": "execute_result"
    }
   ],
   "source": [
    "z[:4]"
   ]
  },
  {
   "cell_type": "markdown",
   "metadata": {},
   "source": [
    "# Label encoder for gender "
   ]
  },
  {
   "cell_type": "code",
   "execution_count": 17,
   "metadata": {},
   "outputs": [
    {
     "data": {
      "text/plain": [
       "LabelEncoder()"
      ]
     },
     "execution_count": 17,
     "metadata": {},
     "output_type": "execute_result"
    }
   ],
   "source": [
    "from sklearn import preprocessing\n",
    "le = preprocessing.LabelEncoder()\n",
    "le.fit([-1,'M','F'])"
   ]
  },
  {
   "cell_type": "code",
   "execution_count": 18,
   "metadata": {},
   "outputs": [],
   "source": [
    "z[\"gender\"] = le.transform(z.gender) "
   ]
  },
  {
   "cell_type": "markdown",
   "metadata": {},
   "source": [
    "# Checking"
   ]
  },
  {
   "cell_type": "code",
   "execution_count": null,
   "metadata": {},
   "outputs": [],
   "source": [
    "z.gender.unique()"
   ]
  },
  {
   "cell_type": "code",
   "execution_count": null,
   "metadata": {},
   "outputs": [],
   "source": [
    "z.drop(z.columns[0], axis=1, inplace=True)"
   ]
  },
  {
   "cell_type": "code",
   "execution_count": null,
   "metadata": {},
   "outputs": [],
   "source": [
    "z.drop(z.columns[1], axis=1, inplace=True)"
   ]
  },
  {
   "cell_type": "code",
   "execution_count": null,
   "metadata": {},
   "outputs": [],
   "source": [
    "# z[\"optimestamp\"] = pd.to_datetime(z[\"optimestamp\"])"
   ]
  },
  {
   "cell_type": "code",
   "execution_count": null,
   "metadata": {},
   "outputs": [],
   "source": [
    "# z[\"month\"] = z[\"optimestamp\"].apply(lambda x: int(str(x).split(\"-\")[1]))"
   ]
  },
  {
   "cell_type": "code",
   "execution_count": null,
   "metadata": {},
   "outputs": [],
   "source": [
    "# z[\"day\"] = z[\"optimestamp\"].apply(lambda x: int(str(x).replace(\" \",\"-\").split(\"-\")[2]))"
   ]
  },
  {
   "cell_type": "code",
   "execution_count": null,
   "metadata": {},
   "outputs": [],
   "source": [
    "# z.drop(z.columns[8], axis=1, inplace=True)"
   ]
  },
  {
   "cell_type": "code",
   "execution_count": null,
   "metadata": {},
   "outputs": [],
   "source": [
    "# z.drop([\"month\", \"days\", \"day\"], axis=1, inplace=True)"
   ]
  },
  {
   "cell_type": "code",
   "execution_count": 19,
   "metadata": {},
   "outputs": [],
   "source": [
    "z.to_csv(\"10mlnsourcerowid.csv\")\n",
    "# j = 0 \n",
    "# for id in x:\n",
    "#     rows = z.loc[z['people_id'] == id]\n",
    "#     total = 0\n",
    "#     done = 0\n",
    "#     if(j%100000==0):\n",
    "#         print(j)\n",
    "#     for index, row in rows.iterrows():\n",
    "#         j = j + 1\n",
    "#         if (total > 0):\n",
    "# #             print(z[['people_id','total']].groupby('people_id').sum()\n",
    "#             z.at[index, 'total'] = total\n",
    "#             z.at[index, 'success_rate'] = done / total * 100        \n",
    "#         if (row['status'] == 1):\n",
    "#             done += 1\n",
    "#         total += 1"
   ]
  },
  {
   "cell_type": "code",
   "execution_count": null,
   "metadata": {},
   "outputs": [],
   "source": []
  },
  {
   "cell_type": "code",
   "execution_count": null,
   "metadata": {},
   "outputs": [],
   "source": []
  }
 ],
 "metadata": {
  "kernelspec": {
   "display_name": "Python 3",
   "language": "python",
   "name": "python3"
  },
  "language_info": {
   "codemirror_mode": {
    "name": "ipython",
    "version": 3
   },
   "file_extension": ".py",
   "mimetype": "text/x-python",
   "name": "python",
   "nbconvert_exporter": "python",
   "pygments_lexer": "ipython3",
   "version": "3.7.4"
  }
 },
 "nbformat": 4,
 "nbformat_minor": 2
}
