{
 "cells": [
  {
   "cell_type": "markdown",
   "metadata": {},
   "source": [
    "\n",
    "\n",
    "# Коллоборативная фильтрация. Факторизация матриц"
   ]
  },
  {
   "cell_type": "markdown",
   "metadata": {},
   "source": [
    "Все началось с конкурса netflix: https://www.netflixprize.com/leaderboard.html\n",
    "\n",
    "Задача - предсказать какой рейтинг пользователь поставит фильму\n",
    "\n",
    "Приз - 1 млн долларов\n",
    "\n",
    "Метрика - RMSE\n",
    "\n",
    "Задача - улучшить RMSE полученную текущей моделью Netflix на 10%"
   ]
  },
  {
   "cell_type": "markdown",
   "metadata": {},
   "source": [
    "<img src='netflix_progress.jpg'>"
   ]
  },
  {
   "cell_type": "markdown",
   "metadata": {},
   "source": [
    "<img src='mf.png'>\n",
    "\n",
    "Для любого пользователя можно предсказать оценки, которые он еще не ставил. Обучать модель нужно так, чтобы она давала наименьшие ошибки для уже известных моделей.\n",
    "\n",
    "Предсказание - скалярное произведение вектора для пользователя и вектора для объекта.\n",
    "\n",
    "При таком подходе необходимо обучить намного меньше параметров модели.\n",
    "\n",
    "размерность матриц:\n",
    "\n",
    "- R - n_users x n_items\n",
    "- P - n_users x n_factors\n",
    "- Q - n_factors x n_items\n",
    "\n",
    "n_factors - гиперпараметр, мы сами выбираем\n",
    "\n",
    "Пример:\n",
    "- n_users = 1000\n",
    "- n_items = 2000\n",
    "- n_factors = 10\n",
    "\n",
    "- R - 2 000 000 параметров\n",
    "- P, Q - 30 000 параметров"
   ]
  },
  {
   "cell_type": "markdown",
   "metadata": {},
   "source": [
    "SVD напрямую применить нельзя, так как очень много отсутствующих значений (точнее можно, как-то заполнив их, но получается не очень хорошее качество).\n",
    "\n",
    "Поэтому формулируется задача оптимизации по известным оценкам $K$:\n",
    "\n",
    "### SVD no bias\n",
    "\n",
    "$r̂_{ui}= q_i^T p_u$\n",
    "\n",
    "$ min_{p, q} \\sum_{u,i \\in K} (r_{ui} - q_i^T p_u)^2 + \\lambda (||q_i||^2 + ||p_u||^2)$\n",
    "\n",
    "Как решают эту проблему оптимизации:\n",
    "\n",
    "1) SGD - берем производные  по $p_u$ и $q_i$\n",
    "\n",
    "2) ALS - Alternating least squares:\n",
    "- зафиксируем $p_u$ - задача имеет аналитическое решение для $q_i$ ( метод наименьших квадратов с регурялизацией)\n",
    "- зафиксируем $q_i$ - задача имеет аналитическое решение для $p_u$\n",
    "\n",
    "3) Markov Chain Monte Carlo (MCMC) Inference"
   ]
  },
  {
   "cell_type": "markdown",
   "metadata": {},
   "source": [
    "### SVD biased\n",
    "\n",
    "$r̂_{ui} = μ + b_u + b_i + q_i^T p_u$\n",
    "\n",
    "μ - глобальный средний рейтинг\n",
    "\n",
    "b_u - средний рейтинг для пользователя\n",
    "\n",
    "b_i - средний рейтинг для item\n",
    "\n",
    "$ min_{p, q} \\sum_{u,i \\in K} (r_{ui} - (μ + b_u + b_i + q_i^T p_u))^2 + \\lambda (b_i^2+b_u^2 + ||q_i||^2 + ||p_u||^2)$"
   ]
  },
  {
   "cell_type": "markdown",
   "metadata": {},
   "source": [
    "## Пример\n",
    "\n",
    "данные с оценками фильмов:\n",
    "\n",
    "https://grouplens.org/datasets/movielens/100k/\n",
    "\n",
    "https://www.kaggle.com/prajitdatta/movielens-100k-dataset"
   ]
  },
  {
   "cell_type": "raw",
   "metadata": {},
   "source": [
    "u.data     -- The full u data set, 100000 ratings by 943 users on 1682 items.  \n",
    "              Each user has rated at least 20 movies.  Users and items are  \n",
    "              numbered consecutively from 1.  The data is randomly  \n",
    "              ordered. This is a tab separated list of   \n",
    "\t         user id | item id | rating | timestamp.    \n",
    "              The time stamps are unix seconds since 1/1/1970 UTC     \n",
    "              \n",
    "u.item     -- Information about the items (movies); this is a tab separated\n",
    "              list of\n",
    "              movie id | movie title | release date | video release date |\n",
    "              IMDb URL | unknown | Action | Adventure | Animation |\n",
    "              Children's | Comedy | Crime | Documentary | Drama | Fantasy |\n",
    "              Film-Noir | Horror | Musical | Mystery | Romance | Sci-Fi |\n",
    "              Thriller | War | Western |\n",
    "              The last 19 fields are the genres, a 1 indicates the movie\n",
    "              is of that genre, a 0 indicates it is not; movies can be in\n",
    "              several genres at once.\n",
    "              The movie ids are the ones used in the u.data data set.\n",
    "              \n",
    "u.user     -- Demographic information about the users; this is a tab\n",
    "              separated list of\n",
    "              user id | age | gender | occupation | zip code\n",
    "              The user ids are the ones used in the u.data data set.\n",
    "\n",
    "..."
   ]
  },
  {
   "cell_type": "markdown",
   "metadata": {},
   "source": [
    "библиотеки:\n",
    "- pandas\n",
    "- surprise\n",
    "- numpy\n",
    "- fastFM\n",
    "- git+git://github.com/scikit-learn/scikit-learn.git\n",
    "\n",
    "\n",
    "Установить можно так:\n",
    "```bash\n",
    "pip install -r requirements.txt\n",
    "```"
   ]
  },
  {
   "cell_type": "code",
   "execution_count": 2,
   "metadata": {},
   "outputs": [],
   "source": [
    "%load_ext autoreload\n",
    "%autoreload 2"
   ]
  },
  {
   "cell_type": "code",
   "execution_count": 8,
   "metadata": {},
   "outputs": [],
   "source": [
    "from surprise import SVD\n",
    "from surprise import Dataset\n",
    "from surprise.model_selection import cross_validate, GridSearchCV\n",
    "from surprise import Reader, Dataset, SVD, evaluate\n",
    "import numpy as np"
   ]
  },
  {
   "cell_type": "markdown",
   "metadata": {},
   "source": [
    "## Чтение данных в surprise"
   ]
  },
  {
   "cell_type": "code",
   "execution_count": 9,
   "metadata": {},
   "outputs": [],
   "source": [
    "# Load the movielens-100k dataset (download it if needed).\n",
    "data = Dataset.load_builtin('ml-100k')\n",
    "\n",
    "# или можно загрузить данные из файла / пандас data frame\n",
    "data = Dataset.load_from_file('ml-100k/ua.base', reader=Reader(sep='\\t'))"
   ]
  },
  {
   "cell_type": "code",
   "execution_count": 5,
   "metadata": {},
   "outputs": [],
   "source": [
    "# Load the movielens-100k dataset (download it if needed).\n",
    "data = Dataset.load_builtin('ml-100k')\n",
    "\n",
    "# # Use the famous SVD algorithm.\n",
    "svd_bias = SVD()\n",
    "svd_no_bias = SVD(biased=False)"
   ]
  },
  {
   "cell_type": "markdown",
   "metadata": {},
   "source": [
    "## Сравним biased и not biased версию SVD"
   ]
  },
  {
   "cell_type": "code",
   "execution_count": 7,
   "metadata": {},
   "outputs": [
    {
     "name": "stdout",
     "output_type": "stream",
     "text": [
      "Evaluating RMSE, MAE of algorithm SVD on 5 split(s).\n",
      "\n",
      "                  Fold 1  Fold 2  Fold 3  Fold 4  Fold 5  Mean    Std     \n",
      "RMSE (testset)    0.9317  0.9337  0.9368  0.9436  0.9404  0.9372  0.0043  \n",
      "MAE (testset)     0.7349  0.7328  0.7367  0.7437  0.7407  0.7378  0.0039  \n",
      "Fit time          7.71    8.13    6.80    8.21    7.30    7.63    0.53    \n",
      "Test time         0.43    0.20    0.19    0.31    0.19    0.26    0.09    \n"
     ]
    },
    {
     "data": {
      "text/plain": [
       "{'test_rmse': array([0.93170947, 0.93368729, 0.93680563, 0.94356846, 0.94042431]),\n",
       " 'test_mae': array([0.73494358, 0.7327895 , 0.73672189, 0.74366837, 0.74072947]),\n",
       " 'fit_time': (7.709680795669556,\n",
       "  8.132670879364014,\n",
       "  6.79968786239624,\n",
       "  8.20711612701416,\n",
       "  7.2996437549591064),\n",
       " 'test_time': (0.42635011672973633,\n",
       "  0.19845032691955566,\n",
       "  0.18872594833374023,\n",
       "  0.3060462474822998,\n",
       "  0.18769001960754395)}"
      ]
     },
     "execution_count": 7,
     "metadata": {},
     "output_type": "execute_result"
    }
   ],
   "source": [
    "# Run 5-fold cross-validation and print results.\n",
    "cross_validate(svd_bias, data, measures=['RMSE', 'MAE'], cv=5, verbose=True)"
   ]
  },
  {
   "cell_type": "code",
   "execution_count": 8,
   "metadata": {},
   "outputs": [
    {
     "name": "stdout",
     "output_type": "stream",
     "text": [
      "Evaluating RMSE, MAE of algorithm SVD on 5 split(s).\n",
      "\n",
      "                  Fold 1  Fold 2  Fold 3  Fold 4  Fold 5  Mean    Std     \n",
      "RMSE (testset)    0.9526  0.9532  0.9516  0.9442  0.9444  0.9492  0.0040  \n",
      "MAE (testset)     0.7513  0.7497  0.7512  0.7426  0.7430  0.7476  0.0039  \n",
      "Fit time          8.14    6.72    6.79    6.93    7.14    7.14    0.52    \n",
      "Test time         0.16    0.25    0.17    0.31    0.37    0.25    0.08    \n"
     ]
    },
    {
     "data": {
      "text/plain": [
       "{'test_rmse': array([0.95260899, 0.95322096, 0.95157809, 0.94424367, 0.94440674]),\n",
       " 'test_mae': array([0.75125894, 0.74972678, 0.75121073, 0.74261804, 0.74301369]),\n",
       " 'fit_time': (8.143501996994019,\n",
       "  6.719550132751465,\n",
       "  6.7867021560668945,\n",
       "  6.926789999008179,\n",
       "  7.143996953964233),\n",
       " 'test_time': (0.16225695610046387,\n",
       "  0.2450881004333496,\n",
       "  0.16622209548950195,\n",
       "  0.3088991641998291,\n",
       "  0.36506009101867676)}"
      ]
     },
     "execution_count": 8,
     "metadata": {},
     "output_type": "execute_result"
    }
   ],
   "source": [
    "# Run 5-fold cross-validation and print results.\n",
    "cross_validate(svd_no_bias, data, measures=['RMSE', 'MAE'], cv=5, verbose=True)"
   ]
  },
  {
   "cell_type": "markdown",
   "metadata": {},
   "source": [
    "# Найдем оптимальные параметры и проверим ошибку на test set"
   ]
  },
  {
   "cell_type": "code",
   "execution_count": 12,
   "metadata": {},
   "outputs": [],
   "source": [
    "param_grid = {\n",
    "    'lr_all': [0.005, 0.05],\n",
    "    'reg_all': [0.02, 0.002],\n",
    "    'n_factors': [5, 10, 100, 500],\n",
    "    'n_epochs': [10, 100]\n",
    "}\n",
    "\n",
    "gs = GridSearchCV(SVD, param_grid, measures=['rmse', 'mae'], cv=3)\n",
    "\n",
    "gs.fit(data)\n",
    "\n",
    "# best RMSE score\n",
    "print(gs.best_score['rmse'])"
   ]
  },
  {
   "cell_type": "code",
   "execution_count": null,
   "metadata": {},
   "outputs": [],
   "source": [
    "print(gs.best_score)"
   ]
  },
  {
   "cell_type": "code",
   "execution_count": null,
   "metadata": {},
   "outputs": [],
   "source": [
    "gs.best_params"
   ]
  },
  {
   "cell_type": "code",
   "execution_count": 14,
   "metadata": {},
   "outputs": [],
   "source": [
    "svd = SVD(**gs.best_params['rmse'])"
   ]
  },
  {
   "cell_type": "code",
   "execution_count": 15,
   "metadata": {},
   "outputs": [],
   "source": [
    "from surprise.accuracy import mae, rmse"
   ]
  },
  {
   "cell_type": "code",
   "execution_count": 10,
   "metadata": {},
   "outputs": [],
   "source": [
    "data_train = Dataset.load_from_file('ml-100k/ua.base', reader=Reader(sep='\\t'))\n",
    "data_test = Dataset.load_from_file('ml-100k/ua.test', reader=Reader(sep='\\t'))\n",
    "\n",
    "train_set = data_train.build_full_trainset()\n",
    "test_set = data_test.build_full_trainset().build_testset()\n",
    "\n",
    "svd = SVD()"
   ]
  },
  {
   "cell_type": "code",
   "execution_count": 17,
   "metadata": {},
   "outputs": [
    {
     "name": "stderr",
     "output_type": "stream",
     "text": [
      "/Users/nazhmeddinbabakhanov/anaconda3/lib/python3.6/site-packages/surprise/prediction_algorithms/algo_base.py:51: UserWarning: train() is deprecated. Use fit() instead\n",
      "  warnings.warn('train() is deprecated. Use fit() instead', UserWarning)\n"
     ]
    },
    {
     "data": {
      "text/plain": [
       "<surprise.prediction_algorithms.matrix_factorization.SVD at 0x10fcd8e10>"
      ]
     },
     "execution_count": 17,
     "metadata": {},
     "output_type": "execute_result"
    }
   ],
   "source": [
    "svd.train(train_set)"
   ]
  },
  {
   "cell_type": "code",
   "execution_count": 18,
   "metadata": {},
   "outputs": [
    {
     "name": "stdout",
     "output_type": "stream",
     "text": [
      "MAE:  0.7565\n",
      "RMSE: 0.9533\n"
     ]
    },
    {
     "data": {
      "text/plain": [
       "(0.7565499447581555, 0.953310571577554)"
      ]
     },
     "execution_count": 18,
     "metadata": {},
     "output_type": "execute_result"
    }
   ],
   "source": [
    "pred = svd.test(test_set)\n",
    "mae(pred), rmse(pred)"
   ]
  },
  {
   "cell_type": "markdown",
   "metadata": {},
   "source": [
    "## то же самое, но через метод predict "
   ]
  },
  {
   "cell_type": "code",
   "execution_count": 19,
   "metadata": {},
   "outputs": [
    {
     "name": "stdout",
     "output_type": "stream",
     "text": [
      "sklearn MAE: 0.7565\n",
      "sklearn RMSE: 0.9533\n"
     ]
    }
   ],
   "source": [
    "from sklearn.metrics import mean_squared_error, mean_absolute_error\n",
    "\n",
    "\n",
    "targets, preds = zip(*[(t, svd.predict(u_id, i_id).est) for u_id, i_id, t, _ in data_test.raw_ratings])\n",
    "print('sklearn MAE: {:.4f}'.format(mean_absolute_error(targets, preds)))\n",
    "print('sklearn RMSE: {:.4f}'.format(np.sqrt(mean_squared_error(targets, preds))))"
   ]
  },
  {
   "cell_type": "code",
   "execution_count": 20,
   "metadata": {},
   "outputs": [
    {
     "data": {
      "text/plain": [
       "[('1', '1', 5.0, None), ('1', '2', 3.0, None)]"
      ]
     },
     "execution_count": 20,
     "metadata": {},
     "output_type": "execute_result"
    }
   ],
   "source": [
    "data_train.raw_ratings[:2]"
   ]
  },
  {
   "cell_type": "code",
   "execution_count": 21,
   "metadata": {},
   "outputs": [
    {
     "data": {
      "text/plain": [
       "3.5238268742409184"
      ]
     },
     "execution_count": 21,
     "metadata": {},
     "output_type": "execute_result"
    }
   ],
   "source": [
    "svd.default_prediction()"
   ]
  },
  {
   "cell_type": "code",
   "execution_count": 22,
   "metadata": {},
   "outputs": [
    {
     "name": "stdout",
     "output_type": "stream",
     "text": [
      "user: 1          item: 1          r_ui = None   est = 3.75   {'was_impossible': False}\n",
      "user: 1          item: 1          r_ui = None   est = 3.52   {'was_impossible': False}\n",
      "default prediction: 3.52\n"
     ]
    }
   ],
   "source": [
    "print(svd.predict('1', '1'))\n",
    "print(svd.predict(1, 1))\n",
    "print('default prediction: {:.2f}'.format(svd.default_prediction()))"
   ]
  },
  {
   "cell_type": "markdown",
   "metadata": {},
   "source": [
    "# Обобщение идеи. Факторизационные машины"
   ]
  },
  {
   "cell_type": "markdown",
   "metadata": {},
   "source": [
    "Метод SVD рассмотренный выше мы применяли только к матрице user - item.\n",
    "\n",
    "Что если мы хотим учесть какие-то другие факторы для предсказания рейтинга:\n",
    "- implicit feedback (учесть страницы фильмов на которые заходил пользователь, но не поставил рейтинг)\n",
    "- учесть как предпочтения менялись со временем\n",
    "- учесть дополнительную информацию о продуктах (жанр фильма)\n",
    "- учесть дополнительную инфо о пользователя (возрастная группа, пол)\n",
    "\n",
    "Очень много kaggle соревнований на рекомендации были выиграны с помощью факторизационных машин\n",
    "\n",
    "\n",
    "<img src='fm.png'>\n",
    "\n",
    "\n",
    "источник: https://www.csie.ntu.edu.tw/~b97053/paper/Factorization%20Machines%20with%20libFM.pdf"
   ]
  },
  {
   "cell_type": "markdown",
   "metadata": {},
   "source": [
    "$y_i = w_0 + \\sum_{j=1:P} w_{ij} x_{ij}  +  \\sum_{j=1:P} \\sum_{k > j} x_{ij} x_{i_k} < v_j v_k>$\n",
    "\n",
    "статьи:\n",
    "\n",
    "https://arxiv.org/pdf/1505.00641.pdf\n",
    "\n",
    "https://www.csie.ntu.edu.tw/~b97053/paper/Factorization%20Machines%20with%20libFM.pdf"
   ]
  },
  {
   "cell_type": "markdown",
   "metadata": {},
   "source": [
    "# рассмотрим библиотеку fastFM\n",
    "\n",
    "http://ibayer.github.io/fastFM/index.html"
   ]
  },
  {
   "cell_type": "code",
   "execution_count": 2,
   "metadata": {},
   "outputs": [],
   "source": [
    "from fastFM import als, sgd\n",
    "import pandas as pd\n",
    "import numpy as np"
   ]
  },
  {
   "cell_type": "code",
   "execution_count": 24,
   "metadata": {},
   "outputs": [],
   "source": [
    "from sklearn.preprocessing import CategoricalEncoder\n",
    "# pip install git+git://github.com/scikit-learn/scikit-learn.git\n",
    "from sklearn.metrics import mean_squared_error, mean_absolute_error"
   ]
  },
  {
   "cell_type": "code",
   "execution_count": 12,
   "metadata": {},
   "outputs": [
    {
     "data": {
      "text/html": [
       "<div>\n",
       "<style scoped>\n",
       "    .dataframe tbody tr th:only-of-type {\n",
       "        vertical-align: middle;\n",
       "    }\n",
       "\n",
       "    .dataframe tbody tr th {\n",
       "        vertical-align: top;\n",
       "    }\n",
       "\n",
       "    .dataframe thead th {\n",
       "        text-align: right;\n",
       "    }\n",
       "</style>\n",
       "<table border=\"1\" class=\"dataframe\">\n",
       "  <thead>\n",
       "    <tr style=\"text-align: right;\">\n",
       "      <th></th>\n",
       "      <th>item_id</th>\n",
       "      <th>movie title</th>\n",
       "      <th>release date</th>\n",
       "      <th>video release date</th>\n",
       "      <th>IMDb URL</th>\n",
       "      <th>unknown</th>\n",
       "      <th>Action</th>\n",
       "      <th>Adventure</th>\n",
       "      <th>Animation</th>\n",
       "      <th>Children's</th>\n",
       "      <th>...</th>\n",
       "      <th>Fantasy</th>\n",
       "      <th>Film-Noir</th>\n",
       "      <th>Horror</th>\n",
       "      <th>Musical</th>\n",
       "      <th>Mystery</th>\n",
       "      <th>Romance</th>\n",
       "      <th>Sci-Fi</th>\n",
       "      <th>Thriller</th>\n",
       "      <th>War</th>\n",
       "      <th>Western</th>\n",
       "    </tr>\n",
       "  </thead>\n",
       "  <tbody>\n",
       "    <tr>\n",
       "      <th>0</th>\n",
       "      <td>1</td>\n",
       "      <td>Toy Story (1995)</td>\n",
       "      <td>01-Jan-1995</td>\n",
       "      <td>NaN</td>\n",
       "      <td>http://us.imdb.com/M/title-exact?Toy%20Story%2...</td>\n",
       "      <td>0</td>\n",
       "      <td>0</td>\n",
       "      <td>0</td>\n",
       "      <td>1</td>\n",
       "      <td>1</td>\n",
       "      <td>...</td>\n",
       "      <td>0</td>\n",
       "      <td>0</td>\n",
       "      <td>0</td>\n",
       "      <td>0</td>\n",
       "      <td>0</td>\n",
       "      <td>0</td>\n",
       "      <td>0</td>\n",
       "      <td>0</td>\n",
       "      <td>0</td>\n",
       "      <td>0</td>\n",
       "    </tr>\n",
       "    <tr>\n",
       "      <th>1</th>\n",
       "      <td>2</td>\n",
       "      <td>GoldenEye (1995)</td>\n",
       "      <td>01-Jan-1995</td>\n",
       "      <td>NaN</td>\n",
       "      <td>http://us.imdb.com/M/title-exact?GoldenEye%20(...</td>\n",
       "      <td>0</td>\n",
       "      <td>1</td>\n",
       "      <td>1</td>\n",
       "      <td>0</td>\n",
       "      <td>0</td>\n",
       "      <td>...</td>\n",
       "      <td>0</td>\n",
       "      <td>0</td>\n",
       "      <td>0</td>\n",
       "      <td>0</td>\n",
       "      <td>0</td>\n",
       "      <td>0</td>\n",
       "      <td>0</td>\n",
       "      <td>1</td>\n",
       "      <td>0</td>\n",
       "      <td>0</td>\n",
       "    </tr>\n",
       "    <tr>\n",
       "      <th>2</th>\n",
       "      <td>3</td>\n",
       "      <td>Four Rooms (1995)</td>\n",
       "      <td>01-Jan-1995</td>\n",
       "      <td>NaN</td>\n",
       "      <td>http://us.imdb.com/M/title-exact?Four%20Rooms%...</td>\n",
       "      <td>0</td>\n",
       "      <td>0</td>\n",
       "      <td>0</td>\n",
       "      <td>0</td>\n",
       "      <td>0</td>\n",
       "      <td>...</td>\n",
       "      <td>0</td>\n",
       "      <td>0</td>\n",
       "      <td>0</td>\n",
       "      <td>0</td>\n",
       "      <td>0</td>\n",
       "      <td>0</td>\n",
       "      <td>0</td>\n",
       "      <td>1</td>\n",
       "      <td>0</td>\n",
       "      <td>0</td>\n",
       "    </tr>\n",
       "    <tr>\n",
       "      <th>3</th>\n",
       "      <td>4</td>\n",
       "      <td>Get Shorty (1995)</td>\n",
       "      <td>01-Jan-1995</td>\n",
       "      <td>NaN</td>\n",
       "      <td>http://us.imdb.com/M/title-exact?Get%20Shorty%...</td>\n",
       "      <td>0</td>\n",
       "      <td>1</td>\n",
       "      <td>0</td>\n",
       "      <td>0</td>\n",
       "      <td>0</td>\n",
       "      <td>...</td>\n",
       "      <td>0</td>\n",
       "      <td>0</td>\n",
       "      <td>0</td>\n",
       "      <td>0</td>\n",
       "      <td>0</td>\n",
       "      <td>0</td>\n",
       "      <td>0</td>\n",
       "      <td>0</td>\n",
       "      <td>0</td>\n",
       "      <td>0</td>\n",
       "    </tr>\n",
       "    <tr>\n",
       "      <th>4</th>\n",
       "      <td>5</td>\n",
       "      <td>Copycat (1995)</td>\n",
       "      <td>01-Jan-1995</td>\n",
       "      <td>NaN</td>\n",
       "      <td>http://us.imdb.com/M/title-exact?Copycat%20(1995)</td>\n",
       "      <td>0</td>\n",
       "      <td>0</td>\n",
       "      <td>0</td>\n",
       "      <td>0</td>\n",
       "      <td>0</td>\n",
       "      <td>...</td>\n",
       "      <td>0</td>\n",
       "      <td>0</td>\n",
       "      <td>0</td>\n",
       "      <td>0</td>\n",
       "      <td>0</td>\n",
       "      <td>0</td>\n",
       "      <td>0</td>\n",
       "      <td>1</td>\n",
       "      <td>0</td>\n",
       "      <td>0</td>\n",
       "    </tr>\n",
       "  </tbody>\n",
       "</table>\n",
       "<p>5 rows × 24 columns</p>\n",
       "</div>"
      ],
      "text/plain": [
       "   item_id        movie title release date  video release date  \\\n",
       "0        1   Toy Story (1995)  01-Jan-1995                 NaN   \n",
       "1        2   GoldenEye (1995)  01-Jan-1995                 NaN   \n",
       "2        3  Four Rooms (1995)  01-Jan-1995                 NaN   \n",
       "3        4  Get Shorty (1995)  01-Jan-1995                 NaN   \n",
       "4        5     Copycat (1995)  01-Jan-1995                 NaN   \n",
       "\n",
       "                                            IMDb URL  unknown  Action  \\\n",
       "0  http://us.imdb.com/M/title-exact?Toy%20Story%2...        0       0   \n",
       "1  http://us.imdb.com/M/title-exact?GoldenEye%20(...        0       1   \n",
       "2  http://us.imdb.com/M/title-exact?Four%20Rooms%...        0       0   \n",
       "3  http://us.imdb.com/M/title-exact?Get%20Shorty%...        0       1   \n",
       "4  http://us.imdb.com/M/title-exact?Copycat%20(1995)        0       0   \n",
       "\n",
       "   Adventure  Animation  Children's   ...     Fantasy  Film-Noir  Horror  \\\n",
       "0          0          1           1   ...           0          0       0   \n",
       "1          1          0           0   ...           0          0       0   \n",
       "2          0          0           0   ...           0          0       0   \n",
       "3          0          0           0   ...           0          0       0   \n",
       "4          0          0           0   ...           0          0       0   \n",
       "\n",
       "   Musical  Mystery  Romance  Sci-Fi  Thriller  War  Western  \n",
       "0        0        0        0       0         0    0        0  \n",
       "1        0        0        0       0         1    0        0  \n",
       "2        0        0        0       0         1    0        0  \n",
       "3        0        0        0       0         0    0        0  \n",
       "4        0        0        0       0         1    0        0  \n",
       "\n",
       "[5 rows x 24 columns]"
      ]
     },
     "execution_count": 12,
     "metadata": {},
     "output_type": "execute_result"
    }
   ],
   "source": [
    "# информация о фильмах\n",
    "items_info = pd.read_csv('ml-100k/u.item', header=None, sep='|', encoding=\"ISO-8859-1\")\n",
    "\n",
    "genres = [\n",
    "    \"Action\", \"Adventure\", \"Animation\", \"Children's\", \"Comedy\", \"Crime\", \"Documentary\",\n",
    "    \"Drama\", \"Fantasy\", \"Film-Noir\", \"Horror\", \"Musical\", \"Mystery\", \"Romance\", \"Sci-Fi\",\n",
    "    \"Thriller\", \"War\", \"Western\"\n",
    "]\n",
    "\n",
    "items_info.columns = [\n",
    "    \"item_id\", \"movie title\", \"release date\", \"video release date\", \"IMDb URL\", \"unknown\"\n",
    "] + genres\n",
    "items_info.head()"
   ]
  },
  {
   "cell_type": "code",
   "execution_count": 13,
   "metadata": {},
   "outputs": [
    {
     "data": {
      "text/html": [
       "<div>\n",
       "<style scoped>\n",
       "    .dataframe tbody tr th:only-of-type {\n",
       "        vertical-align: middle;\n",
       "    }\n",
       "\n",
       "    .dataframe tbody tr th {\n",
       "        vertical-align: top;\n",
       "    }\n",
       "\n",
       "    .dataframe thead th {\n",
       "        text-align: right;\n",
       "    }\n",
       "</style>\n",
       "<table border=\"1\" class=\"dataframe\">\n",
       "  <thead>\n",
       "    <tr style=\"text-align: right;\">\n",
       "      <th></th>\n",
       "      <th>user_id</th>\n",
       "      <th>age</th>\n",
       "      <th>gender</th>\n",
       "      <th>occupation</th>\n",
       "      <th>zip_code</th>\n",
       "      <th>age_gr</th>\n",
       "    </tr>\n",
       "  </thead>\n",
       "  <tbody>\n",
       "    <tr>\n",
       "      <th>0</th>\n",
       "      <td>1</td>\n",
       "      <td>24</td>\n",
       "      <td>M</td>\n",
       "      <td>technician</td>\n",
       "      <td>85711</td>\n",
       "      <td>20</td>\n",
       "    </tr>\n",
       "    <tr>\n",
       "      <th>1</th>\n",
       "      <td>2</td>\n",
       "      <td>53</td>\n",
       "      <td>F</td>\n",
       "      <td>other</td>\n",
       "      <td>94043</td>\n",
       "      <td>40</td>\n",
       "    </tr>\n",
       "    <tr>\n",
       "      <th>2</th>\n",
       "      <td>3</td>\n",
       "      <td>23</td>\n",
       "      <td>M</td>\n",
       "      <td>writer</td>\n",
       "      <td>32067</td>\n",
       "      <td>20</td>\n",
       "    </tr>\n",
       "    <tr>\n",
       "      <th>3</th>\n",
       "      <td>4</td>\n",
       "      <td>24</td>\n",
       "      <td>M</td>\n",
       "      <td>technician</td>\n",
       "      <td>43537</td>\n",
       "      <td>20</td>\n",
       "    </tr>\n",
       "    <tr>\n",
       "      <th>4</th>\n",
       "      <td>5</td>\n",
       "      <td>33</td>\n",
       "      <td>F</td>\n",
       "      <td>other</td>\n",
       "      <td>15213</td>\n",
       "      <td>30</td>\n",
       "    </tr>\n",
       "  </tbody>\n",
       "</table>\n",
       "</div>"
      ],
      "text/plain": [
       "   user_id  age gender  occupation zip_code  age_gr\n",
       "0        1   24      M  technician    85711      20\n",
       "1        2   53      F       other    94043      40\n",
       "2        3   23      M      writer    32067      20\n",
       "3        4   24      M  technician    43537      20\n",
       "4        5   33      F       other    15213      30"
      ]
     },
     "execution_count": 13,
     "metadata": {},
     "output_type": "execute_result"
    }
   ],
   "source": [
    "# информация о пользователях\n",
    "\n",
    "def age_group(x):\n",
    "    if x < 30:\n",
    "        return 20\n",
    "    elif x < 40:\n",
    "        return 30\n",
    "    else:\n",
    "        return 40\n",
    "\n",
    "\n",
    "users_info = pd.read_csv('ml-100k/u.user', header=None, sep='|')\n",
    "users_info.columns = ['user_id', 'age', 'gender', 'occupation', 'zip_code']\n",
    "users_info['age_gr'] = users_info.age.apply(age_group)\n",
    "users_info.head()"
   ]
  },
  {
   "cell_type": "code",
   "execution_count": 14,
   "metadata": {},
   "outputs": [],
   "source": [
    "def read_data(fname):\n",
    "    data = pd.read_csv(fname, sep='\\t', header=None)\n",
    "    data.columns = [\"user_id\", \"item_id\", \"rating\", \"timestamp\"]\n",
    "    return data\n",
    "\n",
    "def merge_info(df):\n",
    "    df = df.merge(users_info, on='user_id')\n",
    "    df = df.merge(items_info, on='item_id')\n",
    "    return df"
   ]
  },
  {
   "cell_type": "code",
   "execution_count": 19,
   "metadata": {},
   "outputs": [
    {
     "data": {
      "text/plain": [
       "883390350.0"
      ]
     },
     "execution_count": 19,
     "metadata": {},
     "output_type": "execute_result"
    }
   ],
   "source": [
    "df_test.timestamp.median()"
   ]
  },
  {
   "cell_type": "code",
   "execution_count": 20,
   "metadata": {
    "scrolled": true
   },
   "outputs": [
    {
     "data": {
      "text/plain": [
       "0       -8.125571\n",
       "1       -6.266569\n",
       "2       -4.675338\n",
       "3       -6.266619\n",
       "4        6.135573\n",
       "5        3.898170\n",
       "6       -8.023523\n",
       "7       -8.022633\n",
       "8       -4.674777\n",
       "9       -7.424028\n",
       "10      -8.022847\n",
       "11      -4.675338\n",
       "12      -8.023288\n",
       "13      -8.125621\n",
       "14      -8.023478\n",
       "15      -4.674777\n",
       "16      -8.021944\n",
       "17       3.898216\n",
       "18      -8.023568\n",
       "19      -4.675519\n",
       "20      -8.022710\n",
       "21      -8.022237\n",
       "22      -8.023377\n",
       "23      -8.023288\n",
       "24      -8.022674\n",
       "25      -6.266786\n",
       "26      -8.022933\n",
       "27      -4.675425\n",
       "28      -4.675767\n",
       "29      -8.022961\n",
       "           ...   \n",
       "90540   -7.608322\n",
       "90541   -7.608250\n",
       "90542    5.063366\n",
       "90543    5.062992\n",
       "90544    5.063520\n",
       "90545    5.062816\n",
       "90546    5.063116\n",
       "90547    5.063251\n",
       "90548   -7.608221\n",
       "90549   -7.608543\n",
       "90550    5.063539\n",
       "90551    5.063405\n",
       "90552    5.063458\n",
       "90553    5.063620\n",
       "90554    5.063499\n",
       "90555   -7.607896\n",
       "90556   -7.608089\n",
       "90557   -7.608089\n",
       "90558    5.114539\n",
       "90559   -7.608291\n",
       "90560    5.063055\n",
       "90561    5.062948\n",
       "90562   -7.607822\n",
       "90563   -7.608270\n",
       "90564    5.063226\n",
       "90565   -7.608221\n",
       "90566    5.063561\n",
       "90567    5.063561\n",
       "90568    5.063585\n",
       "90569    5.113923\n",
       "Name: timestamp, Length: 90570, dtype: float64"
      ]
     },
     "execution_count": 20,
     "metadata": {},
     "output_type": "execute_result"
    }
   ],
   "source": [
    "(df_train.timestamp - df_test.timestamp.median()) / 60 / 60 / 24 / 12"
   ]
  },
  {
   "cell_type": "code",
   "execution_count": 21,
   "metadata": {},
   "outputs": [
    {
     "data": {
      "text/html": [
       "<div>\n",
       "<style scoped>\n",
       "    .dataframe tbody tr th:only-of-type {\n",
       "        vertical-align: middle;\n",
       "    }\n",
       "\n",
       "    .dataframe tbody tr th {\n",
       "        vertical-align: top;\n",
       "    }\n",
       "\n",
       "    .dataframe thead th {\n",
       "        text-align: right;\n",
       "    }\n",
       "</style>\n",
       "<table border=\"1\" class=\"dataframe\">\n",
       "  <thead>\n",
       "    <tr style=\"text-align: right;\">\n",
       "      <th></th>\n",
       "      <th>user_id</th>\n",
       "      <th>item_id</th>\n",
       "      <th>rating</th>\n",
       "      <th>timestamp</th>\n",
       "      <th>time</th>\n",
       "    </tr>\n",
       "  </thead>\n",
       "  <tbody>\n",
       "    <tr>\n",
       "      <th>0</th>\n",
       "      <td>1</td>\n",
       "      <td>1</td>\n",
       "      <td>5</td>\n",
       "      <td>874965758</td>\n",
       "      <td>-7.569965</td>\n",
       "    </tr>\n",
       "    <tr>\n",
       "      <th>1</th>\n",
       "      <td>1</td>\n",
       "      <td>2</td>\n",
       "      <td>3</td>\n",
       "      <td>876893171</td>\n",
       "      <td>-5.710964</td>\n",
       "    </tr>\n",
       "    <tr>\n",
       "      <th>2</th>\n",
       "      <td>1</td>\n",
       "      <td>3</td>\n",
       "      <td>4</td>\n",
       "      <td>878542960</td>\n",
       "      <td>-4.119732</td>\n",
       "    </tr>\n",
       "    <tr>\n",
       "      <th>3</th>\n",
       "      <td>1</td>\n",
       "      <td>4</td>\n",
       "      <td>3</td>\n",
       "      <td>876893119</td>\n",
       "      <td>-5.711014</td>\n",
       "    </tr>\n",
       "    <tr>\n",
       "      <th>4</th>\n",
       "      <td>1</td>\n",
       "      <td>5</td>\n",
       "      <td>3</td>\n",
       "      <td>889751712</td>\n",
       "      <td>6.691179</td>\n",
       "    </tr>\n",
       "  </tbody>\n",
       "</table>\n",
       "</div>"
      ],
      "text/plain": [
       "   user_id  item_id  rating  timestamp      time\n",
       "0        1        1       5  874965758 -7.569965\n",
       "1        1        2       3  876893171 -5.710964\n",
       "2        1        3       4  878542960 -4.119732\n",
       "3        1        4       3  876893119 -5.711014\n",
       "4        1        5       3  889751712  6.691179"
      ]
     },
     "execution_count": 21,
     "metadata": {},
     "output_type": "execute_result"
    }
   ],
   "source": [
    "df_train = read_data('ml-100k/ua.base')\n",
    "df_test = read_data('ml-100k/ua.test')\n",
    "\n",
    "df_train['time'] = (df_train.timestamp - df_train.timestamp.median()) / 60 / 60 / 24 / 12\n",
    "df_test['time']  = (df_test.timestamp - df_train.timestamp.median()) / 60 / 60 / 24 / 12\n",
    "df_train.head()"
   ]
  },
  {
   "cell_type": "code",
   "execution_count": 22,
   "metadata": {},
   "outputs": [
    {
     "data": {
      "text/html": [
       "<div>\n",
       "<style scoped>\n",
       "    .dataframe tbody tr th:only-of-type {\n",
       "        vertical-align: middle;\n",
       "    }\n",
       "\n",
       "    .dataframe tbody tr th {\n",
       "        vertical-align: top;\n",
       "    }\n",
       "\n",
       "    .dataframe thead th {\n",
       "        text-align: right;\n",
       "    }\n",
       "</style>\n",
       "<table border=\"1\" class=\"dataframe\">\n",
       "  <thead>\n",
       "    <tr style=\"text-align: right;\">\n",
       "      <th></th>\n",
       "      <th>user_id</th>\n",
       "      <th>item_id</th>\n",
       "      <th>rating</th>\n",
       "      <th>timestamp</th>\n",
       "      <th>time</th>\n",
       "      <th>age</th>\n",
       "      <th>gender</th>\n",
       "      <th>occupation</th>\n",
       "      <th>zip_code</th>\n",
       "      <th>age_gr</th>\n",
       "      <th>...</th>\n",
       "      <th>Fantasy</th>\n",
       "      <th>Film-Noir</th>\n",
       "      <th>Horror</th>\n",
       "      <th>Musical</th>\n",
       "      <th>Mystery</th>\n",
       "      <th>Romance</th>\n",
       "      <th>Sci-Fi</th>\n",
       "      <th>Thriller</th>\n",
       "      <th>War</th>\n",
       "      <th>Western</th>\n",
       "    </tr>\n",
       "  </thead>\n",
       "  <tbody>\n",
       "    <tr>\n",
       "      <th>0</th>\n",
       "      <td>1</td>\n",
       "      <td>1</td>\n",
       "      <td>5</td>\n",
       "      <td>874965758</td>\n",
       "      <td>-7.569965</td>\n",
       "      <td>24</td>\n",
       "      <td>M</td>\n",
       "      <td>technician</td>\n",
       "      <td>85711</td>\n",
       "      <td>20</td>\n",
       "      <td>...</td>\n",
       "      <td>0</td>\n",
       "      <td>0</td>\n",
       "      <td>0</td>\n",
       "      <td>0</td>\n",
       "      <td>0</td>\n",
       "      <td>0</td>\n",
       "      <td>0</td>\n",
       "      <td>0</td>\n",
       "      <td>0</td>\n",
       "      <td>0</td>\n",
       "    </tr>\n",
       "    <tr>\n",
       "      <th>1</th>\n",
       "      <td>2</td>\n",
       "      <td>1</td>\n",
       "      <td>4</td>\n",
       "      <td>888550871</td>\n",
       "      <td>5.532960</td>\n",
       "      <td>53</td>\n",
       "      <td>F</td>\n",
       "      <td>other</td>\n",
       "      <td>94043</td>\n",
       "      <td>40</td>\n",
       "      <td>...</td>\n",
       "      <td>0</td>\n",
       "      <td>0</td>\n",
       "      <td>0</td>\n",
       "      <td>0</td>\n",
       "      <td>0</td>\n",
       "      <td>0</td>\n",
       "      <td>0</td>\n",
       "      <td>0</td>\n",
       "      <td>0</td>\n",
       "      <td>0</td>\n",
       "    </tr>\n",
       "    <tr>\n",
       "      <th>2</th>\n",
       "      <td>6</td>\n",
       "      <td>1</td>\n",
       "      <td>4</td>\n",
       "      <td>883599478</td>\n",
       "      <td>0.757311</td>\n",
       "      <td>42</td>\n",
       "      <td>M</td>\n",
       "      <td>executive</td>\n",
       "      <td>98101</td>\n",
       "      <td>40</td>\n",
       "      <td>...</td>\n",
       "      <td>0</td>\n",
       "      <td>0</td>\n",
       "      <td>0</td>\n",
       "      <td>0</td>\n",
       "      <td>0</td>\n",
       "      <td>0</td>\n",
       "      <td>0</td>\n",
       "      <td>0</td>\n",
       "      <td>0</td>\n",
       "      <td>0</td>\n",
       "    </tr>\n",
       "    <tr>\n",
       "      <th>3</th>\n",
       "      <td>10</td>\n",
       "      <td>1</td>\n",
       "      <td>4</td>\n",
       "      <td>877888877</td>\n",
       "      <td>-4.750599</td>\n",
       "      <td>53</td>\n",
       "      <td>M</td>\n",
       "      <td>lawyer</td>\n",
       "      <td>90703</td>\n",
       "      <td>40</td>\n",
       "      <td>...</td>\n",
       "      <td>0</td>\n",
       "      <td>0</td>\n",
       "      <td>0</td>\n",
       "      <td>0</td>\n",
       "      <td>0</td>\n",
       "      <td>0</td>\n",
       "      <td>0</td>\n",
       "      <td>0</td>\n",
       "      <td>0</td>\n",
       "      <td>0</td>\n",
       "    </tr>\n",
       "    <tr>\n",
       "      <th>4</th>\n",
       "      <td>13</td>\n",
       "      <td>1</td>\n",
       "      <td>3</td>\n",
       "      <td>882140487</td>\n",
       "      <td>-0.649895</td>\n",
       "      <td>47</td>\n",
       "      <td>M</td>\n",
       "      <td>educator</td>\n",
       "      <td>29206</td>\n",
       "      <td>40</td>\n",
       "      <td>...</td>\n",
       "      <td>0</td>\n",
       "      <td>0</td>\n",
       "      <td>0</td>\n",
       "      <td>0</td>\n",
       "      <td>0</td>\n",
       "      <td>0</td>\n",
       "      <td>0</td>\n",
       "      <td>0</td>\n",
       "      <td>0</td>\n",
       "      <td>0</td>\n",
       "    </tr>\n",
       "  </tbody>\n",
       "</table>\n",
       "<p>5 rows × 33 columns</p>\n",
       "</div>"
      ],
      "text/plain": [
       "   user_id  item_id  rating  timestamp      time  age gender  occupation  \\\n",
       "0        1        1       5  874965758 -7.569965   24      M  technician   \n",
       "1        2        1       4  888550871  5.532960   53      F       other   \n",
       "2        6        1       4  883599478  0.757311   42      M   executive   \n",
       "3       10        1       4  877888877 -4.750599   53      M      lawyer   \n",
       "4       13        1       3  882140487 -0.649895   47      M    educator   \n",
       "\n",
       "  zip_code  age_gr   ...    Fantasy Film-Noir  Horror Musical  Mystery  \\\n",
       "0    85711      20   ...          0         0       0       0        0   \n",
       "1    94043      40   ...          0         0       0       0        0   \n",
       "2    98101      40   ...          0         0       0       0        0   \n",
       "3    90703      40   ...          0         0       0       0        0   \n",
       "4    29206      40   ...          0         0       0       0        0   \n",
       "\n",
       "   Romance  Sci-Fi  Thriller  War  Western  \n",
       "0        0       0         0    0        0  \n",
       "1        0       0         0    0        0  \n",
       "2        0       0         0    0        0  \n",
       "3        0       0         0    0        0  \n",
       "4        0       0         0    0        0  \n",
       "\n",
       "[5 rows x 33 columns]"
      ]
     },
     "execution_count": 22,
     "metadata": {},
     "output_type": "execute_result"
    }
   ],
   "source": [
    "df_train = merge_info(df_train)\n",
    "df_test = merge_info(df_test)\n",
    "df_train.head()"
   ]
  },
  {
   "cell_type": "code",
   "execution_count": 26,
   "metadata": {},
   "outputs": [],
   "source": [
    "enc = CategoricalEncoder(handle_unknown='ignore')"
   ]
  },
  {
   "cell_type": "code",
   "execution_count": null,
   "metadata": {},
   "outputs": [],
   "source": [
    "# fit without users and items info\n",
    "x_train = enc.fit_transform(df_train[['user_id', 'item_id']]).tocsc()\n",
    "x_test = enc.transform(df_test[['user_id', 'item_id']]).tocsc()\n",
    "\n",
    "y_train = df_train['rating']\n",
    "y_test = df_test['rating']"
   ]
  },
  {
   "cell_type": "code",
   "execution_count": null,
   "metadata": {},
   "outputs": [],
   "source": [
    "fm_simple = als.FMRegression(\n",
    "    rank=5,\n",
    "    n_iter=100,\n",
    "    l2_reg=10,\n",
    "    init_stdev=0.01\n",
    ")\n",
    "fm_simple.fit(x_train, y_train)"
   ]
  },
  {
   "cell_type": "code",
   "execution_count": null,
   "metadata": {},
   "outputs": [],
   "source": [
    "pred_simple = fm_simple.predict(x_test)\n",
    "print('sklearn MAE: {:.4f}'.format(mean_absolute_error(y_test, pred_simple)))\n",
    "print('sklearn RMSE: {:.4f}'.format(np.sqrt(mean_squared_error(y_test, pred_simple))))"
   ]
  },
  {
   "cell_type": "code",
   "execution_count": null,
   "metadata": {},
   "outputs": [],
   "source": [
    "fm_simple2 = sgd.FMRegression(\n",
    "    rank=10,\n",
    "    step_size=0.005,\n",
    "    n_iter=5000000,\n",
    "    l2_reg=0.02,\n",
    "    init_stdev=0.01)\n",
    "fm_simple2.fit(x_train, y_train)"
   ]
  },
  {
   "cell_type": "code",
   "execution_count": null,
   "metadata": {},
   "outputs": [],
   "source": [
    "pred_simple2 = fm_simple2.predict(x_test)\n",
    "print('sklearn MAE: {:.4f}'.format(mean_absolute_error(y_test, pred_simple2)))\n",
    "print('sklearn RMSE: {:.4f}'.format(np.sqrt(mean_squared_error(y_test, pred_simple2))))"
   ]
  },
  {
   "cell_type": "code",
   "execution_count": null,
   "metadata": {},
   "outputs": [],
   "source": [
    "print('global mean: {:.2f}'.format(fm_simple.w0_))"
   ]
  },
  {
   "cell_type": "code",
   "execution_count": null,
   "metadata": {},
   "outputs": [],
   "source": [
    "fm_simple.w_"
   ]
  },
  {
   "cell_type": "code",
   "execution_count": null,
   "metadata": {},
   "outputs": [],
   "source": [
    "fm_simple.V_[0]"
   ]
  },
  {
   "cell_type": "markdown",
   "metadata": {},
   "source": [
    "# учтем фичи пользователей и фильмов"
   ]
  },
  {
   "cell_type": "code",
   "execution_count": 27,
   "metadata": {},
   "outputs": [],
   "source": [
    "from scipy import sparse"
   ]
  },
  {
   "cell_type": "code",
   "execution_count": 28,
   "metadata": {},
   "outputs": [
    {
     "ename": "NameError",
     "evalue": "name 'enc' is not defined",
     "output_type": "error",
     "traceback": [
      "\u001b[0;31m---------------------------------------------------------------------------\u001b[0m",
      "\u001b[0;31mNameError\u001b[0m                                 Traceback (most recent call last)",
      "\u001b[0;32m<ipython-input-28-ffb5f6b397d6>\u001b[0m in \u001b[0;36m<module>\u001b[0;34m\u001b[0m\n\u001b[1;32m      1\u001b[0m \u001b[0;31m# fit with users and items info\u001b[0m\u001b[0;34m\u001b[0m\u001b[0;34m\u001b[0m\u001b[0;34m\u001b[0m\u001b[0m\n\u001b[0;32m----> 2\u001b[0;31m \u001b[0mx_train_attr\u001b[0m \u001b[0;34m=\u001b[0m \u001b[0menc\u001b[0m\u001b[0;34m.\u001b[0m\u001b[0mfit_transform\u001b[0m\u001b[0;34m(\u001b[0m\u001b[0mdf_train\u001b[0m\u001b[0;34m[\u001b[0m\u001b[0;34m[\u001b[0m\u001b[0;34m'user_id'\u001b[0m\u001b[0;34m,\u001b[0m \u001b[0;34m'item_id'\u001b[0m\u001b[0;34m,\u001b[0m \u001b[0;34m'age_gr'\u001b[0m\u001b[0;34m,\u001b[0m \u001b[0;34m'gender'\u001b[0m\u001b[0;34m]\u001b[0m\u001b[0;34m]\u001b[0m\u001b[0;34m)\u001b[0m\u001b[0;34m.\u001b[0m\u001b[0mtocsc\u001b[0m\u001b[0;34m(\u001b[0m\u001b[0;34m)\u001b[0m\u001b[0;34m\u001b[0m\u001b[0;34m\u001b[0m\u001b[0m\n\u001b[0m\u001b[1;32m      3\u001b[0m \u001b[0mx_test_attr\u001b[0m \u001b[0;34m=\u001b[0m \u001b[0menc\u001b[0m\u001b[0;34m.\u001b[0m\u001b[0mtransform\u001b[0m\u001b[0;34m(\u001b[0m\u001b[0mdf_test\u001b[0m\u001b[0;34m[\u001b[0m\u001b[0;34m[\u001b[0m\u001b[0;34m'user_id'\u001b[0m\u001b[0;34m,\u001b[0m \u001b[0;34m'item_id'\u001b[0m\u001b[0;34m,\u001b[0m \u001b[0;34m'age_gr'\u001b[0m\u001b[0;34m,\u001b[0m \u001b[0;34m'gender'\u001b[0m\u001b[0;34m]\u001b[0m\u001b[0;34m]\u001b[0m\u001b[0;34m)\u001b[0m\u001b[0;34m.\u001b[0m\u001b[0mtocsc\u001b[0m\u001b[0;34m(\u001b[0m\u001b[0;34m)\u001b[0m\u001b[0;34m\u001b[0m\u001b[0;34m\u001b[0m\u001b[0m\n\u001b[1;32m      4\u001b[0m \u001b[0;34m\u001b[0m\u001b[0m\n\u001b[1;32m      5\u001b[0m \u001b[0;31m# items information\u001b[0m\u001b[0;34m\u001b[0m\u001b[0;34m\u001b[0m\u001b[0;34m\u001b[0m\u001b[0m\n",
      "\u001b[0;31mNameError\u001b[0m: name 'enc' is not defined"
     ]
    }
   ],
   "source": [
    "# fit with users and items info\n",
    "x_train_attr = enc.fit_transform(df_train[['user_id', 'item_id', 'age_gr', 'gender']]).tocsc()\n",
    "x_test_attr = enc.transform(df_test[['user_id', 'item_id', 'age_gr', 'gender']]).tocsc()\n",
    "\n",
    "# items information\n",
    "items_train = sparse.csc_matrix(df_train[genres].values)\n",
    "items_test = sparse.csc_matrix(df_test[genres].values)\n",
    "\n",
    "# time information\n",
    "time_train = sparse.csc_matrix(df_train['time'].values.reshape(-1, 1))\n",
    "time_test = sparse.csc_matrix(df_test['time'].values.reshape(-1, 1))\n",
    "\n",
    "\n",
    "x_train_attr = sparse.hstack([x_train_attr, items_train])\n",
    "x_test_attr = sparse.hstack([x_test_attr, items_test])\n",
    "\n",
    "x_train_attr_time = sparse.hstack([x_train_attr, items_train, time_train])\n",
    "x_test_attr_time = sparse.hstack([x_test_attr, items_test, time_test])\n",
    "\n",
    "print(x_train_attr.shape, x_test_attr.shape)"
   ]
  },
  {
   "cell_type": "code",
   "execution_count": null,
   "metadata": {},
   "outputs": [],
   "source": [
    "fm = als.FMRegression(\n",
    "    rank=5,\n",
    "    n_iter=100,\n",
    "    l2_reg=10,\n",
    "    init_stdev=0.01\n",
    ")\n",
    "\n",
    "fm.fit(x_train_attr, y_train)"
   ]
  },
  {
   "cell_type": "code",
   "execution_count": null,
   "metadata": {},
   "outputs": [],
   "source": [
    "pred_attr = fm.predict(x_test_attr)\n",
    "print('sklearn MAE: {:.4f}'.format(mean_absolute_error(y_test, pred_attr)))\n",
    "print('sklearn RMSE: {:.4f}'.format(np.sqrt(mean_squared_error(y_test, pred_attr))))"
   ]
  },
  {
   "cell_type": "code",
   "execution_count": null,
   "metadata": {},
   "outputs": [],
   "source": [
    "fm2 = als.FMRegression(\n",
    "    rank=5,\n",
    "    n_iter=100,\n",
    "    l2_reg=10,\n",
    "    init_stdev=0.01\n",
    ")\n",
    "\n",
    "fm2.fit(x_train_attr_time, y_train)"
   ]
  },
  {
   "cell_type": "code",
   "execution_count": null,
   "metadata": {},
   "outputs": [],
   "source": [
    "pred_attr = fm2.predict(x_test_attr_time)\n",
    "print('sklearn MAE: {:.4f}'.format(mean_absolute_error(y_test, pred_attr)))\n",
    "print('sklearn RMSE: {:.4f}'.format(np.sqrt(mean_squared_error(y_test, pred_attr))))"
   ]
  },
  {
   "cell_type": "markdown",
   "metadata": {},
   "source": [
    "## Эффект различных слагаемых на качество предсказания рейтинга\n",
    "\n",
    "\n",
    "\n",
    "<img src='effect_factorizations.png'>\n",
    "\n",
    "источник:\n",
    "\n",
    "https://datajobs.com/data-science-repo/Recommender-Systems-[Netflix].pdf"
   ]
  },
  {
   "cell_type": "markdown",
   "metadata": {},
   "source": [
    "# Оценка качества рекомендательной системы\n",
    "\n",
    "* Качество рейтингов\n",
    "    * MAE, MSE\n",
    "* Качество событий\n",
    "    * F-score, ROC-AUC, PR-AUC\n",
    "* Качество ранжирования\n",
    "    * precision@k, recall@k\n",
    "    * Mean average precision@k\n",
    "    * $DCG@k(u) = \\sum\\limits_{p=1}^k \\frac{val(i,p)}{\\log{(p+1)}}$\n",
    "    * $nDCG@k(u) = \\frac{DCG@k(u)}{\\max{(DCG@k(u))}}$\n",
    "\n",
    "\n",
    "ссылки:\n",
    "\n",
    "https://en.wikipedia.org/wiki/Evaluation_measures_(information_retrieval)#Offline_metrics\n",
    "\n",
    "https://habr.com/company/econtenta/blog/303458/"
   ]
  },
  {
   "cell_type": "markdown",
   "metadata": {},
   "source": [
    "# Ассоциативные правила\n",
    "\n",
    "Рекомендации вида: «Кто купил x, также купил y».\n",
    "\n",
    "Дано: база транзакций / покупок\n",
    "\n",
    "Хотим посчитать: \n",
    "- P(X ...) - support(X ...)\n",
    "- P(Y|X) - сonfidence(X->Y)\n",
    "- Lift(X->Y) = support(X and Y) / (support(X) * support(Y))\n",
    "- Conviction(X->Y) = (1 - support(Y)) / (1 - confidence(X->Y))\n",
    "\n",
    "где X, Y - товары\n",
    "\n",
    "\n",
    "Эффективный рассчет величин выше: Apriori Algorithm\n",
    "\n",
    "\n",
    "Статья:\n",
    "\n",
    "https://habr.com/company/ods/blog/353502/"
   ]
  },
  {
   "cell_type": "markdown",
   "metadata": {},
   "source": [
    "Полезные ссылки:\n",
    "1. https://habrahabr.ru/company/surfingbird/blog/139518/\n",
    "2. https://d4datascience.wordpress.com/category/predictive-analytics/\n",
    "3. Data Science from scratch\n",
    "4. https://habrahabr.ru/company/yandex/blog/241455/\n",
    "5. https://www.kaggle.com/rounakbanik/movie-recommender-systems/notebook\n",
    "6. http://www.cs.ubbcluj.ro/~gabis/DocDiplome/SistemeDeRecomandare/Recommender_systems_handbook.pdf\n",
    "7. https://www.coursera.org/specializations/recommender-systems\n",
    "8. https://www.cs.umd.edu/~samir/498/Amazon-Recommendations.pdf\n",
    "9. https://datajobs.com/data-science-repo/Recommender-Systems-[Netflix].pdf\n",
    "10. http://surprise.readthedocs.io/en/stable/matrix_factorization.html#surprise.prediction_algorithms.matrix_factorization.SVD\n",
    "11. https://arxiv.org/pdf/1505.00641.pdf\n",
    "12. https://www.csie.ntu.edu.tw/~b97053/paper/Factorization%20Machines%20with%20libFM.pdf\n",
    "13. https://habr.com/company/ods/blog/353502/"
   ]
  }
 ],
 "metadata": {
  "kernelspec": {
   "display_name": "Python 3",
   "language": "python",
   "name": "python3"
  },
  "language_info": {
   "codemirror_mode": {
    "name": "ipython",
    "version": 3
   },
   "file_extension": ".py",
   "mimetype": "text/x-python",
   "name": "python",
   "nbconvert_exporter": "python",
   "pygments_lexer": "ipython3",
   "version": "3.6.8"
  }
 },
 "nbformat": 4,
 "nbformat_minor": 2
}
