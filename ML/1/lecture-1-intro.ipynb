{
 "cells": [
  {
   "cell_type": "markdown",
   "metadata": {
    "slideshow": {
     "slide_type": "slide"
    }
   },
   "source": [
    "<img src=\"pics/otus.png\">"
   ]
  },
  {
   "cell_type": "markdown",
   "metadata": {},
   "source": [
    "# Базовые инструменты анализа данных в Python\n"
   ]
  },
  {
   "cell_type": "markdown",
   "metadata": {},
   "source": [
    "# Python\n",
    "\n",
    "Python - динамически типизированный интерпретируемый язык общего назначения\n",
    "\n",
    "https://docs.python.org/3/\n",
    "\n",
    "https://docs.python.org/3/tutorial/index.html"
   ]
  },
  {
   "cell_type": "code",
   "execution_count": 1,
   "metadata": {},
   "outputs": [
    {
     "name": "stdout",
     "output_type": "stream",
     "text": [
      "The Zen of Python, by Tim Peters\n",
      "\n",
      "Beautiful is better than ugly.\n",
      "Explicit is better than implicit.\n",
      "Simple is better than complex.\n",
      "Complex is better than complicated.\n",
      "Flat is better than nested.\n",
      "Sparse is better than dense.\n",
      "Readability counts.\n",
      "Special cases aren't special enough to break the rules.\n",
      "Although practicality beats purity.\n",
      "Errors should never pass silently.\n",
      "Unless explicitly silenced.\n",
      "In the face of ambiguity, refuse the temptation to guess.\n",
      "There should be one-- and preferably only one --obvious way to do it.\n",
      "Although that way may not be obvious at first unless you're Dutch.\n",
      "Now is better than never.\n",
      "Although never is often better than *right* now.\n",
      "If the implementation is hard to explain, it's a bad idea.\n",
      "If the implementation is easy to explain, it may be a good idea.\n",
      "Namespaces are one honking great idea -- let's do more of those!\n"
     ]
    }
   ],
   "source": [
    "import this"
   ]
  },
  {
   "cell_type": "code",
   "execution_count": 2,
   "metadata": {},
   "outputs": [
    {
     "name": "stdout",
     "output_type": "stream",
     "text": [
      "Hello, Python!\n"
     ]
    }
   ],
   "source": [
    "print(\"Hello, Python!\")"
   ]
  },
  {
   "cell_type": "code",
   "execution_count": 7,
   "metadata": {
    "scrolled": true
   },
   "outputs": [
    {
     "name": "stdout",
     "output_type": "stream",
     "text": [
      "<class 'int'>\n",
      "<class 'float'>\n"
     ]
    }
   ],
   "source": [
    "a = 1\n",
    "print(type(a))\n",
    "b = 1.\n",
    "print(type(b))"
   ]
  },
  {
   "cell_type": "code",
   "execution_count": 8,
   "metadata": {},
   "outputs": [
    {
     "name": "stdout",
     "output_type": "stream",
     "text": [
      "yes\n"
     ]
    }
   ],
   "source": [
    "yes = 'yes'\n",
    "no = 'no'\n",
    "\n",
    "if (a == b) or (False):\n",
    "    print(yes)\n",
    "elif a != b:\n",
    "    print(no)\n",
    "else:\n",
    "    print('yo')\n"
   ]
  },
  {
   "cell_type": "code",
   "execution_count": 21,
   "metadata": {},
   "outputs": [
    {
     "name": "stdout",
     "output_type": "stream",
     "text": [
      "0\n",
      "1\n",
      "2\n",
      "3\n",
      "4\n",
      "5\n",
      "6\n",
      "7\n",
      "8\n",
      "9\n"
     ]
    }
   ],
   "source": [
    "for i in range(10):\n",
    "    print(i)"
   ]
  },
  {
   "cell_type": "code",
   "execution_count": 13,
   "metadata": {},
   "outputs": [
    {
     "data": {
      "text/plain": [
       "[3, 4, 5, 6, 7, 8]"
      ]
     },
     "execution_count": 13,
     "metadata": {},
     "output_type": "execute_result"
    }
   ],
   "source": [
    "range(10)[3:-1]"
   ]
  },
  {
   "cell_type": "markdown",
   "metadata": {
    "collapsed": true
   },
   "source": [
    "## Сгенерируем данные\n",
    "\n",
    "Сегенерируем данные о студентах ВУЗа.\n",
    "\n",
    "Размберемся в типах признаков:\n",
    "\n",
    "* Бинарные/Binary \n",
    "* Номинальные/Categorical  \n",
    "* Порядковые/Ordinal \n",
    "* Количественные/Numerical "
   ]
  },
  {
   "cell_type": "code",
   "execution_count": null,
   "metadata": {},
   "outputs": [],
   "source": [
    "студенты\n",
    "\n",
    "студент(имя, возраст, пол, ...)\n",
    "\n",
    "строка - один студент\n",
    "столбец - один признак"
   ]
  },
  {
   "cell_type": "code",
   "execution_count": 22,
   "metadata": {
    "collapsed": true
   },
   "outputs": [],
   "source": [
    "class User(object):\n",
    "    \n",
    "    def __init__(self, name, age, gender, admission_date, faculty, average_score, has_medal):\n",
    "        self.name = name\n",
    "        self.age = age\n",
    "        self.gender = gender\n",
    "        self.admission_date = admission_date\n",
    "        self.faculty = faculty\n",
    "        self.average_score = average_score\n",
    "        self.has_medal = has_medal\n",
    "        "
   ]
  },
  {
   "cell_type": "markdown",
   "metadata": {},
   "source": [
    "## Викторина\n",
    "https://goo.gl/forms/owqPgJWCHGdhzGPK2"
   ]
  },
  {
   "cell_type": "code",
   "execution_count": 13,
   "metadata": {},
   "outputs": [],
   "source": [
    "import random\n",
    "import numpy as np\n",
    "import sys\n",
    "import time\n",
    "\n",
    "n = 1000"
   ]
  },
  {
   "cell_type": "markdown",
   "metadata": {},
   "source": [
    "## Имя"
   ]
  },
  {
   "cell_type": "code",
   "execution_count": 5,
   "metadata": {},
   "outputs": [
    {
     "name": "stdout",
     "output_type": "stream",
     "text": [
      "Uzefu\n",
      "Nohis\n"
     ]
    }
   ],
   "source": [
    "vowels_lower = 'aeiou'\n",
    "vowels_upper = vowels_lower.upper()\n",
    "consonants_lower = \"bcdfghjklmnpqrstvwxz\"\n",
    "consonants_upper = consonants_lower.upper()\n",
    "\n",
    "\n",
    "def generate_name():\n",
    "    name = random.choice(vowels_upper)\n",
    "    for i in range(random.randint(1, 2)):\n",
    "        name += random.choice(consonants_lower)\n",
    "        name += random.choice(vowels_lower)\n",
    "    return name\n",
    "\n",
    "\n",
    "def generate_surname():\n",
    "    name = random.choice(consonants_upper)\n",
    "    for i in range(random.randint(1, 4)):\n",
    "        name += random.choice(vowels_lower)\n",
    "        name += random.choice(consonants_lower)\n",
    "    return name\n",
    "\n",
    "print(generate_name())\n",
    "print(generate_surname())"
   ]
  },
  {
   "cell_type": "code",
   "execution_count": 9,
   "metadata": {},
   "outputs": [],
   "source": [
    "names = [\"{} {}\".format(generate_name(), generate_surname()) for _ in range(n)]"
   ]
  },
  {
   "cell_type": "code",
   "execution_count": null,
   "metadata": {},
   "outputs": [],
   "source": []
  },
  {
   "cell_type": "code",
   "execution_count": 10,
   "metadata": {},
   "outputs": [
    {
     "name": "stdout",
     "output_type": "stream",
     "text": [
      "['Oru Qeq', 'Erire Jocet', 'Izisa Xijutawod', 'Azo Fez', 'Ula Coh', 'Ize Wosolen', 'Aci Ket', 'Uhomu Row', 'Ivizi Pep', 'Igo Zoqelah']\n"
     ]
    }
   ],
   "source": [
    "print(names[:10])"
   ]
  },
  {
   "cell_type": "markdown",
   "metadata": {},
   "source": [
    "## Возраст"
   ]
  },
  {
   "cell_type": "code",
   "execution_count": 15,
   "metadata": {
    "scrolled": true
   },
   "outputs": [
    {
     "name": "stdout",
     "output_type": "stream",
     "text": [
      "[-1, 7, 12, 13, 13, 13, 15, 16, 17, 17, 17, 18, 18, 18, 19, 19, 19, 19, 19, 20, 20, 20, 21, 22, 22, 23, 23, 23, 23, 23, 23, 23, 25, 25, 25, 25, 25, 25, 26, 26, 26, 26, 27, 28, 28, 28, 28, 28, 29, 29, 29, 30, 30, 30, 30, 30, 30, 31, 31, 31, 31, 32, 32, 32, 32, 33, 33, 34, 34, 34, 34, 34, 35, 35, 35, 36, 37, 38, 38, 40, 40, 41, 41, 41, 42, 42, 42, 42, 42, 42, 43, 43, 44, 44, 46, 47, 48, 54, 55, 57]\n"
     ]
    }
   ],
   "source": [
    "\n",
    "import math\n",
    "\n",
    "print(sorted((math.trunc(random.gauss(30, 10)) for x in range(100))))"
   ]
  },
  {
   "cell_type": "code",
   "execution_count": 16,
   "metadata": {},
   "outputs": [],
   "source": [
    "ages = []\n",
    "while len(ages) < n:\n",
    "    age = math.trunc(random.gauss(30, 10))\n",
    "    if age < 18:\n",
    "        continue\n",
    "        \n",
    "    if random.random() < 0.1:\n",
    "        age = None\n",
    "        \n",
    "    ages.append(age)"
   ]
  },
  {
   "cell_type": "code",
   "execution_count": 17,
   "metadata": {},
   "outputs": [
    {
     "data": {
      "image/png": "[encoded data removed]",
      "text/plain": [
       "<Figure size 432x288 with 1 Axes>"
      ]
     },
     "metadata": {
      "needs_background": "light"
     },
     "output_type": "display_data"
    }
   ],
   "source": [
    "import matplotlib.pyplot as plt\n",
    "\n",
    "plt.hist([a for a in ages if a], bins='auto')\n",
    "plt.show()"
   ]
  },
  {
   "cell_type": "markdown",
   "metadata": {
    "collapsed": true
   },
   "source": [
    "## Пол"
   ]
  },
  {
   "cell_type": "code",
   "execution_count": 18,
   "metadata": {},
   "outputs": [],
   "source": [
    "gender_values = ('men', 'woman', None)\n",
    "genders = [random.choice(gender_values) for _ in range(n)]"
   ]
  },
  {
   "cell_type": "code",
   "execution_count": 19,
   "metadata": {},
   "outputs": [
    {
     "name": "stdout",
     "output_type": "stream",
     "text": [
      "['men', None, None, None, 'woman', 'men', 'woman', 'woman', None, None]\n"
     ]
    }
   ],
   "source": [
    "print(genders[:10])"
   ]
  },
  {
   "cell_type": "markdown",
   "metadata": {},
   "source": [
    "## Дата поступления"
   ]
  },
  {
   "cell_type": "code",
   "execution_count": 20,
   "metadata": {},
   "outputs": [],
   "source": [
    "import datetime\n",
    "\n",
    "def get_date():\n",
    "    return datetime.date(year=random.randint(1950, 2018), month=random.choice((2, 9)), day=1)\n",
    "\n",
    "dates = [get_date() for _ in range(n)]\n",
    "\n"
   ]
  },
  {
   "cell_type": "code",
   "execution_count": 21,
   "metadata": {},
   "outputs": [
    {
     "name": "stdout",
     "output_type": "stream",
     "text": [
      "[datetime.date(1981, 2, 1), datetime.date(2006, 9, 1), datetime.date(2013, 9, 1), datetime.date(1989, 9, 1), datetime.date(1956, 2, 1), datetime.date(2009, 9, 1), datetime.date(1976, 2, 1), datetime.date(2005, 2, 1), datetime.date(1979, 9, 1), datetime.date(1984, 9, 1)]\n"
     ]
    }
   ],
   "source": [
    "print(dates[:10])"
   ]
  },
  {
   "cell_type": "markdown",
   "metadata": {},
   "source": [
    "## Факультет"
   ]
  },
  {
   "cell_type": "code",
   "execution_count": 22,
   "metadata": {},
   "outputs": [],
   "source": [
    "faculty_names = ('IT', 'BUSINESS', 'MANAGEMENT', 'SCIENCE')\n",
    "faculties = [random.choice(faculty_names) for _ in range(n)]"
   ]
  },
  {
   "cell_type": "code",
   "execution_count": 23,
   "metadata": {},
   "outputs": [
    {
     "data": {
      "text/plain": [
       "['BUSINESS',\n",
       " 'MANAGEMENT',\n",
       " 'SCIENCE',\n",
       " 'MANAGEMENT',\n",
       " 'SCIENCE',\n",
       " 'MANAGEMENT',\n",
       " 'BUSINESS',\n",
       " 'SCIENCE',\n",
       " 'IT',\n",
       " 'IT']"
      ]
     },
     "execution_count": 23,
     "metadata": {},
     "output_type": "execute_result"
    }
   ],
   "source": [
    "faculties[:10]"
   ]
  },
  {
   "cell_type": "markdown",
   "metadata": {},
   "source": [
    "## Наличие медали"
   ]
  },
  {
   "cell_type": "code",
   "execution_count": 24,
   "metadata": {},
   "outputs": [],
   "source": [
    "medal_values = (True, False, None)\n",
    "has_medals = [random.choice(medal_values) for _ in range(n)]"
   ]
  },
  {
   "cell_type": "code",
   "execution_count": 25,
   "metadata": {},
   "outputs": [
    {
     "data": {
      "text/plain": [
       "[True, True, None, False, True, False, None, True, True, None]"
      ]
     },
     "execution_count": 25,
     "metadata": {},
     "output_type": "execute_result"
    }
   ],
   "source": [
    "has_medals[:10]"
   ]
  },
  {
   "cell_type": "markdown",
   "metadata": {},
   "source": [
    "## Средний балл"
   ]
  },
  {
   "cell_type": "code",
   "execution_count": 26,
   "metadata": {},
   "outputs": [
    {
     "name": "stdout",
     "output_type": "stream",
     "text": [
      "CPU times: user 20.6 ms, sys: 297 µs, total: 20.9 ms\n",
      "Wall time: 20.9 ms\n"
     ]
    }
   ],
   "source": [
    "%%time\n",
    "\n",
    "for x in range(100):\n",
    "    scores = [random.random() * 100 for _ in range(n)]"
   ]
  },
  {
   "cell_type": "code",
   "execution_count": 27,
   "metadata": {},
   "outputs": [
    {
     "name": "stdout",
     "output_type": "stream",
     "text": [
      "[37.186678223800726, 33.66908646425835, 68.9764711417753, 15.028840670402987, 14.213428550139117, 15.158461035943471, 33.517683004904576, 73.87267252545672, 96.44574141448052, 24.30243680808555]\n"
     ]
    }
   ],
   "source": [
    "print(scores[:10])"
   ]
  },
  {
   "cell_type": "markdown",
   "metadata": {},
   "source": [
    "## Numpy"
   ]
  },
  {
   "cell_type": "code",
   "execution_count": 32,
   "metadata": {},
   "outputs": [],
   "source": [
    "import numpy as np"
   ]
  },
  {
   "cell_type": "code",
   "execution_count": null,
   "metadata": {},
   "outputs": [],
   "source": []
  },
  {
   "cell_type": "code",
   "execution_count": 37,
   "metadata": {},
   "outputs": [
    {
     "name": "stdout",
     "output_type": "stream",
     "text": [
      "(1000,)\n",
      "CPU times: user 307 µs, sys: 150 µs, total: 457 µs\n",
      "Wall time: 350 µs\n"
     ]
    }
   ],
   "source": [
    "%%time\n",
    "scores_np = np.random.random(n) * 100\n",
    "print(scores_np.shape)"
   ]
  },
  {
   "cell_type": "code",
   "execution_count": 38,
   "metadata": {},
   "outputs": [
    {
     "name": "stdout",
     "output_type": "stream",
     "text": [
      "size of python array: 9024\n",
      "size of numpy array: 8096\n"
     ]
    }
   ],
   "source": [
    "print(\"size of python array: {}\".format(sys.getsizeof(scores)))\n",
    "print(\"size of numpy array: {}\".format(sys.getsizeof(scores_np)))"
   ]
  },
  {
   "cell_type": "code",
   "execution_count": 44,
   "metadata": {
    "scrolled": true
   },
   "outputs": [
    {
     "name": "stdout",
     "output_type": "stream",
     "text": [
      "[  2.18448067e+01   4.96447413e+01   9.36225998e+01   4.78071531e+01\n",
      "   3.22204054e+01   1.25472053e+01   3.78978527e+01   7.84790838e+01\n",
      "   9.91364392e+01   8.17661252e+01   6.60860576e+01   7.67780859e+01\n",
      "   9.65255966e+01   9.40117106e+01   6.70042166e+01   8.05427145e+01\n",
      "   5.81503565e+01   6.30857324e+01   4.31456721e+01   4.60086213e+01\n",
      "   2.13362684e+01   8.65022923e+01   1.84041852e+01   4.27115570e+01\n",
      "   7.33998542e+00   3.53125865e+01   9.72215520e+01   1.28704297e+01\n",
      "   2.76294021e+01   4.87613765e+01   5.45229382e+01   3.47564672e+01\n",
      "   4.65087971e+01   8.00567934e+01   9.88990254e+01   1.60953953e+01\n",
      "   8.86063335e+00   6.38344057e+01   2.91696235e+00   2.40766638e+01\n",
      "   9.30707881e+01   9.88922339e+01   8.36321698e+01   5.44942175e+01\n",
      "   8.12992350e+01   4.42439312e+01   9.41996861e+01   1.95731321e+01\n",
      "   6.25642566e+01   9.29302997e+01   2.56205071e+01   3.07386143e+01\n",
      "   2.86521959e+01   9.04202085e+01   2.45940867e+01   7.38716247e-01\n",
      "   1.48427939e+01   7.19665219e+01   9.55032214e+01   4.31191705e+01\n",
      "   9.44224661e+00   2.64262199e+01   9.78284292e+00   3.55253628e+01\n",
      "   6.01243802e+00   5.47346399e+01   6.29813135e+01   9.77366705e+01\n",
      "   4.26054033e+01   3.48955261e+01   7.40918371e+01   3.15297172e+01\n",
      "   4.63654247e+00   9.63808176e+01   6.37692970e+01   4.97941357e+01\n",
      "   2.63368918e+01   5.92463913e+01   7.12468075e+01   7.13949637e+01\n",
      "   8.35820856e+01   1.02206291e+01   2.12752901e+01   5.97288597e+01\n",
      "   2.65449955e+01   6.36114900e+01   7.08934013e+01   1.25969520e+01\n",
      "   8.23719434e+01   6.71320197e+01   1.48656224e+01   8.36835795e+01\n",
      "   9.49284876e+01   1.70328083e+01   9.40978381e+01   8.40800773e+01\n",
      "   2.60161788e+01   6.92798310e+01   8.29559166e+01   8.07466376e+01\n",
      "   8.05615726e+01   6.20976815e+01   8.28420698e+01   3.08000780e+01\n",
      "   4.65383162e+01   8.27344027e+01   4.46531586e+00   5.52946019e+01\n",
      "   6.55970661e+01   1.30831059e+01   5.60701646e+01   5.38123985e+01\n",
      "   5.26714081e+01   7.87247491e+01   8.82854090e+01   8.75238827e+01\n",
      "   5.83058293e+01   1.91468984e+01   4.74711295e+01   8.57266384e+01\n",
      "   7.38190864e+01   6.32672261e-02   8.95724025e+00   7.79192720e+01\n",
      "   5.92368730e+01   5.48281003e+01   1.64930890e+01   8.06195757e+01\n",
      "   5.84925772e+01   9.01437703e+01   2.85429331e+01   2.25561900e+01\n",
      "   5.48767384e+01   5.61947904e+01   6.61477118e+01   8.11872035e+01\n",
      "   2.54456336e+01   6.42719238e+01   4.77573752e+01   1.26061980e+00\n",
      "   5.22210920e+01   9.96476242e+01   2.18128991e+01   9.34722786e+01\n",
      "   8.79641617e+01   9.00179391e+01   4.35516248e+01   3.09643684e+00\n",
      "   3.12326543e+01   3.07146886e+01   8.50132086e+01   2.71091816e+01\n",
      "   2.11465603e+01   6.70328989e+01   9.19614684e+01   4.21532249e+01\n",
      "   6.78823501e+01   9.16241041e+01   4.17011169e+01   1.60692501e+01\n",
      "   7.19667387e+01   4.68692588e+00   2.81120877e+01   5.51087074e+01\n",
      "   9.02879936e+01   9.10969607e+00   9.16783122e-01   1.71451652e+01\n",
      "   5.13459552e+01   1.97828967e+01   4.53736391e+01   8.30836581e+00\n",
      "   6.11091140e+01   6.95594289e+01   2.71047552e+01   3.14054349e+01\n",
      "   8.66360327e+01   3.70595276e+01   3.51977161e+01   8.08243855e+01\n",
      "   2.80952857e+01   4.01311329e+01   4.69228901e+01   9.60735443e+01\n",
      "   9.99317468e+01   7.45740695e+01   7.33067871e+01   1.87276447e+01\n",
      "   1.66748852e+01   1.70746507e+01   7.76664080e+01   3.03084135e+01\n",
      "   7.23100818e+01   1.82717006e+01   8.22861602e+01   2.61777851e+01\n",
      "   3.18531089e+01   1.94913354e+01   7.61881383e+01   1.92431722e+01\n",
      "   9.12704500e+01   5.88440441e+01   4.34827713e+01   7.48056967e+01\n",
      "   6.81269172e+01   9.43849000e+01   5.60794672e+01   6.12401542e+01\n",
      "   8.16106003e+01   5.65301537e+01   9.41826471e+01   5.55375713e+01\n",
      "   8.91706373e+01   8.98766622e+01   9.04923220e+01   6.88988188e+01\n",
      "   6.81062102e+01   5.05816326e+01   5.40118124e+01   8.92905921e+00\n",
      "   8.41460168e+01   7.01919641e+01   1.74581995e+01   6.86478726e+01\n",
      "   9.22014224e+01   6.27746460e+01   2.21098989e+01   5.54186627e+01\n",
      "   2.40105401e+01   8.46727110e+00   9.50223875e+01   1.74842350e+01\n",
      "   2.47647399e+01   3.27093215e+00   9.00288315e+01   5.51013261e+00\n",
      "   4.30186771e+01   6.09193093e+01   3.80211687e+01   3.79047950e+01\n",
      "   6.18110798e+00   9.16276607e+00   6.39316450e+01   4.08851111e+01\n",
      "   5.04909371e+01   4.60824758e+01   6.92011838e+00   3.87463858e+01\n",
      "   6.69614264e+01   8.74948292e+01   3.29781623e+01   2.98085965e+01\n",
      "   6.90143485e+01   6.95256702e+01   2.53608792e+01   1.66202780e+01\n",
      "   3.01273605e+01   1.29540722e+01   5.56975378e+01   1.95269136e+01\n",
      "   2.30316122e+01   9.28389465e+01   7.54501646e+00   6.61257109e+01\n",
      "   5.90119837e+00   7.91890780e+01   4.84064674e+01   4.65602511e+01\n",
      "   6.03758445e+01   4.64029367e+01   8.79629280e+01   7.82857605e+01\n",
      "   2.11215972e+01   1.71761118e+01   4.15377635e+01   8.39265531e+01\n",
      "   4.46902850e+01   4.88711372e+01   5.01473898e+01   9.43708244e+01\n",
      "   6.58047477e+01   9.19584561e+01   5.51239374e+01   9.11921535e+01\n",
      "   6.85163904e+01   9.20124336e+01   3.12182824e+00   9.21554053e+01\n",
      "   1.84594647e+01   2.72455186e+01   8.13552206e+01   6.26121979e+01\n",
      "   5.63226467e+01   6.77455745e+01   5.76028252e+01   3.15005810e+01\n",
      "   7.20222657e+00   1.52431544e+01   2.55178206e+01   9.86961437e+01\n",
      "   8.59300467e+01   5.40514445e+01   1.49806484e+01   7.59103532e+00\n",
      "   9.46669244e+01   8.24518093e+01   1.71351958e+01   7.09542847e+01\n",
      "   4.24547675e+01   9.64684688e+01   9.17010059e+01   5.75849193e+01\n",
      "   8.05767825e+00   2.42619542e+01   1.02381795e+01   4.91184516e+01\n",
      "   2.03573706e+00   9.77804614e+01   1.17496413e+01   7.19594202e+01\n",
      "   1.09321836e+01   5.78210532e+01   9.51195725e+01   3.70289250e+01\n",
      "   7.54126355e+01   6.73012665e+01   8.36544326e+01   6.27089118e+01\n",
      "   6.07454766e+01   9.74241266e+01   1.96441583e+01   5.81660142e+00\n",
      "   1.23295780e+01   6.68265746e+01   7.76794980e+01   9.27940054e+01\n",
      "   3.64603400e+00   3.48497796e+01   7.13322339e+01   1.70967125e+01\n",
      "   1.30615518e+01   3.84850519e+01   2.64895523e+01   9.68653285e+01\n",
      "   2.03199112e+01   2.16470490e+01   9.89834375e+01   8.78860898e+01\n",
      "   4.21039903e+01   6.45805302e+01   9.65252161e+01   4.06483947e+01\n",
      "   5.59501041e+01   6.65869784e+01   3.65043500e+01   6.06100577e+01\n",
      "   6.85803292e+01   6.79509214e+01   2.04852740e+01   3.15643286e+01\n",
      "   3.75691884e+01   1.98834582e+01   6.15130571e+01   4.30937998e+01\n",
      "   8.29079319e+01   8.95720593e+01   2.76210342e+01   8.33004326e+01\n",
      "   5.27017661e+01   9.45465294e+01   4.18922638e+01   2.66010334e+00\n",
      "   8.34347488e+01   2.26185974e+00   7.56002076e+01   8.55958178e+01\n",
      "   8.18460487e+01   2.25842896e+01   5.43655308e+01   5.05676452e+01\n",
      "   2.03971375e+01   4.66488855e+01   2.06614104e+01   7.89530616e+01\n",
      "   5.65873172e+01   6.44318359e+01   2.61924154e+01   1.70389584e+01\n",
      "   2.00917646e+01   7.67349802e+01   5.98342631e+01   6.66250241e+01\n",
      "   1.04125906e+01   1.09703672e+01   6.54030739e+01   6.50665239e+01\n",
      "   1.14766794e+01   1.79100023e+01   7.62094095e+01   2.88557808e+00\n",
      "   8.75729601e+01   3.96622088e+01   7.30526215e+01   6.93143314e+01\n",
      "   2.75341429e+01   7.58127398e+01   4.32817787e+01   7.15434904e+01\n",
      "   3.55239857e+01   1.39102994e+01   8.39306064e+01   9.13178274e+00\n",
      "   8.20133979e+01   9.84915537e+01   7.22551596e+01   1.75922967e+01\n",
      "   9.17602297e+01   4.84465644e+01   3.08807313e+01   8.79345069e+01\n",
      "   7.44557940e+01   2.81317534e+01   6.88694721e+01   2.45418263e+01\n",
      "   7.48612781e+01   6.76738199e+01   7.05358679e+00   8.13260904e+00\n",
      "   1.75017538e+01   6.49053667e+01   7.07643097e+01   4.13848324e+01\n",
      "   5.97545254e+01   5.05622983e+01   1.16172783e+01   7.73921516e+01\n",
      "   1.82490088e+01   1.21992251e+01   6.80773653e+01   5.75072980e+01\n",
      "   3.09014789e+01   2.57913009e+01   4.74134863e+01   3.45114229e+01\n",
      "   3.59374229e+01   7.68146635e+01   8.13095864e+01   3.52640633e+01\n",
      "   2.10902841e+01   3.38636703e+00   1.63593004e+01   3.72293705e+01\n",
      "   7.18593964e+01   8.08445287e+01   6.59040517e+01   3.30788221e+01\n",
      "   8.90722151e+01   9.44671901e+01   7.76506585e+00   3.87995435e+01\n",
      "   3.39126650e+01   5.84699987e+01   1.52459595e+01   7.95846959e+01\n",
      "   3.15593283e+01   6.65143332e+01   7.99006735e+01   5.48968366e+00\n",
      "   9.24438100e+01   6.88216912e+01   1.23394232e+01   6.52469260e+01\n",
      "   2.32225894e+00   3.70042964e+01   1.21339694e+01   6.86416489e+01\n",
      "   9.57726105e+01   2.46521726e+01   1.27909184e+01   2.82742472e+01\n",
      "   7.08008908e+01   1.37458993e+01   8.07878816e+00   3.90849845e+01\n",
      "   5.57385826e+01   5.79144275e+01   3.74263682e+01   3.69690973e+01\n",
      "   5.03238653e+01   3.81849065e+01   8.75903279e+01   3.21243488e+01\n",
      "   2.45532388e+01   1.74184907e+01   3.36770051e+01   5.80163385e+01\n",
      "   2.27034347e+01   2.63051096e+01   9.16286665e+01   2.16378212e+00\n",
      "   2.19426786e+01   5.40442808e+01   7.93211458e+01   2.12583608e+01\n",
      "   8.03037036e+01   8.95728973e+01   8.58833454e+01   1.88723987e+01\n",
      "   8.58160733e+01   9.39208805e+01   2.79095512e+01   3.44730619e+01\n",
      "   1.44395055e+01   7.89970790e+01   6.06979578e+01   6.76254421e+01\n",
      "   5.09291933e+01   9.36456900e+01   5.02282904e+01   1.92129019e+01\n",
      "   5.16776444e+01   4.87710696e+01   7.25937582e+01   2.79243579e+01\n",
      "   7.75134209e+01   7.76494776e+01   9.78132885e+01   6.71007931e+01\n",
      "   3.10637844e+01   1.38691117e+01   7.35770273e+01   6.84324305e+01\n",
      "   9.23202952e+01   6.33047334e+01   8.22871632e+00   8.15992779e+01\n",
      "   5.33070628e+01   3.05678058e+01   7.78726212e+01   4.13258290e+01\n",
      "   9.79947043e+01   6.81524894e+01   2.30272534e+01   2.25829037e+01\n",
      "   6.30240542e+01   8.23178782e+01   3.51522147e+01   6.66187073e+01\n",
      "   1.41663123e+01   1.05393698e+01   4.79327167e+01   6.01764252e+01\n",
      "   2.30052400e+01   7.77655332e+01   9.54200927e+01   2.44697219e+01\n",
      "   5.30836152e+01   2.09648724e+00   1.64584617e+01   6.56550524e+01\n",
      "   2.36884561e+01   7.05396713e+01   7.71748787e+00   3.63390606e+01\n",
      "   7.77556257e+01   2.53582946e+00   4.93451815e+00   2.93916602e+01\n",
      "   2.96344725e+01   7.38612421e+01   1.86100289e+01   9.85804033e+00\n",
      "   6.60093537e+01   2.59637135e+01   9.66480609e+01   2.70570242e+01\n",
      "   9.43508314e+01   8.34926142e+01   5.36507146e+01   4.38782241e+01\n",
      "   8.36567771e+01   1.95354798e+00   5.83323354e+01   7.06110198e+01\n",
      "   9.62298418e+01   1.17215262e+01   2.74321718e+01   5.91421231e+01\n",
      "   7.21533622e+01   5.47497240e+01   6.40691844e+01   6.36460355e+01\n",
      "   1.61478087e+01   4.45535637e+01   3.79327540e+01   7.89197463e+01\n",
      "   5.61895464e+01   5.44324687e+01   6.26305187e+00   3.99948367e+01\n",
      "   1.83325957e+01   9.27542491e+01   9.90104246e+01   9.95674712e+01\n",
      "   6.51286794e+01   9.50421050e+01   2.70730511e+01   3.16619113e+01\n",
      "   1.15405476e+01   4.58400506e+01   7.78106226e+01   7.14667191e+01\n",
      "   4.45700478e+01   4.11557532e+01   9.28301461e+01   8.41524851e+01\n",
      "   7.41968250e+01   7.38252454e+01   9.79466682e+01   2.95795649e+01\n",
      "   8.80102392e+01   2.22096225e+00   9.31911832e+01   4.43471278e+01\n",
      "   7.40467882e+01   7.38608523e+01   6.00106657e+01   7.81710558e+01\n",
      "   8.89528164e+01   6.27497041e+01   6.88363008e+01   9.79426483e+00\n",
      "   2.81419430e+01   4.26628100e+01   4.11508308e+01   9.80641148e+01\n",
      "   3.83859974e+01   9.21839765e+01   5.39889222e+01   5.47561933e+01\n",
      "   5.33956154e+01   7.84835904e+01   7.51472045e+01   2.56895580e+01\n",
      "   6.80806110e+01   8.88738371e+01   1.58405976e+00   7.30912114e+01\n",
      "   8.20714127e+01   4.38447994e+01   1.46481863e+01   5.00965665e+01\n",
      "   5.33900311e+01   3.94213803e+01   1.82650580e+01   7.45438794e+01\n",
      "   2.06106176e+01   6.43419148e+00   1.86240778e+01   7.34791421e+01\n",
      "   4.69033099e+01   7.91823920e+01   2.67099460e+01   3.76815987e+01\n",
      "   2.86861120e+01   5.13091056e+01   6.47761493e+01   1.47682439e+01\n",
      "   3.78821949e+01   1.38410997e+00   4.07313875e+01   5.34256297e+01\n",
      "   7.46085250e+00   6.46720102e+01   1.92208631e+01   6.88819669e+01\n",
      "   6.25785811e+00   9.96088421e+01   2.38632138e+00   9.23816946e+01\n",
      "   1.02231853e+01   8.62419348e+01   3.13808313e+01   7.40701304e+01\n",
      "   4.59366525e+01   9.69648025e+01   1.47904570e+01   6.10502401e+01\n",
      "   6.13690676e+01   9.85098558e+01   5.68715627e+01   8.71192034e+01\n",
      "   4.20931568e+01   4.37341898e+01   2.27236364e+01   2.66963333e+01\n",
      "   3.95963487e+01   2.46763458e+01   9.66768987e+01   3.57005907e+01\n",
      "   5.37509884e+01   8.12911629e+01   7.88694498e+01   7.44893554e+01\n",
      "   7.47069638e+01   8.68162662e+01   5.07310561e+01   9.64014380e+01\n",
      "   2.18361089e+01   4.02297654e+01   2.46775492e+00   7.02213076e-01\n",
      "   6.44877931e+01   3.24729055e+01   4.63210520e+01   3.55423344e+01\n",
      "   5.55268113e+01   6.63074994e+01   9.62350745e+01   9.51265841e+01\n",
      "   2.20381979e+01   8.61057564e+01   5.65073004e+01   5.88499382e+01\n",
      "   2.39479405e+01   2.25399620e+00   1.77533366e+01   7.29311270e+01\n",
      "   6.69691894e+00   5.68354134e+01   7.82705539e+01   2.56592396e+01\n",
      "   2.93552825e+01   7.39086266e+01   9.41318835e+01   6.71314609e+01\n",
      "   6.11154891e+01   7.50545664e+01   5.24453740e+01   5.54900048e+01\n",
      "   9.54376253e+01   7.19032088e+01   7.75534664e+01   1.32084280e+01\n",
      "   5.78677078e+01   5.31151115e+01   8.77566901e+01   5.35894617e+01\n",
      "   2.10945510e+01   7.18779139e+01   5.64717232e+01   6.79433202e+00\n",
      "   6.20668421e+01   7.20753393e+01   7.56872331e+01   9.80648532e+01\n",
      "   8.85895683e+01   5.77008911e+01   4.58896380e+01   7.92850811e+01\n",
      "   7.28643625e+01   3.75267263e+00   6.77576307e+01   8.84789710e+00\n",
      "   8.93205494e+01   4.69156693e+01   9.25202303e+01   7.89204474e+01\n",
      "   4.78143074e+01   7.64026398e+01   7.43206652e+01   1.40021453e+01\n",
      "   8.14130768e+00   2.36212079e+00   9.95790932e+01   7.42355620e+01\n",
      "   5.04667083e+01   3.06268153e+01   1.12304540e+01   3.03801906e+00\n",
      "   2.98796446e+01   4.39263466e-01   9.03454811e+01   4.82950376e-01\n",
      "   6.51324141e+01   9.36747388e+01   4.39202283e+01   7.30942036e+01\n",
      "   6.96169993e+01   4.96875127e+00   7.52322053e+00   7.58944511e+01\n",
      "   5.31585176e+01   2.04638293e+01   3.64172645e+01   9.45493583e+01\n",
      "   2.39861936e+01   2.96907101e+01   4.76211139e+00   6.00435097e+01\n",
      "   1.21662810e+01   5.29462306e+01   5.43425518e+01   2.73998695e+01\n",
      "   5.55990513e+01   9.85908995e+01   2.02831242e+01   1.23180093e+01\n",
      "   8.63227758e+00   2.36684214e+01   4.12117102e+01   5.04985526e+01\n",
      "   5.17108653e+01   6.22570070e+01   9.58996798e+01   1.20406102e+00\n",
      "   8.98005080e+01   6.17491963e+01   9.46516922e+01   1.07192326e+01\n",
      "   6.40072339e+01   8.76432025e+01   2.50228256e+00   5.91174862e+01\n",
      "   1.34363483e+01   1.59315657e+01   1.08572872e+01   3.67603330e+01\n",
      "   8.27625095e+01   9.97065629e+01   1.01298313e+01   4.04087557e+01\n",
      "   2.88354058e+01   4.35694201e+01   8.28827913e+01   7.84555672e+01\n",
      "   7.66280140e+01   7.14476632e+01   2.49899346e+01   1.79507780e+01\n",
      "   2.50626748e+01   1.90289549e+01   2.35325396e+00   8.76191735e+01\n",
      "   1.19661795e+01   5.85439292e+01   4.52034004e+01   7.15804898e+01\n",
      "   9.64707726e+01   3.52372236e+00   3.04967270e+01   2.59140821e+00\n",
      "   6.12106186e+01   2.28489953e+01   5.74542929e+01   9.14831536e+01\n",
      "   2.00285403e+01   7.20055052e+01   3.15365087e+00   5.23152676e+01\n",
      "   8.84918618e+01   4.71068454e+00   5.90866275e+01   3.10430135e+01\n",
      "   5.12906933e+01   5.17947940e+01   6.79002364e+01   9.62493182e+01\n",
      "   7.73988825e+01   1.48991792e+01   4.34662834e+01   1.30925270e+01\n",
      "   3.49404363e+01   8.53477005e+01   9.47139705e+00   5.56424647e+01\n",
      "   3.76143930e+01   8.25929191e+01   1.68860587e+01   4.54438054e+01\n",
      "   5.69308499e+01   5.04891376e+00   6.98613037e+01   5.48009174e+01\n",
      "   1.61073293e+01   9.79689964e+01   9.17497456e+01   5.51089002e+01\n",
      "   8.34509986e+01   6.52319779e+01   3.12285904e+01   5.21757989e+01\n",
      "   7.74929621e+01   3.82940034e+01   9.18738669e+01   4.17868894e+01\n",
      "   3.93870919e+01   8.14656997e+01   2.89596345e+01   9.34030457e+00\n",
      "   1.73555038e+01   3.29561416e+01   2.53084984e+01   5.09683728e+00\n",
      "   2.80200114e+01   7.81323616e+01   2.45315974e+01   1.00947286e+01\n",
      "   6.98337946e+01   3.82748045e+01   2.86733278e+01   1.41196635e+01\n",
      "   5.12304732e+01   1.38488201e+01   3.19082309e+01   4.49223350e+01\n",
      "   3.07882384e+01   6.12048720e+01   5.48408107e+01   5.29546622e+01\n",
      "   3.86204392e+01   5.95387685e+01   2.73026869e+01   7.39828180e+01\n",
      "   9.68115837e+00   4.96463232e+01   3.19710017e+01   7.64480624e+01\n",
      "   6.22113846e+01   5.36084979e+01   2.65950978e+01   1.45910079e+01\n",
      "   7.32503410e+01   4.68298089e+01   5.94574739e+01   9.74065124e+01\n",
      "   3.03618138e+01   9.35708119e+01   9.34769261e+01   3.23151469e+01\n",
      "   3.69239778e+01   9.82393743e+00   7.22815464e+01   4.44200382e+01\n",
      "   5.06552669e+01   1.15058967e+01   9.48748178e+01   2.47691433e+01\n",
      "   9.32812628e+00   7.49767127e+01   5.29625593e+01   8.54648476e+01\n",
      "   5.30607404e+01   1.56194696e+01   8.11878700e+01   2.51659045e+01\n",
      "   3.09881576e+00   4.18317673e+01   5.38012015e+01   6.77954643e+01\n",
      "   8.90824896e+01   3.80000428e+01   7.32493176e+01   6.76292216e+01\n",
      "   5.81019744e+01   5.61867111e+01   5.44347571e+01   3.41801208e+01\n",
      "   5.81455719e+01   9.77101645e+01   7.12546306e+01   9.40795241e+01\n",
      "   2.66756099e+01   8.24128230e+01   6.07931881e+01   4.65469517e+01\n",
      "   7.55586833e+01   9.82911765e+01   5.22048999e+01   5.92981036e+01\n",
      "   7.10191179e+01   2.26279677e-01   6.28707133e+01   5.12475877e+01\n",
      "   4.12582838e+01   5.49518682e+01   4.41879630e+01   2.69976361e+01\n",
      "   6.19798329e+01   2.95367591e+01   1.55841056e+01   7.69645083e+01\n",
      "   9.01790795e+01   9.40917454e+01   8.92568366e+01   6.11458863e+01\n",
      "   2.31057401e+01   4.96822097e+01   9.22489792e+01   9.96180400e+01]\n"
     ]
    }
   ],
   "source": [
    "print(scores_np)"
   ]
  },
  {
   "cell_type": "code",
   "execution_count": 39,
   "metadata": {},
   "outputs": [
    {
     "data": {
      "image/png": "[encoded data removed]",
      "text/plain": [
       "<Figure size 432x288 with 1 Axes>"
      ]
     },
     "metadata": {
      "needs_background": "light"
     },
     "output_type": "display_data"
    }
   ],
   "source": [
    "plt.hist(scores_np, bins='auto')\n",
    "plt.show()"
   ]
  },
  {
   "cell_type": "code",
   "execution_count": 40,
   "metadata": {},
   "outputs": [
    {
     "data": {
      "text/plain": [
       "1"
      ]
     },
     "execution_count": 40,
     "metadata": {},
     "output_type": "execute_result"
    }
   ],
   "source": [
    "scores_np.ndim"
   ]
  },
  {
   "cell_type": "code",
   "execution_count": 41,
   "metadata": {},
   "outputs": [
    {
     "data": {
      "text/plain": [
       "(1000,)"
      ]
     },
     "execution_count": 41,
     "metadata": {},
     "output_type": "execute_result"
    }
   ],
   "source": [
    "scores_np.shape"
   ]
  },
  {
   "cell_type": "code",
   "execution_count": 42,
   "metadata": {},
   "outputs": [
    {
     "data": {
      "text/plain": [
       "dtype('float64')"
      ]
     },
     "execution_count": 42,
     "metadata": {},
     "output_type": "execute_result"
    }
   ],
   "source": [
    "scores_np.dtype"
   ]
  },
  {
   "cell_type": "code",
   "execution_count": 43,
   "metadata": {},
   "outputs": [
    {
     "data": {
      "text/plain": [
       "49.577247304890435"
      ]
     },
     "execution_count": 43,
     "metadata": {},
     "output_type": "execute_result"
    }
   ],
   "source": [
    "scores_np.mean()"
   ]
  },
  {
   "cell_type": "code",
   "execution_count": null,
   "metadata": {},
   "outputs": [],
   "source": []
  },
  {
   "cell_type": "markdown",
   "metadata": {},
   "source": [
    "## Датасет"
   ]
  },
  {
   "cell_type": "code",
   "execution_count": 44,
   "metadata": {},
   "outputs": [],
   "source": [
    "import pandas as pd\n",
    "        \n",
    "df = pd.DataFrame({\n",
    "    \"name\": names, \n",
    "    \"age\": ages, \n",
    "    \"gender\": genders, \n",
    "    \"admission_date\": dates,\n",
    "    \"faculty\": faculties,\n",
    "    \"average_score\": scores,\n",
    "    \"has_medal\": has_medals,\n",
    "})"
   ]
  },
  {
   "cell_type": "code",
   "execution_count": 45,
   "metadata": {},
   "outputs": [
    {
     "data": {
      "text/html": [
       "<div>\n",
       "<style scoped>\n",
       "    .dataframe tbody tr th:only-of-type {\n",
       "        vertical-align: middle;\n",
       "    }\n",
       "\n",
       "    .dataframe tbody tr th {\n",
       "        vertical-align: top;\n",
       "    }\n",
       "\n",
       "    .dataframe thead th {\n",
       "        text-align: right;\n",
       "    }\n",
       "</style>\n",
       "<table border=\"1\" class=\"dataframe\">\n",
       "  <thead>\n",
       "    <tr style=\"text-align: right;\">\n",
       "      <th></th>\n",
       "      <th>name</th>\n",
       "      <th>age</th>\n",
       "      <th>gender</th>\n",
       "      <th>admission_date</th>\n",
       "      <th>faculty</th>\n",
       "      <th>average_score</th>\n",
       "      <th>has_medal</th>\n",
       "    </tr>\n",
       "  </thead>\n",
       "  <tbody>\n",
       "    <tr>\n",
       "      <th>0</th>\n",
       "      <td>Oru Qeq</td>\n",
       "      <td>32.0</td>\n",
       "      <td>men</td>\n",
       "      <td>1981-02-01</td>\n",
       "      <td>BUSINESS</td>\n",
       "      <td>37.186678</td>\n",
       "      <td>True</td>\n",
       "    </tr>\n",
       "    <tr>\n",
       "      <th>1</th>\n",
       "      <td>Erire Jocet</td>\n",
       "      <td>NaN</td>\n",
       "      <td>None</td>\n",
       "      <td>2006-09-01</td>\n",
       "      <td>MANAGEMENT</td>\n",
       "      <td>33.669086</td>\n",
       "      <td>True</td>\n",
       "    </tr>\n",
       "    <tr>\n",
       "      <th>2</th>\n",
       "      <td>Izisa Xijutawod</td>\n",
       "      <td>35.0</td>\n",
       "      <td>None</td>\n",
       "      <td>2013-09-01</td>\n",
       "      <td>SCIENCE</td>\n",
       "      <td>68.976471</td>\n",
       "      <td>None</td>\n",
       "    </tr>\n",
       "    <tr>\n",
       "      <th>3</th>\n",
       "      <td>Azo Fez</td>\n",
       "      <td>NaN</td>\n",
       "      <td>None</td>\n",
       "      <td>1989-09-01</td>\n",
       "      <td>MANAGEMENT</td>\n",
       "      <td>15.028841</td>\n",
       "      <td>False</td>\n",
       "    </tr>\n",
       "    <tr>\n",
       "      <th>4</th>\n",
       "      <td>Ula Coh</td>\n",
       "      <td>NaN</td>\n",
       "      <td>woman</td>\n",
       "      <td>1956-02-01</td>\n",
       "      <td>SCIENCE</td>\n",
       "      <td>14.213429</td>\n",
       "      <td>True</td>\n",
       "    </tr>\n",
       "  </tbody>\n",
       "</table>\n",
       "</div>"
      ],
      "text/plain": [
       "              name   age gender admission_date     faculty  average_score  \\\n",
       "0          Oru Qeq  32.0    men     1981-02-01    BUSINESS      37.186678   \n",
       "1      Erire Jocet   NaN   None     2006-09-01  MANAGEMENT      33.669086   \n",
       "2  Izisa Xijutawod  35.0   None     2013-09-01     SCIENCE      68.976471   \n",
       "3          Azo Fez   NaN   None     1989-09-01  MANAGEMENT      15.028841   \n",
       "4          Ula Coh   NaN  woman     1956-02-01     SCIENCE      14.213429   \n",
       "\n",
       "  has_medal  \n",
       "0      True  \n",
       "1      True  \n",
       "2      None  \n",
       "3     False  \n",
       "4      True  "
      ]
     },
     "execution_count": 45,
     "metadata": {},
     "output_type": "execute_result"
    }
   ],
   "source": [
    "df.head()"
   ]
  },
  {
   "cell_type": "code",
   "execution_count": 46,
   "metadata": {},
   "outputs": [
    {
     "name": "stdout",
     "output_type": "stream",
     "text": [
      "<class 'pandas.core.frame.DataFrame'>\n",
      "RangeIndex: 1000 entries, 0 to 999\n",
      "Data columns (total 7 columns):\n",
      "name              1000 non-null object\n",
      "age               891 non-null float64\n",
      "gender            638 non-null object\n",
      "admission_date    1000 non-null object\n",
      "faculty           1000 non-null object\n",
      "average_score     1000 non-null float64\n",
      "has_medal         674 non-null object\n",
      "dtypes: float64(2), object(5)\n",
      "memory usage: 54.8+ KB\n"
     ]
    }
   ],
   "source": [
    "df.info()"
   ]
  },
  {
   "cell_type": "code",
   "execution_count": 47,
   "metadata": {},
   "outputs": [
    {
     "data": {
      "text/html": [
       "<div>\n",
       "<style scoped>\n",
       "    .dataframe tbody tr th:only-of-type {\n",
       "        vertical-align: middle;\n",
       "    }\n",
       "\n",
       "    .dataframe tbody tr th {\n",
       "        vertical-align: top;\n",
       "    }\n",
       "\n",
       "    .dataframe thead th {\n",
       "        text-align: right;\n",
       "    }\n",
       "</style>\n",
       "<table border=\"1\" class=\"dataframe\">\n",
       "  <thead>\n",
       "    <tr style=\"text-align: right;\">\n",
       "      <th></th>\n",
       "      <th>age</th>\n",
       "      <th>average_score</th>\n",
       "    </tr>\n",
       "  </thead>\n",
       "  <tbody>\n",
       "    <tr>\n",
       "      <th>count</th>\n",
       "      <td>891.000000</td>\n",
       "      <td>1000.000000</td>\n",
       "    </tr>\n",
       "    <tr>\n",
       "      <th>mean</th>\n",
       "      <td>31.080808</td>\n",
       "      <td>51.033696</td>\n",
       "    </tr>\n",
       "    <tr>\n",
       "      <th>std</th>\n",
       "      <td>7.920829</td>\n",
       "      <td>28.863905</td>\n",
       "    </tr>\n",
       "    <tr>\n",
       "      <th>min</th>\n",
       "      <td>18.000000</td>\n",
       "      <td>0.121879</td>\n",
       "    </tr>\n",
       "    <tr>\n",
       "      <th>25%</th>\n",
       "      <td>25.000000</td>\n",
       "      <td>25.696281</td>\n",
       "    </tr>\n",
       "    <tr>\n",
       "      <th>50%</th>\n",
       "      <td>30.000000</td>\n",
       "      <td>51.748219</td>\n",
       "    </tr>\n",
       "    <tr>\n",
       "      <th>75%</th>\n",
       "      <td>37.000000</td>\n",
       "      <td>75.555195</td>\n",
       "    </tr>\n",
       "    <tr>\n",
       "      <th>max</th>\n",
       "      <td>61.000000</td>\n",
       "      <td>99.709968</td>\n",
       "    </tr>\n",
       "  </tbody>\n",
       "</table>\n",
       "</div>"
      ],
      "text/plain": [
       "              age  average_score\n",
       "count  891.000000    1000.000000\n",
       "mean    31.080808      51.033696\n",
       "std      7.920829      28.863905\n",
       "min     18.000000       0.121879\n",
       "25%     25.000000      25.696281\n",
       "50%     30.000000      51.748219\n",
       "75%     37.000000      75.555195\n",
       "max     61.000000      99.709968"
      ]
     },
     "execution_count": 47,
     "metadata": {},
     "output_type": "execute_result"
    }
   ],
   "source": [
    "df.describe()"
   ]
  },
  {
   "cell_type": "code",
   "execution_count": 48,
   "metadata": {},
   "outputs": [
    {
     "data": {
      "text/plain": [
       "IT            264\n",
       "MANAGEMENT    252\n",
       "BUSINESS      246\n",
       "SCIENCE       238\n",
       "Name: faculty, dtype: int64"
      ]
     },
     "execution_count": 48,
     "metadata": {},
     "output_type": "execute_result"
    }
   ],
   "source": [
    "df['faculty'].value_counts()"
   ]
  },
  {
   "cell_type": "code",
   "execution_count": 55,
   "metadata": {},
   "outputs": [
    {
     "data": {
      "image/png": "[encoded data removed]",
      "text/plain": [
       "<Figure size 576x576 with 2 Axes>"
      ]
     },
     "metadata": {
      "needs_background": "light"
     },
     "output_type": "display_data"
    }
   ],
   "source": [
    "df.hist(bins=10, figsize=(8,8))\n",
    "plt.show()"
   ]
  },
  {
   "cell_type": "code",
   "execution_count": 57,
   "metadata": {},
   "outputs": [
    {
     "data": {
      "text/plain": [
       "array([[<matplotlib.axes._subplots.AxesSubplot object at 0x1167c6390>,\n",
       "        <matplotlib.axes._subplots.AxesSubplot object at 0x11d3ad518>],\n",
       "       [<matplotlib.axes._subplots.AxesSubplot object at 0x1166610f0>,\n",
       "        <matplotlib.axes._subplots.AxesSubplot object at 0x11d16d668>]],\n",
       "      dtype=object)"
      ]
     },
     "execution_count": 57,
     "metadata": {},
     "output_type": "execute_result"
    },
    {
     "data": {
      "image/png": "[encoded data removed]",
      "text/plain": [
       "<Figure size 864x576 with 4 Axes>"
      ]
     },
     "metadata": {
      "needs_background": "light"
     },
     "output_type": "display_data"
    }
   ],
   "source": [
    "%matplotlib inline\n",
    "from pandas.plotting import scatter_matrix\n",
    "# attributes = [\"age\", \"average_score\"]\n",
    "scatter_matrix(df, figsize=(12, 8))"
   ]
  },
  {
   "cell_type": "code",
   "execution_count": 58,
   "metadata": {},
   "outputs": [],
   "source": [
    "df_copy = df.copy()"
   ]
  },
  {
   "cell_type": "code",
   "execution_count": 59,
   "metadata": {},
   "outputs": [
    {
     "name": "stdout",
     "output_type": "stream",
     "text": [
      "<class 'pandas.core.frame.DataFrame'>\n",
      "Int64Index: 891 entries, 0 to 999\n",
      "Data columns (total 7 columns):\n",
      "name              891 non-null object\n",
      "age               891 non-null float64\n",
      "gender            570 non-null object\n",
      "admission_date    891 non-null object\n",
      "faculty           891 non-null object\n",
      "average_score     891 non-null float64\n",
      "has_medal         600 non-null object\n",
      "dtypes: float64(2), object(5)\n",
      "memory usage: 55.7+ KB\n"
     ]
    }
   ],
   "source": [
    "df.copy().dropna(subset=[\"age\"]).info()"
   ]
  },
  {
   "cell_type": "code",
   "execution_count": 60,
   "metadata": {},
   "outputs": [
    {
     "name": "stdout",
     "output_type": "stream",
     "text": [
      "<class 'pandas.core.frame.DataFrame'>\n",
      "RangeIndex: 1000 entries, 0 to 999\n",
      "Data columns (total 6 columns):\n",
      "name              1000 non-null object\n",
      "gender            638 non-null object\n",
      "admission_date    1000 non-null object\n",
      "faculty           1000 non-null object\n",
      "average_score     1000 non-null float64\n",
      "has_medal         674 non-null object\n",
      "dtypes: float64(1), object(5)\n",
      "memory usage: 47.0+ KB\n"
     ]
    }
   ],
   "source": [
    "df.copy().drop(\"age\", axis=1).info()"
   ]
  },
  {
   "cell_type": "code",
   "execution_count": 61,
   "metadata": {},
   "outputs": [
    {
     "name": "stdout",
     "output_type": "stream",
     "text": [
      "<class 'pandas.core.frame.DataFrame'>\n",
      "RangeIndex: 1000 entries, 0 to 999\n",
      "Data columns (total 7 columns):\n",
      "name              1000 non-null object\n",
      "age               1000 non-null float64\n",
      "gender            638 non-null object\n",
      "admission_date    1000 non-null object\n",
      "faculty           1000 non-null object\n",
      "average_score     1000 non-null float64\n",
      "has_medal         674 non-null object\n",
      "dtypes: float64(2), object(5)\n",
      "memory usage: 54.8+ KB\n"
     ]
    }
   ],
   "source": [
    "median = df_copy[\"age\"].median()\n",
    "df_copy[\"age\"].fillna(median, inplace=True)\n",
    "df_copy.info()"
   ]
  },
  {
   "cell_type": "markdown",
   "metadata": {},
   "source": [
    "## SkiKit-Learn API"
   ]
  },
  {
   "cell_type": "code",
   "execution_count": 64,
   "metadata": {},
   "outputs": [
    {
     "name": "stdout",
     "output_type": "stream",
     "text": [
      "<class 'sklearn.preprocessing.imputation.Imputer'>\n",
      "(<class 'sklearn.base.BaseEstimator'>, <class 'sklearn.base.TransformerMixin'>)\n"
     ]
    },
    {
     "name": "stderr",
     "output_type": "stream",
     "text": [
      "/Users/nazhmeddinbabakhanov/anaconda3/lib/python3.6/site-packages/sklearn/utils/deprecation.py:58: DeprecationWarning: Class Imputer is deprecated; Imputer was deprecated in version 0.20 and will be removed in 0.22. Import impute.SimpleImputer from sklearn instead.\n",
      "  warnings.warn(msg, category=DeprecationWarning)\n"
     ]
    }
   ],
   "source": [
    "from sklearn.preprocessing import Imputer\n",
    "imputer = Imputer(strategy=\"median\")\n",
    "print(type(imputer))\n",
    "print(Imputer.__bases__)"
   ]
  },
  {
   "cell_type": "code",
   "execution_count": 65,
   "metadata": {},
   "outputs": [
    {
     "name": "stdout",
     "output_type": "stream",
     "text": [
      "<class 'pandas.core.frame.DataFrame'>\n",
      "RangeIndex: 1000 entries, 0 to 999\n",
      "Data columns (total 2 columns):\n",
      "age              891 non-null float64\n",
      "average_score    1000 non-null float64\n",
      "dtypes: float64(2)\n",
      "memory usage: 15.7 KB\n"
     ]
    }
   ],
   "source": [
    "df_num = df[[\"age\", \"average_score\"]]\n",
    "df_num.info()"
   ]
  },
  {
   "cell_type": "code",
   "execution_count": 66,
   "metadata": {},
   "outputs": [
    {
     "data": {
      "text/plain": [
       "array([30.        , 51.74821899])"
      ]
     },
     "execution_count": 66,
     "metadata": {},
     "output_type": "execute_result"
    }
   ],
   "source": [
    "imputer.fit(df_num)\n",
    "imputer.statistics_"
   ]
  },
  {
   "cell_type": "code",
   "execution_count": 64,
   "metadata": {},
   "outputs": [
    {
     "data": {
      "text/plain": [
       "array([ 31.        ,  51.52584921])"
      ]
     },
     "execution_count": 64,
     "metadata": {},
     "output_type": "execute_result"
    }
   ],
   "source": [
    "df_num.median().values"
   ]
  },
  {
   "cell_type": "code",
   "execution_count": 65,
   "metadata": {},
   "outputs": [
    {
     "name": "stdout",
     "output_type": "stream",
     "text": [
      "<class 'pandas.core.frame.DataFrame'>\n",
      "RangeIndex: 1000 entries, 0 to 999\n",
      "Data columns (total 2 columns):\n",
      "age              1000 non-null float64\n",
      "average_score    1000 non-null float64\n",
      "dtypes: float64(2)\n",
      "memory usage: 15.7 KB\n"
     ]
    }
   ],
   "source": [
    "x = imputer.transform(df_num)\n",
    "df_tr = pd.DataFrame(x, columns=df_num.columns)\n",
    "df_tr.info()"
   ]
  },
  {
   "cell_type": "markdown",
   "metadata": {},
   "source": [
    "## Интерфейсы в sklearn\n",
    "* **estimators**  \n",
    "Подсчет некоторых характеристик  \n",
    "Параметры рачета - в конструкторе  \n",
    "Оценка методом fit  \n",
    "\n",
    "KMeans, CountVectorizer, LinearRegression, GridSearchCV\n",
    "\n",
    "* **transformers**  \n",
    "Некоторые из класса estimator могут применять преобразование к данным  \n",
    "Метод transform. Преобразование применяется с помощью характеристик, полученных в методе fit  \n",
    "Чтобы сделать это одновременно, есть метод fit_transform  \n",
    "\n",
    "TfidfTransformer, KMeans, OneHotEncoder, MinMaxScaler\n",
    "\n",
    "* **predictors**  \n",
    "Делают предсказание для данных  \n",
    "Метод predict. Метод score для оценки качества  \n",
    "SVC, SVR, KMeans"
   ]
  },
  {
   "cell_type": "markdown",
   "metadata": {},
   "source": [
    "Воспользуемся интерфейсом transformer и преобразуем категориальные признаки в числовые"
   ]
  },
  {
   "cell_type": "code",
   "execution_count": 66,
   "metadata": {},
   "outputs": [
    {
     "data": {
      "text/plain": [
       "array([2, 0, 2, 0, 0, 1, 2, 3, 3, 2])"
      ]
     },
     "execution_count": 66,
     "metadata": {},
     "output_type": "execute_result"
    }
   ],
   "source": [
    "from sklearn.preprocessing import LabelEncoder\n",
    "encoder = LabelEncoder()\n",
    "df_cat = df[\"faculty\"]\n",
    "df_cat_encoded = encoder.fit_transform(df_cat)\n",
    "df_cat_encoded[:10]"
   ]
  },
  {
   "cell_type": "code",
   "execution_count": 67,
   "metadata": {},
   "outputs": [
    {
     "name": "stdout",
     "output_type": "stream",
     "text": [
      "['BUSINESS' 'IT' 'MANAGEMENT' 'SCIENCE']\n"
     ]
    }
   ],
   "source": [
    "print(encoder.classes_)"
   ]
  },
  {
   "cell_type": "code",
   "execution_count": 68,
   "metadata": {},
   "outputs": [
    {
     "data": {
      "text/html": [
       "<div>\n",
       "<table border=\"1\" class=\"dataframe\">\n",
       "  <thead>\n",
       "    <tr style=\"text-align: right;\">\n",
       "      <th></th>\n",
       "      <th>admission_date</th>\n",
       "      <th>age</th>\n",
       "      <th>average_score</th>\n",
       "      <th>faculty</th>\n",
       "      <th>gender</th>\n",
       "      <th>has_medal</th>\n",
       "      <th>name</th>\n",
       "    </tr>\n",
       "  </thead>\n",
       "  <tbody>\n",
       "    <tr>\n",
       "      <th>0</th>\n",
       "      <td>2015-02-01</td>\n",
       "      <td>36.0</td>\n",
       "      <td>28.606381</td>\n",
       "      <td>MANAGEMENT</td>\n",
       "      <td>men</td>\n",
       "      <td>True</td>\n",
       "      <td>Ezixa Domivufax</td>\n",
       "    </tr>\n",
       "    <tr>\n",
       "      <th>1</th>\n",
       "      <td>1964-09-01</td>\n",
       "      <td>29.0</td>\n",
       "      <td>57.289064</td>\n",
       "      <td>BUSINESS</td>\n",
       "      <td>woman</td>\n",
       "      <td>None</td>\n",
       "      <td>Ika Jalequc</td>\n",
       "    </tr>\n",
       "    <tr>\n",
       "      <th>2</th>\n",
       "      <td>2001-09-01</td>\n",
       "      <td>40.0</td>\n",
       "      <td>50.314821</td>\n",
       "      <td>MANAGEMENT</td>\n",
       "      <td>None</td>\n",
       "      <td>True</td>\n",
       "      <td>Eboda Finicopaj</td>\n",
       "    </tr>\n",
       "    <tr>\n",
       "      <th>3</th>\n",
       "      <td>1991-02-01</td>\n",
       "      <td>37.0</td>\n",
       "      <td>45.702811</td>\n",
       "      <td>BUSINESS</td>\n",
       "      <td>men</td>\n",
       "      <td>None</td>\n",
       "      <td>Ehari Paqok</td>\n",
       "    </tr>\n",
       "    <tr>\n",
       "      <th>4</th>\n",
       "      <td>1996-02-01</td>\n",
       "      <td>49.0</td>\n",
       "      <td>40.662145</td>\n",
       "      <td>BUSINESS</td>\n",
       "      <td>woman</td>\n",
       "      <td>False</td>\n",
       "      <td>Amiji Pibeq</td>\n",
       "    </tr>\n",
       "  </tbody>\n",
       "</table>\n",
       "</div>"
      ],
      "text/plain": [
       "  admission_date   age  average_score     faculty gender has_medal  \\\n",
       "0     2015-02-01  36.0      28.606381  MANAGEMENT    men      True   \n",
       "1     1964-09-01  29.0      57.289064    BUSINESS  woman      None   \n",
       "2     2001-09-01  40.0      50.314821  MANAGEMENT   None      True   \n",
       "3     1991-02-01  37.0      45.702811    BUSINESS    men      None   \n",
       "4     1996-02-01  49.0      40.662145    BUSINESS  woman     False   \n",
       "\n",
       "              name  \n",
       "0  Ezixa Domivufax  \n",
       "1      Ika Jalequc  \n",
       "2  Eboda Finicopaj  \n",
       "3      Ehari Paqok  \n",
       "4      Amiji Pibeq  "
      ]
     },
     "execution_count": 68,
     "metadata": {},
     "output_type": "execute_result"
    }
   ],
   "source": [
    "df.head()"
   ]
  },
  {
   "cell_type": "code",
   "execution_count": 69,
   "metadata": {},
   "outputs": [
    {
     "data": {
      "text/plain": [
       "<1000x4 sparse matrix of type '<class 'numpy.float64'>'\n",
       "\twith 1000 stored elements in Compressed Sparse Row format>"
      ]
     },
     "execution_count": 69,
     "metadata": {},
     "output_type": "execute_result"
    }
   ],
   "source": [
    "from sklearn.preprocessing import OneHotEncoder\n",
    "encoder = OneHotEncoder()\n",
    "df_cat_1hot = encoder.fit_transform(df_cat_encoded.reshape(-1,1))\n",
    "df_cat_1hot"
   ]
  },
  {
   "cell_type": "code",
   "execution_count": 70,
   "metadata": {},
   "outputs": [
    {
     "data": {
      "text/plain": [
       "array([[ 0.,  0.,  1.,  0.],\n",
       "       [ 1.,  0.,  0.,  0.],\n",
       "       [ 0.,  0.,  1.,  0.],\n",
       "       ..., \n",
       "       [ 0.,  1.,  0.,  0.],\n",
       "       [ 0.,  0.,  0.,  1.],\n",
       "       [ 1.,  0.,  0.,  0.]])"
      ]
     },
     "execution_count": 70,
     "metadata": {},
     "output_type": "execute_result"
    }
   ],
   "source": [
    "df_cat_1hot.toarray()"
   ]
  },
  {
   "cell_type": "code",
   "execution_count": 71,
   "metadata": {},
   "outputs": [
    {
     "data": {
      "text/plain": [
       "array([[0, 0, 1, 0],\n",
       "       [1, 0, 0, 0],\n",
       "       [0, 0, 1, 0],\n",
       "       ..., \n",
       "       [0, 1, 0, 0],\n",
       "       [0, 0, 0, 1],\n",
       "       [1, 0, 0, 0]])"
      ]
     },
     "execution_count": 71,
     "metadata": {},
     "output_type": "execute_result"
    }
   ],
   "source": [
    "from sklearn.preprocessing import LabelBinarizer\n",
    "encoder = LabelBinarizer()\n",
    "df_cat_1hot = encoder.fit_transform(df_cat)\n",
    "df_cat_1hot"
   ]
  },
  {
   "cell_type": "markdown",
   "metadata": {},
   "source": [
    "## Набор преобразований (pipeline)"
   ]
  },
  {
   "cell_type": "code",
   "execution_count": 72,
   "metadata": {
    "collapsed": true
   },
   "outputs": [],
   "source": [
    "from sklearn.pipeline import Pipeline\n",
    "from sklearn.preprocessing import StandardScaler\n",
    "num_pipeline = Pipeline([\n",
    "    ('imputer', Imputer(strategy=\"median\")),\n",
    "    ('std_scaler', StandardScaler()),\n",
    "])\n",
    "df_num_tr = num_pipeline.fit_transform(df_num)"
   ]
  },
  {
   "cell_type": "code",
   "execution_count": 73,
   "metadata": {},
   "outputs": [
    {
     "data": {
      "text/plain": [
       "array([[ 0.52197503, -0.78490141],\n",
       "       [-0.37510948,  0.21202188],\n",
       "       [ 1.03459475, -0.0303817 ],\n",
       "       ..., \n",
       "       [ 2.57245392, -0.20147578],\n",
       "       [-0.11879962,  0.58351755],\n",
       "       [-1.01588413,  1.49374683]])"
      ]
     },
     "execution_count": 73,
     "metadata": {},
     "output_type": "execute_result"
    }
   ],
   "source": [
    "df_num_tr"
   ]
  },
  {
   "cell_type": "markdown",
   "metadata": {
    "slideshow": {
     "slide_type": "slide"
    }
   },
   "source": [
    "# Зачем это все\n",
    "\n",
    "1. **Хотим, чтобы машины работали вместо нас**  \n",
    "    **Машины уже и так много делают за нас**\n",
    " * Собирают машины\n",
    "<img src=\"pics/robot_auto.jpg\" style=\"width: 400px;\"/>\n",
    " * производят ткани\n",
    "<img src=\"pics/robot_fiber.jpg\" style=\"width: 400px;\"/>\n",
    " * Что еще?   \n",
    " \n",
    "    **Машины могут делать еще больше**\n",
    " * пилотировать автомобиль\n",
    " * рассказывать, что они видят (что может помочь, например, слабовидящим)\n",
    " * помочь клиенту решить проблему в колл-центре\n",
    " * выбрать релевантные резюме из очень большого списка кандидатов\n",
    " * ваши варианты?\n",
    " \n",
    " \n",
    "2. **Хотим предсказывать будущее**\n",
    "  * хотим знать курс валют и стоимость акций завтра\n",
    "  * хотим знать, вернет ли клиент кредит\n",
    "  * хотим знать, какой товар понадобится человеку завтра\n",
    "  * хотим поймать момент, когда игрок уйдет насовсем из нашей MMORPG\n",
    "  * ваши варианты?"
   ]
  },
  {
   "cell_type": "markdown",
   "metadata": {
    "slideshow": {
     "slide_type": "slide"
    }
   },
   "source": [
    "# Первое, что приходит в голову - написать много правил\n",
    "Какой сложности будет программа, описывающая все правила русского языка? Можно ли написать такую программу? Сколько займет времени её модификация?  \n",
    "А программа для автоматического перевода с любого языка на любой язык?\n"
   ]
  },
  {
   "cell_type": "markdown",
   "metadata": {
    "slideshow": {
     "slide_type": "slide"
    }
   },
   "source": [
    "# Машинное обучение\n",
    "1. Machine Learning is the science (and art) of programming computers so they can learn from data.\n",
    "2. [Machine Learning is the] field of study that gives computers the ability to learn without being explicitly programmed. —Arthur Samuel, 1959\n",
    "3. A computer program is said to learn from experience E with respect to some task T and some performance measure P, if its performance on T, as measured by P, improves with experience E. —Tom Mitchell, 1997"
   ]
  },
  {
   "cell_type": "markdown",
   "metadata": {
    "collapsed": true,
    "slideshow": {
     "slide_type": "slide"
    }
   },
   "source": [
    "### Задачи машинного обучения\n"
   ]
  },
  {
   "cell_type": "markdown",
   "metadata": {
    "slideshow": {
     "slide_type": "slide"
    }
   },
   "source": [
    "# Supervised learning \\ Обучение с учителем\n",
    "В данных известен ответ, класс или число"
   ]
  },
  {
   "cell_type": "markdown",
   "metadata": {
    "collapsed": true,
    "slideshow": {
     "slide_type": "slide"
    }
   },
   "source": [
    "## Классификация\n",
    "В данных известен класс. Для новых данных нужно определить, к каким классам они относятся\n"
   ]
  },
  {
   "cell_type": "code",
   "execution_count": 67,
   "metadata": {
    "slideshow": {
     "slide_type": "slide"
    }
   },
   "outputs": [
    {
     "name": "stdout",
     "output_type": "stream",
     "text": [
      "Classification report for classifier SVC(C=1.0, cache_size=200, class_weight=None, coef0=0.0,\n",
      "  decision_function_shape='ovr', degree=3, gamma=0.001, kernel='rbf',\n",
      "  max_iter=-1, probability=False, random_state=None, shrinking=True,\n",
      "  tol=0.001, verbose=False):\n",
      "              precision    recall  f1-score   support\n",
      "\n",
      "           0       1.00      0.99      0.99        88\n",
      "           1       0.99      0.97      0.98        91\n",
      "           2       0.99      0.99      0.99        86\n",
      "           3       0.98      0.87      0.92        91\n",
      "           4       0.99      0.96      0.97        92\n",
      "           5       0.95      0.97      0.96        91\n",
      "           6       0.99      0.99      0.99        91\n",
      "           7       0.96      0.99      0.97        89\n",
      "           8       0.94      1.00      0.97        88\n",
      "           9       0.93      0.98      0.95        92\n",
      "\n",
      "   micro avg       0.97      0.97      0.97       899\n",
      "   macro avg       0.97      0.97      0.97       899\n",
      "weighted avg       0.97      0.97      0.97       899\n",
      "\n",
      "\n",
      "Confusion matrix:\n",
      "[[87  0  0  0  1  0  0  0  0  0]\n",
      " [ 0 88  1  0  0  0  0  0  1  1]\n",
      " [ 0  0 85  1  0  0  0  0  0  0]\n",
      " [ 0  0  0 79  0  3  0  4  5  0]\n",
      " [ 0  0  0  0 88  0  0  0  0  4]\n",
      " [ 0  0  0  0  0 88  1  0  0  2]\n",
      " [ 0  1  0  0  0  0 90  0  0  0]\n",
      " [ 0  0  0  0  0  1  0 88  0  0]\n",
      " [ 0  0  0  0  0  0  0  0 88  0]\n",
      " [ 0  0  0  1  0  1  0  0  0 90]]\n"
     ]
    },
    {
     "data": {
      "image/png": "[encoded data removed]",
      "text/plain": [
       "<Figure size 432x288 with 8 Axes>"
      ]
     },
     "metadata": {
      "needs_background": "light"
     },
     "output_type": "display_data"
    }
   ],
   "source": [
    "# Standard scientific Python imports\n",
    "import matplotlib.pyplot as plt\n",
    "\n",
    "# Import datasets, classifiers and performance metrics\n",
    "from sklearn import datasets, svm, metrics\n",
    "\n",
    "# The digits dataset\n",
    "digits = datasets.load_digits()\n",
    "\n",
    "# The data that we are interested in is made of 8x8 images of digits, let's\n",
    "# have a look at the first 4 images, stored in the `images` attribute of the\n",
    "# dataset.  If we were working from image files, we could load them using\n",
    "# matplotlib.pyplot.imread.  Note that each image must have the same size. For these\n",
    "# images, we know which digit they represent: it is given in the 'target' of\n",
    "# the dataset.\n",
    "images_and_labels = list(zip(digits.images, digits.target))\n",
    "for index, (image, label) in enumerate(images_and_labels[:4]):\n",
    "    plt.subplot(2, 4, index + 1)\n",
    "    plt.axis('off')\n",
    "    plt.imshow(image, cmap=plt.cm.gray_r, interpolation='nearest')\n",
    "    plt.title('Training: %i' % label)\n",
    "\n",
    "# To apply a classifier on this data, we need to flatten the image, to\n",
    "# turn the data in a (samples, feature) matrix:\n",
    "n_samples = len(digits.images)\n",
    "data = digits.images.reshape((n_samples, -1))\n",
    "\n",
    "# Create a classifier: a support vector classifier\n",
    "classifier = svm.SVC(gamma=0.001)\n",
    "\n",
    "# We learn the digits on the first half of the digits\n",
    "classifier.fit(data[:int(n_samples / 2)], digits.target[:int(n_samples / 2)])\n",
    "\n",
    "# Now predict the value of the digit on the second half:\n",
    "expected = digits.target[int(n_samples / 2):]\n",
    "predicted = classifier.predict(data[int(n_samples / 2):])\n",
    "\n",
    "print(\"Classification report for classifier %s:\\n%s\\n\"\n",
    "      % (classifier, metrics.classification_report(expected, predicted)))\n",
    "print(\"Confusion matrix:\\n%s\" % metrics.confusion_matrix(expected, predicted))\n",
    "\n",
    "images_and_predictions = list(zip(digits.images[int(n_samples / 2):], predicted))\n",
    "for index, (image, prediction) in enumerate(images_and_predictions[:4]):\n",
    "    plt.subplot(2, 4, index + 5)\n",
    "    plt.axis('off')\n",
    "    plt.imshow(image, cmap=plt.cm.gray_r, interpolation='nearest')\n",
    "    plt.title('Prediction: %i' % prediction)\n",
    "\n",
    "plt.show()\n"
   ]
  },
  {
   "cell_type": "markdown",
   "metadata": {
    "slideshow": {
     "slide_type": "slide"
    }
   },
   "source": [
    "## Регрессия\n",
    "В данных известена некоторая числовая величина. Для новых данных нужно определить значение этой величины."
   ]
  },
  {
   "cell_type": "code",
   "execution_count": 70,
   "metadata": {
    "slideshow": {
     "slide_type": "slide"
    }
   },
   "outputs": [
    {
     "name": "stdout",
     "output_type": "stream",
     "text": [
      ".. _boston_dataset:\n",
      "\n",
      "Boston house prices dataset\n",
      "---------------------------\n",
      "\n",
      "**Data Set Characteristics:**  \n",
      "\n",
      "    :Number of Instances: 506 \n",
      "\n",
      "    :Number of Attributes: 13 numeric/categorical predictive. Median Value (attribute 14) is usually the target.\n",
      "\n",
      "    :Attribute Information (in order):\n",
      "        - CRIM     per capita crime rate by town\n",
      "        - ZN       proportion of residential land zoned for lots over 25,000 sq.ft.\n",
      "        - INDUS    proportion of non-retail business acres per town\n",
      "        - CHAS     Charles River dummy variable (= 1 if tract bounds river; 0 otherwise)\n",
      "        - NOX      nitric oxides concentration (parts per 10 million)\n",
      "        - RM       average number of rooms per dwelling\n",
      "        - AGE      proportion of owner-occupied units built prior to 1940\n",
      "        - DIS      weighted distances to five Boston employment centres\n",
      "        - RAD      index of accessibility to radial highways\n",
      "        - TAX      full-value property-tax rate per $10,000\n",
      "        - PTRATIO  pupil-teacher ratio by town\n",
      "        - B        1000(Bk - 0.63)^2 where Bk is the proportion of blacks by town\n",
      "        - LSTAT    % lower status of the population\n",
      "        - MEDV     Median value of owner-occupied homes in $1000's\n",
      "\n",
      "    :Missing Attribute Values: None\n",
      "\n",
      "    :Creator: Harrison, D. and Rubinfeld, D.L.\n",
      "\n",
      "This is a copy of UCI ML housing dataset.\n",
      "https://archive.ics.uci.edu/ml/machine-learning-databases/housing/\n",
      "\n",
      "\n",
      "This dataset was taken from the StatLib library which is maintained at Carnegie Mellon University.\n",
      "\n",
      "The Boston house-price data of Harrison, D. and Rubinfeld, D.L. 'Hedonic\n",
      "prices and the demand for clean air', J. Environ. Economics & Management,\n",
      "vol.5, 81-102, 1978.   Used in Belsley, Kuh & Welsch, 'Regression diagnostics\n",
      "...', Wiley, 1980.   N.B. Various transformations are used in the table on\n",
      "pages 244-261 of the latter.\n",
      "\n",
      "The Boston house-price data has been used in many machine learning papers that address regression\n",
      "problems.   \n",
      "     \n",
      ".. topic:: References\n",
      "\n",
      "   - Belsley, Kuh & Welsch, 'Regression diagnostics: Identifying Influential Data and Sources of Collinearity', Wiley, 1980. 244-261.\n",
      "   - Quinlan,R. (1993). Combining Instance-Based and Model-Based Learning. In Proceedings on the Tenth International Conference of Machine Learning, 236-243, University of Massachusetts, Amherst. Morgan Kaufmann.\n",
      "\n",
      "['CRIM' 'ZN' 'INDUS' 'CHAS' 'NOX' 'RM' 'AGE' 'DIS' 'RAD' 'TAX' 'PTRATIO'\n",
      " 'B' 'LSTAT']\n",
      "(506, 13)\n",
      "(506,)\n",
      "[[6.3200e-03 1.8000e+01 2.3100e+00 ... 1.5300e+01 3.9690e+02 4.9800e+00]\n",
      " [2.7310e-02 0.0000e+00 7.0700e+00 ... 1.7800e+01 3.9690e+02 9.1400e+00]\n",
      " [2.7290e-02 0.0000e+00 7.0700e+00 ... 1.7800e+01 3.9283e+02 4.0300e+00]\n",
      " ...\n",
      " [6.0760e-02 0.0000e+00 1.1930e+01 ... 2.1000e+01 3.9690e+02 5.6400e+00]\n",
      " [1.0959e-01 0.0000e+00 1.1930e+01 ... 2.1000e+01 3.9345e+02 6.4800e+00]\n",
      " [4.7410e-02 0.0000e+00 1.1930e+01 ... 2.1000e+01 3.9690e+02 7.8800e+00]]\n"
     ]
    }
   ],
   "source": [
    "from sklearn.datasets import load_boston\n",
    "boston = load_boston()\n",
    "print(boston.DESCR)\n",
    "print(boston.feature_names)\n",
    "print(boston.data.shape)\n",
    "print(boston.target.shape)\n",
    "print(boston.data)"
   ]
  },
  {
   "cell_type": "code",
   "execution_count": 71,
   "metadata": {
    "slideshow": {
     "slide_type": "slide"
    }
   },
   "outputs": [
    {
     "name": "stderr",
     "output_type": "stream",
     "text": [
      "/Users/nazhmeddinbabakhanov/anaconda3/lib/python3.6/site-packages/sklearn/linear_model/base.py:485: RuntimeWarning: internal gelsd driver lwork query error, required iwork dimension not returned. This is likely the result of LAPACK bug 0038, fixed in LAPACK 3.2.2 (released July 21, 2010). Falling back to 'gelss' driver.\n",
      "  linalg.lstsq(X, y)\n"
     ]
    },
    {
     "data": {
      "image/png": "[encoded data removed]",
      "text/plain": [
       "<Figure size 432x288 with 1 Axes>"
      ]
     },
     "metadata": {},
     "output_type": "display_data"
    }
   ],
   "source": [
    "import numpy as np\n",
    "from sklearn import linear_model\n",
    "import matplotlib.pyplot as plt\n",
    "\n",
    "# Use only one feature\n",
    "X = boston.data[:, np.newaxis, 0]\n",
    "\n",
    "# Split the data into training/testing sets\n",
    "X_train = X[:-100]\n",
    "X_test = X[-100:]\n",
    "\n",
    "# Split the targets into training/testing sets\n",
    "y_train = boston.target[:-100]\n",
    "y_test = boston.target[-100:]\n",
    "\n",
    "# Create linear regression object\n",
    "regr = linear_model.LinearRegression()\n",
    "\n",
    "# Train the model using the training sets\n",
    "regr.fit(X_train, y_train)\n",
    "\n",
    "# Plot outputs\n",
    "plt.scatter(X_test, y_test,  color='black')\n",
    "plt.plot(X_test, regr.predict(X_test), color='blue',\n",
    "         linewidth=3)\n",
    "\n",
    "plt.xticks(())\n",
    "plt.yticks(())\n",
    "\n",
    "plt.show()\n"
   ]
  },
  {
   "cell_type": "markdown",
   "metadata": {
    "slideshow": {
     "slide_type": "slide"
    }
   },
   "source": [
    "## Unsupervised learning \\ Обучение без учителя"
   ]
  },
  {
   "cell_type": "markdown",
   "metadata": {
    "slideshow": {
     "slide_type": "slide"
    }
   },
   "source": [
    "## Кластеризация\n",
    "В данных, возможно, есть какая-либо структура. Но нет знания о том, есть ли она и какой формы."
   ]
  },
  {
   "cell_type": "code",
   "execution_count": 72,
   "metadata": {
    "slideshow": {
     "slide_type": "slide"
    }
   },
   "outputs": [
    {
     "data": {
      "image/png": "[encoded data removed]",
      "text/plain": [
       "<Figure size 360x684 with 4 Axes>"
      ]
     },
     "metadata": {},
     "output_type": "display_data"
    }
   ],
   "source": [
    "# http://scikit-learn.org/stable/auto_examples/cluster/plot_cluster_comparison.html\n",
    "%matplotlib inline\n",
    "\n",
    "\n",
    "import numpy as np\n",
    "import matplotlib.pyplot as plt\n",
    "\n",
    "from sklearn import datasets\n",
    "from sklearn.preprocessing import StandardScaler\n",
    "\n",
    "np.random.seed(0)\n",
    "\n",
    "n_samples = 1500\n",
    "noisy_circles = datasets.make_circles(n_samples=n_samples, factor=.5,\n",
    "                                      noise=.05)\n",
    "noisy_moons = datasets.make_moons(n_samples=n_samples, noise=.05)\n",
    "blobs = datasets.make_blobs(n_samples=n_samples, random_state=8)\n",
    "no_structure = np.random.rand(n_samples, 2), None\n",
    "\n",
    "plt.figure(figsize=(2 + 3, 9.5))\n",
    "\n",
    "datasets = [noisy_circles, noisy_moons, blobs, no_structure]\n",
    "for i_dataset, dataset in enumerate(datasets):\n",
    "    X, y = dataset\n",
    "    # normalize dataset for easier parameter selection\n",
    "    X = StandardScaler().fit_transform(X)\n",
    "\n",
    "    # plot\n",
    "    plt.subplot(4, 1, i_dataset + 1)\n",
    "    plt.scatter(X[:, 0], X[:, 1], s=10)\n",
    "    plt.xlim(-2, 2)\n",
    "    plt.ylim(-2, 2)\n",
    "    plt.xticks(())\n",
    "    plt.yticks(())\n",
    "\n",
    "plt.show()"
   ]
  },
  {
   "cell_type": "code",
   "execution_count": 74,
   "metadata": {
    "slideshow": {
     "slide_type": "slide"
    }
   },
   "outputs": [
    {
     "name": "stdout",
     "output_type": "stream",
     "text": [
      "(1500, 2)\n",
      "(array([[-0.67799938, -0.69875698],\n",
      "       [ 0.93143746,  0.19139133],\n",
      "       [ 0.54829131, -0.00601715],\n",
      "       ...,\n",
      "       [-0.34518816, -0.35804797],\n",
      "       [ 0.01719727, -0.94513802],\n",
      "       [ 0.91377877, -0.59884164]]), array([0, 0, 1, ..., 1, 0, 0]))\n",
      "(1500, 2)\n",
      "(array([[ 0.49627131, -0.34275349],\n",
      "       [-0.16629956,  0.92234209],\n",
      "       [ 0.71895601,  0.66529038],\n",
      "       ...,\n",
      "       [ 1.90950927,  0.02989686],\n",
      "       [ 0.54623069, -0.36003133],\n",
      "       [ 0.04090016,  0.37069297]]), array([1, 0, 0, ..., 1, 1, 1]))\n",
      "(1500, 2)\n",
      "(array([[ 5.86749807,  8.17715188],\n",
      "       [ 5.61369982,  9.93295527],\n",
      "       [ 7.22508428, 10.44886194],\n",
      "       ...,\n",
      "       [ 7.73674097, 10.82855388],\n",
      "       [-4.61701094, -9.64855983],\n",
      "       [-3.48640175, -9.25766922]]), array([0, 0, 0, ..., 0, 2, 2]))\n",
      "(1500, 2)\n",
      "(array([[0.59945663, 0.24694133],\n",
      "       [0.5173267 , 0.57255303],\n",
      "       [0.55229185, 0.40567924],\n",
      "       ...,\n",
      "       [0.8384347 , 0.52906874],\n",
      "       [0.84228843, 0.11517496],\n",
      "       [0.91963613, 0.22592146]]), None)\n"
     ]
    }
   ],
   "source": [
    "for i_dataset, dataset in enumerate(datasets):\n",
    "    print(dataset[0].shape)\n",
    "    print(dataset)"
   ]
  },
  {
   "cell_type": "markdown",
   "metadata": {
    "slideshow": {
     "slide_type": "slide"
    }
   },
   "source": [
    "## Выделение шума\n",
    "Известны очищенные данные. В новых примерах нужно выделить шум."
   ]
  },
  {
   "cell_type": "code",
   "execution_count": 75,
   "metadata": {
    "slideshow": {
     "slide_type": "slide"
    }
   },
   "outputs": [
    {
     "data": {
      "image/png": "[encoded data removed]",
      "text/plain": [
       "<Figure size 432x288 with 1 Axes>"
      ]
     },
     "metadata": {
      "needs_background": "light"
     },
     "output_type": "display_data"
    }
   ],
   "source": [
    "# http://scikit-learn.org/stable/auto_examples/ensemble/plot_isolation_forest.html#sphx-glr-auto-examples-ensemble-plot-isolation-forest-py\n",
    "\n",
    "import numpy as np\n",
    "import matplotlib.pyplot as plt\n",
    "\n",
    "rng = np.random.RandomState(42)\n",
    "\n",
    "# Generate train data\n",
    "X = 0.3 * rng.randn(100, 2)\n",
    "X_train = np.r_[X + 2, X - 2]\n",
    "# Generate some regular novel observations\n",
    "X = 0.3 * rng.randn(20, 2)\n",
    "X_test = np.r_[X + 2, X - 2]\n",
    "# Generate some abnormal novel observations\n",
    "X_outliers = rng.uniform(low=-4, high=4, size=(20, 2))\n",
    "\n",
    "b1 = plt.scatter(X_train[:, 0], X_train[:, 1], c='black')\n",
    "b2 = plt.scatter(X_test[:, 0], X_test[:, 1], c='green')\n",
    "c = plt.scatter(X_outliers[:, 0], X_outliers[:, 1], c='red')\n",
    "plt.axis('tight')\n",
    "plt.xlim((-5, 5))\n",
    "plt.ylim((-5, 5))\n",
    "plt.legend([b1, b2, c],\n",
    "           [\"training observations\",\n",
    "            \"new regular observations\", \"new abnormal observations\"],\n",
    "           loc=\"upper left\")\n",
    "plt.show()"
   ]
  },
  {
   "cell_type": "markdown",
   "metadata": {
    "slideshow": {
     "slide_type": "slide"
    }
   },
   "source": [
    "### Визуализация данных\n",
    "Найти способ отобразить данные в графическом виде и извлечь из этого знания"
   ]
  },
  {
   "cell_type": "code",
   "execution_count": 76,
   "metadata": {
    "slideshow": {
     "slide_type": "slide"
    }
   },
   "outputs": [
    {
     "name": "stdout",
     "output_type": "stream",
     "text": [
      "Computing t-SNE embedding\n"
     ]
    },
    {
     "data": {
      "image/png": "[encoded data removed]",
      "text/plain": [
       "<Figure size 432x288 with 1 Axes>"
      ]
     },
     "metadata": {},
     "output_type": "display_data"
    },
    {
     "data": {
      "image/png": "[encoded data removed]",
      "text/plain": [
       "<Figure size 432x288 with 1 Axes>"
      ]
     },
     "metadata": {},
     "output_type": "display_data"
    }
   ],
   "source": [
    "# http://scikit-learn.org/stable/auto_examples/manifold/plot_lle_digits.html#sphx-glr-auto-examples-manifold-plot-lle-digits-py\n",
    "\n",
    "from time import time\n",
    "\n",
    "import numpy as np\n",
    "import matplotlib.pyplot as plt\n",
    "from matplotlib import offsetbox\n",
    "from sklearn import (manifold, datasets, decomposition, ensemble,\n",
    "                     discriminant_analysis, random_projection)\n",
    "\n",
    "digits = datasets.load_digits(n_class=6)\n",
    "X = digits.data\n",
    "y = digits.target\n",
    "n_samples, n_features = X.shape\n",
    "n_neighbors = 30\n",
    "\n",
    "#----------------------------------------------------------------------\n",
    "# Scale and visualize the embedding vectors\n",
    "def plot_embedding(X, title=None):\n",
    "    x_min, x_max = np.min(X, 0), np.max(X, 0)\n",
    "    X = (X - x_min) / (x_max - x_min)\n",
    "\n",
    "    plt.figure()\n",
    "    ax = plt.subplot(111)\n",
    "    for i in range(X.shape[0]):\n",
    "        plt.text(X[i, 0], X[i, 1], str(digits.target[i]),\n",
    "                 color=plt.cm.Set1(y[i] / 10.),\n",
    "                 fontdict={'weight': 'bold', 'size': 9})\n",
    "\n",
    "    if hasattr(offsetbox, 'AnnotationBbox'):\n",
    "        # only print thumbnails with matplotlib > 1.0\n",
    "        shown_images = np.array([[1., 1.]])  # just something big\n",
    "        for i in range(digits.data.shape[0]):\n",
    "            dist = np.sum((X[i] - shown_images) ** 2, 1)\n",
    "            if np.min(dist) < 4e-3:\n",
    "                # don't show points that are too close\n",
    "                continue\n",
    "            shown_images = np.r_[shown_images, [X[i]]]\n",
    "            imagebox = offsetbox.AnnotationBbox(\n",
    "                offsetbox.OffsetImage(digits.images[i], cmap=plt.cm.gray_r),\n",
    "                X[i])\n",
    "            ax.add_artist(imagebox)\n",
    "    plt.xticks([]), plt.yticks([])\n",
    "    if title is not None:\n",
    "        plt.title(title)\n",
    "\n",
    "        \n",
    "# Plot images of the digits\n",
    "n_img_per_row = 20\n",
    "img = np.zeros((10 * n_img_per_row, 10 * n_img_per_row))\n",
    "for i in range(n_img_per_row):\n",
    "    ix = 10 * i + 1\n",
    "    for j in range(n_img_per_row):\n",
    "        iy = 10 * j + 1\n",
    "        img[ix:ix + 8, iy:iy + 8] = X[i * n_img_per_row + j].reshape((8, 8))\n",
    "\n",
    "plt.imshow(img, cmap=plt.cm.binary)\n",
    "plt.xticks([])\n",
    "plt.yticks([])\n",
    "plt.title('A selection from the 64-dimensional digits dataset')\n",
    "\n",
    "\n",
    "# t-SNE embedding of the digits dataset\n",
    "print(\"Computing t-SNE embedding\")\n",
    "tsne = manifold.TSNE(n_components=2, init='pca', random_state=0)\n",
    "t0 = time()\n",
    "X_tsne = tsne.fit_transform(X)\n",
    "\n",
    "plot_embedding(X_tsne,\n",
    "               \"t-SNE embedding of the digits (time %.2fs)\" %\n",
    "               (time() - t0))\n",
    "\n",
    "plt.show()"
   ]
  },
  {
   "cell_type": "code",
   "execution_count": 77,
   "metadata": {
    "slideshow": {
     "slide_type": "slide"
    }
   },
   "outputs": [
    {
     "name": "stdout",
     "output_type": "stream",
     "text": [
      "(1083, 64)\n",
      "[[ 0.  0.  5. ...  0.  0.  0.]\n",
      " [ 0.  0.  0. ... 10.  0.  0.]\n",
      " [ 0.  0.  0. ... 16.  9.  0.]\n",
      " ...\n",
      " [ 0.  0.  0. ...  9.  0.  0.]\n",
      " [ 0.  0.  0. ...  4.  0.  0.]\n",
      " [ 0.  0.  6. ...  6.  0.  0.]]\n"
     ]
    }
   ],
   "source": [
    "print(X.shape)\n",
    "print(X)"
   ]
  },
  {
   "cell_type": "markdown",
   "metadata": {
    "slideshow": {
     "slide_type": "slide"
    }
   },
   "source": [
    "## Вопрос"
   ]
  },
  {
   "cell_type": "code",
   "execution_count": 78,
   "metadata": {},
   "outputs": [],
   "source": [
    "import requests"
   ]
  },
  {
   "cell_type": "code",
   "execution_count": 79,
   "metadata": {},
   "outputs": [],
   "source": [
    "res = requests.get('http://vk.com')"
   ]
  },
  {
   "cell_type": "code",
   "execution_count": 80,
   "metadata": {},
   "outputs": [
    {
     "data": {
      "text/plain": [
       "'<!DOCTYPE html PUBLIC \"-//W3C//DTD XHTML 1.0 Strict//EN\" \"http://www.w3.org/TR/xhtml1/DTD/xhtml1-strict.dtd\">\\n<html xmlns=\"http://www.w3.org/1999/xhtml\" xml:lang=\"ru\" lang=\"ru\">\\n<head>\\n<meta http-equiv=\"X-UA-Compatible\" content=\"IE=edge\" />\\n<link rel=\"shortcut icon\" href=\"/images/icons/favicons/fav_logo.ico?6\" />\\n\\n<link rel=\"apple-touch-icon\" href=\"/images/safari_60.png?1\">\\n<link rel=\"apple-touch-icon\" sizes=\"76x76\" href=\"/images/safari_76.png?1\">\\n<link rel=\"apple-touch-icon\" sizes=\"120x120\" href=\"/images/safari_120.png?1\">\\n<link rel=\"apple-touch-icon\" sizes=\"152x152\" href=\"/images/safari_152.png?1\">\\n\\n<meta http-equiv=\"content-type\" content=\"text/html; charset=windows-1251\" />\\n<meta name=\"description\" content=\"ВКонтакте – универсальное средство для общения и поиска друзей и одноклассников, которым ежедневно пользуются десятки миллионов человек. Мы хотим, чтобы друзья, однокурсники, одноклассники, соседи и коллеги всегда оставались в контакте.\" />\\n\\n\\n<title>Добро пожаловать | ВКонтакте</title>\\n\\n<noscript><meta http-equiv=\"refresh\" content=\"0; URL=/badbrowser.php\"></noscript>\\n\\n<link rel=\"stylesheet\" type=\"text/css\" href=\"/css/al/common.css?60201939279\" /><link rel=\"stylesheet\" type=\"text/css\" href=\"/css/al/fonts_cnt.css?2660709036\" />\\n\\n<script type=\"text/javascript\">\\nvar vk = {\\n  ads_rotate_interval: 120000,\\n  al: parseInt(\\'4\\') || 4,\\n  id: 0,\\n  intnat: \\'\\' ? true : false,\\n  host: \\'vk.com\\',\\n  lang: 0,\\n  rtl: parseInt(\\'\\') || 0,\\n  version: 8736264659622,\\n  stDomains: 0,\\n  stDomain: \\'\\',\\n  stExcludedMasks: [\"loader_nav\",\"lang\"],\\n  zero: false,\\n  contlen: 12748,\\n  loginscheme: \\'https\\',\\n  ip_h: \\'6a615211c17c7a3da3\\',\\n  navPrefix: \\'/\\',\\n  dt: parseInt(\\'0\\') || 0,\\n  fs: parseInt(\\'13\\') || 13,\\n  ts: 1547381809,\\n  tz: 10800,\\n  pd: 0,\\n  css_dir: \\'\\',\\n  vcost: 7,\\n  time: [2019, 1, 13, 15, 16, 49],\\n  sampleUser: -1, spentLastSendTS: new Date().getTime(),\\n  a11y: 0,\\n  statusExportHash: \\'\\',\\n  audioAdsConfig: {\"_\":\"_\"},\\n  longViewTestGroup: \"every_view\",\\n  cma: 1,\\n  lpConfig: {\\n    enabled: 0,\\n    key: \\'\\',\\n    ts: 0,\\n    url: \\'\\',\\n    lpstat: 0\\n  },\\n\\n  pr_tpl: \"<div class=\\\\\"pr %cls%\\\\\" id=\\\\\"%id%\\\\\"><div class=\\\\\"pr_bt\\\\\"><\\\\/div><div class=\\\\\"pr_bt\\\\\"><\\\\/div><div class=\\\\\"pr_bt\\\\\"><\\\\/div><\\\\/div>\",\\n\\n  audioInlinePlayerTpl: \"<div class=\\\\\"audio_inline_player _audio_inline_player no_select\\\\\">\\\\n  <div class=\\\\\"audio_inline_player_right\\\\\">\\\\n    <div class=\\\\\"audio_inline_player_volume\\\\\"><\\\\/div>\\\\n  <\\\\/div>\\\\n  <div class=\\\\\"audio_inline_player_left\\\\\">\\\\n    <div class=\\\\\"audio_inline_player_progress\\\\\"><\\\\/div>\\\\n  <\\\\/div>\\\\n<\\\\/div>\",\\n\\n  tnsPixelType: \\'unauth\\'\\n};;vk.rv=\"17928\";;if (!window.constants) { window.constants = {Groups: {\\n  GROUPS_ADMIN_LEVEL_USER: 0,\\n  GROUPS_ADMIN_LEVEL_MODERATOR: 1,\\n  GROUPS_ADMIN_LEVEL_EDITOR: 2,\\n  GROUPS_ADMIN_LEVEL_ADMINISTRATOR: 3,\\n  GROUPS_ADMIN_LEVEL_HOST: 4,\\n  GROUPS_ADMIN_LEVEL_EVENT_CREATOR: 5,\\n  GROUPS_ADMIN_LEVEL_CREATOR: 6,\\n  GROUPS_ADMIN_PSEUDO_LEVEL_ADVERTISER: 100\\n}}; };\\n\\nwindow.locDomain = vk.host.match(/[a-zA-Z]+\\\\.[a-zA-Z]+\\\\.?$/)[0];\\nvar _ua = navigator.userAgent.toLowerCase();\\nif (/opera/i.test(_ua) || !/msie 6/i.test(_ua) || document.domain != locDomain) document.domain = locDomain;\\nvar ___htest = (location.toString().match(/#(.*)/) || {})[1] || \\'\\', ___to;\\n___htest = ___htest.split(\\'#\\').pop();\\nif (vk.al != 1 && ___htest.length && ___htest.substr(0, 1) == vk.navPrefix) {\\n  if (vk.al != 3 || vk.navPrefix != \\'!\\') {\\n    ___to = ___htest.replace(/^(\\\\/|!)/, \\'\\');\\n    if (___to.match(/^([^\\\\?]*\\\\.php|login|mobile)([^a-z0-9\\\\.]|$)/)) ___to = \\'\\';\\n    location.replace(location.protocol + \\'//\\' + location.host + \\'/\\' + ___to);\\n  }\\n}\\n\\nvar StaticFiles = {\\n  \\'cmodules/web/common_web.js\\' : {v: 29},\\n  \\'common.css\\' : {v: 60201939279},\\'fonts_cnt.css\\' : {v: 2660709036}\\n  ,\\'lang0_0.js\\': {v: 25789696},\\'index.css\\':{v:19750248180},\\'index.js\\':{v:4237256002},\\'login.css\\':{v:17044894964},\\'ui_controls.css\\':{v:14978008529},\\'ui_controls.js\\':{v:1562992786},\\'fifa2018.js\\':{v:1},\\'time_spent.js\\':{v:732637085},\\'cmodules/web/page_layout.js\\':{v:2293731470},\\'ui_common.js\\':{v:1415203699},\\'ui_common.css\\':{v:18007337855},\\'audioplayer.js\\':{v:193440918271},\\'cmodules/web/likes.js\\':{v:1},\\'cmodules/web/grip.js\\':{v:4164501492}\\n}\\nvar abp;\\n</script>\\n\\n<link type=\"text/css\" rel=\"stylesheet\" href=\"/css/al/index.css?19750248180\"></link><link type=\"text/css\" rel=\"stylesheet\" href=\"/css/al/login.css?17044894964\"></link><link type=\"text/css\" rel=\"stylesheet\" href=\"/css/ui_controls.css?14978008529\"></link><link type=\"text/css\" rel=\"stylesheet\" href=\"/css/al/ui_common.css?18007337855\"></link><script type=\"text/javascript\" src=\"/js/loader_nav8736264659622_0.js\"></script><script type=\"text/javascript\" src=\"/js/cmodules/web/common_web.js?29_131075549343\"></script><script type=\"text/javascript\" src=\"/js/lang0_0.js?25789696\"></script><script type=\"text/javascript\" src=\"/js/lib/px.js?ch=1\"></script><script type=\"text/javascript\" src=\"/js/lib/px.js?ch=2\"></script><link rel=\"alternate\" media=\"only screen and (max-width: 640px)\" href=\"https://m.vk.com/\" /><link rel=\"alternate\" href=\"android-app://com.vkontakte.android/vkontakte/m.vk.com/\" /><meta name=\"google-site-verification\" content=\"CNjLCRpSR2sryzCC4NQKKCL5WnvmBTaag2J_UlTyYeQ\" /><meta name=\"yandex-verification\" content=\"798f8402854bea07\" /><script type=\"text/javascript\" src=\"/js/al/index.js?4237256002\"></script><script type=\"text/javascript\" src=\"/js/lib/ui_controls.js?1562992786\"></script><script type=\"text/javascript\" src=\"/js/cmodules/web/fifa2018.js?1\"></script><script type=\"text/javascript\" src=\"/js/al/time_spent.js?732637085\"></script><script type=\"text/javascript\" src=\"/js/cmodules/web/page_layout.js?2293731470\"></script><script type=\"text/javascript\" src=\"/js/al/ui_common.js?1415203699\"></script><script type=\"text/javascript\" src=\"/js/cmodules/web/audioplayer.js?193440918271\"></script><script type=\"text/javascript\" src=\"/js/cmodules/web/likes.js?1\"></script><script type=\"text/javascript\" src=\"/js/cmodules/web/grip.js?4164501492\"></script>\\n\\n</head>\\n\\n<body onresize=\"onBodyResize()\" class=\"mac sf index_page\">\\n  <div id=\"system_msg\" class=\"fixed\"></div>\\n  <div id=\"utils\"></div>\\n\\n  <div id=\"layer_bg\" class=\"fixed\"></div><div id=\"layer_wrap\" class=\"scroll_fix_wrap fixed layer_wrap\"><div id=\"layer\"></div></div>\\n  <div id=\"box_layer_bg\" class=\"fixed\"></div><div id=\"box_layer_wrap\" class=\"scroll_fix_wrap fixed\"><div id=\"box_layer\"><div id=\"box_loader\"><div class=\"pr pr_baw pr_medium\" id=\"box_loader_pr\"><div class=\"pr_bt\"></div><div class=\"pr_bt\"></div><div class=\"pr_bt\"></div></div><div class=\"back\"></div></div></div></div>\\n\\n  <div id=\"stl_left\"></div><div id=\"stl_side\"></div>\\n\\n  <script type=\"text/javascript\">window.domStarted && domStarted();</script>\\n\\n  <div class=\"scroll_fix_wrap _page_wrap\" id=\"page_wrap\"><div><div class=\"scroll_fix\">\\n  \\n\\n  <div id=\"page_header_cont\" class=\"page_header_cont\">\\n    <div class=\"back\"></div>\\n    <div id=\"page_header_wrap\" class=\"page_header_wrap\">\\n      <a class=\"top_back_link\" href=\"\" id=\"top_back_link\" onclick=\"if (nav.go(this, event, {back: true}) === false) { showBackLink(); return false; }\"></a>\\n      <div id=\"page_header\" class=\"p_head p_head_l0\" style=\"width: 960px\">\\n        <div class=\"content\">\\n          <div id=\"top_nav\" class=\"head_nav\">\\n  <div class=\"head_nav_item fl_l\"><a class=\"top_home_link fl_l\" href=\"/\" aria-label=\"На главную\" accesskey=\"1\" ><div class=\"top_home_logo\"></div></a></div>\\n  <div class=\"head_nav_item fl_l\"><div id=\"ts_wrap\" class=\"ts_wrap\" onmouseover=\"TopSearch.initFriendsList();\">\\n  <input name=\"disable-autofill\" style=\"display: none;\" />\\n  <input type=\"text\" onmousedown=\"event.cancelBubble = true;\" ontouchstart=\"event.cancelBubble = true;\" class=\"text ts_input\" id=\"ts_input\" autocomplete=\"off\" name=\"disable-autofill\" placeholder=\"Поиск\" aria-label=\"Поиск\" />\\n</div></div>\\n  <div class=\"head_nav_item fl_l head_nav_btns\"><span id=\"top_audio_layer_place\"></span></div>\\n  <div class=\"head_nav_item fl_r\"><a class=\"top_nav_link\" href=\"\" id=\"top_switch_lang\" style=\"\" onclick=\"ajax.post(\\'al_index.php\\', {act: \\'change_lang\\', lang_id: 3, hash: \\'0533db290c4279e164\\' }); return false;\">\\n  Switch to English\\n</a><a class=\"top_nav_link\" href=\"/join\" id=\"top_reg_link\" style=\"display: none\" onclick=\"return !showBox(\\'join.php\\', {act: \\'box\\', from: nav.strLoc}, {}, event)\">\\n  регистрация\\n</a></div>\\n  <div class=\"head_nav_item_player\"></div>\\n</div>\\n<div id=\"ts_cont_wrap\" class=\"ts_cont_wrap\" ontouchstart=\"event.cancelBubble = true;\" onmousedown=\"event.cancelBubble = true;\"></div>\\n        </div>\\n      </div>\\n    </div>\\n  </div>\\n\\n  <div id=\"page_layout\" style=\"width: 960px;\">\\n    <div id=\"side_bar\" class=\"side_bar fl_l \" style=\"display: none\">\\n      <div id=\"side_bar_inner\" class=\"side_bar_inner\">\\n        <div id=\"quick_login\" class=\"quick_login\">\\n  <form method=\"POST\" name=\"login\" id=\"quick_login_form\" action=\"https://login.vk.com/?act=login\">\\n    <input type=\"hidden\" name=\"act\" value=\"login\" />\\n    <input type=\"hidden\" name=\"role\" value=\"al_frame\" />\\n    <input type=\"hidden\" name=\"expire\" id=\"quick_expire_input\" value=\"\" />\\n    <input type=\"hidden\" name=\"recaptcha\" id=\"quick_recaptcha\" value=\"\" />\\n    <input type=\"hidden\" name=\"captcha_sid\" id=\"quick_captcha_sid\" value=\"\" />\\n    <input type=\"hidden\" name=\"captcha_key\" id=\"quick_captcha_key\" value=\"\" />\\n    <input type=\"hidden\" name=\"_origin\" value=\"https://vk.com\" />\\n    <input type=\"hidden\" name=\"ip_h\" value=\"6a615211c17c7a3da3\" />\\n    <input type=\"hidden\" name=\"lg_h\" value=\"6fcd4eefa510d66479\" />\\n    <input type=\"hidden\" name=\"ul\" id=\"quick_login_ul\" value=\"\" />\\n    <div class=\"label\">Телефон или email</div>\\n    <div class=\"labeled\"><input type=\"text\" name=\"email\" class=\"dark\" id=\"quick_email\" /></div>\\n    <div class=\"label\">Пароль</div>\\n    <div class=\"labeled\"><input type=\"password\" name=\"pass\" class=\"dark\" id=\"quick_pass\" onkeyup=\"toggle(\\'quick_expire\\', !!this.value);toggle(\\'quick_forgot\\', !this.value)\" /></div>\\n    <input type=\"submit\" class=\"submit\" />\\n  </form>\\n  <button class=\"quick_login_button flat_button button_wide\" id=\"quick_login_button\">Войти</button>\\n  <button class=\"quick_reg_button flat_button button_wide\" id=\"quick_reg_button\" style=\"display: none\" onclick=\"top.showBox(\\'join.php\\', {act: \\'box\\', from: nav.strLoc})\">Регистрация</button>\\n  <div class=\"clear forgot\"><div class=\"checkbox\" id=\"quick_expire\" onclick=\"checkbox(this);ge(\\'quick_expire_input\\').value=isChecked(this)?1:\\'\\';\">Чужой компьютер</div><a id=\"quick_forgot\" class=\"quick_forgot\" href=\"/restore\" target=\"_top\">Забыли пароль?</a></div>\\n</div>\\n      </div>\\n    </div>\\n\\n    <div id=\"page_body\" class=\"fl_r \" style=\"width: 960px;\">\\n      <div id=\"header_wrap2\">\\n        <div id=\"header_wrap1\">\\n          <div id=\"header\" style=\"display: none\">\\n            <h1 id=\"title\"></h1>\\n          </div>\\n        </div>\\n      </div>\\n      <div id=\"wrap_between\"></div>\\n      <div id=\"wrap3\"><div id=\"wrap2\">\\n  <div id=\"wrap1\">\\n    <div id=\"content\"><div id=\"index_rcolumn\" class=\"index_rcolumn\">\\n  <div id=\"index_login\" class=\"page_block index_login\">\\n    <form method=\"post\" name=\"login\" id=\"index_login_form\" action=\"https://login.vk.com/?act=login\">\\n      <input type=\"hidden\" name=\"act\" id=\"act\" value=\"login\">\\n      <input type=\"hidden\" name=\"role\" value=\"al_frame\" />\\n      <input type=\"hidden\" name=\"expire\" id=\"index_expire_input\" value=\"\" />\\n      <input type=\"hidden\" name=\"_origin\" value=\"https://vk.com\" />\\n      <input type=\"hidden\" name=\"ip_h\" value=\"6a615211c17c7a3da3\" />\\n      <input type=\"hidden\" name=\"lg_h\" value=\"6fcd4eefa510d66479\" />\\n      <input type=\"text\" class=\"big_text\" name=\"email\" id=\"index_email\" value=\"\" placeholder=\"Телефон или email\" />\\n      <input type=\"password\" class=\"big_text\" name=\"pass\" id=\"index_pass\" value=\"\" placeholder=\"Пароль\" onkeyup=\"toggle(\\'index_expire\\', !!this.value);toggle(\\'index_forgot\\', !this.value)\" />\\n      <button id=\"index_login_button\" class=\"index_login_button flat_button button_big_text\">Войти</button>\\n      <div class=\"forgot\">\\n        <div class=\"checkbox\" id=\"index_expire\" onclick=\"checkbox(this);ge(\\'index_expire_input\\').value=isChecked(this)?1:\\'\\';\">Чужой компьютер</div>\\n        <a id=\"index_forgot\" class=\"index_forgot\" href=\"/restore\" target=\"_top\">Забыли пароль?</a>\\n      </div>\\n    </form>\\n  </div>\\n  <div id=\"ij_form\" class=\"page_block ij_form\">\\n    <h2 class=\"ij_header\">Впервые ВКонтакте?</h2>\\n    <div class=\"ij_subheader\">Моментальная регистрация</div>\\n    <div id=\"ij_msg\"></div>\\n    <input type=\"text\" class=\"big_text\" id=\"ij_first_name\" value=\"\" placeholder=\"Ваше имя\" />\\n    <input type=\"text\" class=\"big_text\" id=\"ij_last_name\" value=\"\" placeholder=\"Ваша фамилия\" />\\n    <div class=\"ij_label\">Дата рождения<span class=\"hint_icon\" data-title=\"&lt;b&gt;Заполненная дата рождения&lt;/b&gt; позволит друзьям легче найти Вас, а также подбирать для Вас интересные материалы.&lt;br&gt;Вы сможете всегда настроить видимость Вашей даты рождения в редактировании профиля.\" onmouseover=\"showHint(this);\"></span></div>\\n    <div id=\"ij_birthdate_row\" class=\"ij_birthdate_row clear_fix\">\\n      <div class=\"ij_bday\"><input type=\"text\" class=\"big_text\" id=\"ij_bday\" /></div>\\n      <div class=\"ij_bmonth\"><input type=\"text\" class=\"big_text\" id=\"ij_bmonth\" /></div>\\n      <div class=\"ij_byear\"><input type=\"text\" class=\"big_text\" id=\"ij_byear\" /></div>\\n    </div>\\n    <div id=\"ij_sex_row\" class=\"clear_fix unshown\">\\n      <div class=\"ij_label\">Ваш пол</div>\\n      <div class=\"radiobtn\" onclick=\"radiobtn(this, 1, \\'ij_sex\\');\">Женский</div>\\n      <div class=\"radiobtn\" onclick=\"radiobtn(this, 2, \\'ij_sex\\');\">Мужской</div>\\n    </div>\\n    <button class=\"flat_button button_wide button_big_text ij_button\" id=\"ij_submit\" onclick=\"Index.submitJoinStart()\">Продолжить регистрацию</button>\\n    <div id=\"index_fbsign\" class=\"index_fbsign\">\\n      <a id=\"index_fb\" class=\"index_fb_lnk\" href=\"\" onclick=\"return Index.fbJoin();\"><div class=\"index_fb_icon\"></div>Войти через Facebook</a>\\n    </div>\\n    <div id=\"index_fbcontinuewithsign\" class=\"index_fbcontinuewithsign\">\\n      <div class=\"fb-login-button index_fb_continue_with_btn\" onclick=\"return Index.fbJoin();\" data-use-continue-as=\"true\" data-width=\"264\" data-max-rows=\"1\" data-size=\"medium\" data-button-type=\"continue_with\"></div>\\n    </div>\\n  </div>\\n</div>\\n<div class=\"login_mobile_promo_wrap clear_fix\">\\n  <div class=\"login_mobile_apps\">\\n    <div class=\"login_mobile_header\">ВКонтакте для мобильных устройств</div>\\n    <div class=\"login_mobile_info\">Установите официальное мобильное приложение ВКонтакте и оставайтесь в\\xa0курсе новостей Ваших друзей, где бы Вы ни находились.</div>\\n    \\n    <div class=\"login_app_devices\">\\n\\n      <a href=\"https://play.google.com/store/apps/details?id=com.vkontakte.android\" target=\"_blank\" class=\"login_app_device login_app_device_android\">\\n        <div class=\"login_app_device_screen_wrap\">\\n          <div class=\"login_app_device_screen login_app_device_ru\"></div>\\n        </div>\\n\\n        <div class=\"login_app_download_wrap\">\\n          <button class=\"flat_button secondary button_light\">\\n            <span class=\"login_app_download_icon\"></span>\\n            VK для Android\\n          </button>\\n        </div>\\n      </a>\\n\\n      <a href=\"https://www.microsoft.com/store/apps/9wzdncrfj1pt\" target=\"_blank\" class=\"login_app_device login_app_device_wp\">\\n        <div class=\"login_app_device_screen_wrap\">\\n          <div class=\"login_app_device_screen login_app_device_ru\"></div>\\n        </div>\\n\\n        <div class=\"login_app_download_wrap\">\\n          <button class=\"flat_button secondary button_light\">\\n            <span class=\"login_app_download_icon\"></span>\\n            VK для WP\\n          </button>\\n        </div>\\n      </a>\\n\\n      <a href=\"https://itunes.apple.com/ru/app/id564177498\" target=\"_blank\" class=\"login_app_device login_app_device_ios\">\\n        <div class=\"login_app_device_screen_wrap\">\\n          <div class=\"login_app_device_screen login_app_device_ru\"></div>\\n        </div>\\n\\n        <div class=\"login_app_download_wrap\">\\n          <button class=\"flat_button secondary button_light\">\\n            <span class=\"login_app_download_icon\"></span>\\n            VK для iPhone\\n          </button>\\n        </div>\\n      </a>\\n\\n    </div>\\n    <a href=\"/products\" class=\"login_all_products_button\">Все продукты</a>\\n  </div>\\n  <a onclick=\"curBox().hide()\" id=\"login_mobile_close\" class=\"login_mobile_close\"></a>\\n\\n  <div class=\"login_about_mobile\">\\n    Для доступа к быстрой мобильной версии сайта ВКонтакте достаточно ввести в Вашем телефоне короткий адрес: <a target=\"_blank\" href=\"https://m.vk.com\">m.vk.com</a>\\n  </div>\\n</div>\\n<div id=\"index_footer_wrap\" class=\"footer_wrap index_footer_wrap\">\\n  <div class=\"footer_nav\" id=\"bottom_nav\">\\n  <div class=\"footer_copy fl_l\"><a href=\"/about\">ВКонтакте</a> &copy; 2006–2019</div>\\n  <div class=\"footer_lang fl_r\">Язык:<a class=\"footer_lang_link\" onclick=\"ajax.post(\\'al_index.php\\', {act: \\'change_lang\\', lang_id: 3, hash: \\'0533db290c4279e164\\'})\">English</a><a class=\"footer_lang_link\" onclick=\"ajax.post(\\'al_index.php\\', {act: \\'change_lang\\', lang_id: 0, hash: \\'0533db290c4279e164\\'})\">Русский</a><a class=\"footer_lang_link\" onclick=\"ajax.post(\\'al_index.php\\', {act: \\'change_lang\\', lang_id: 1, hash: \\'0533db290c4279e164\\'})\">Українська</a><a class=\"footer_lang_link\" onclick=\"if (vk.al) { showBox(\\'lang.php\\', {act: \\'lang_dialog\\', all: 1}, {params: {dark: true, bodyStyle: \\'padding: 0px\\'}, noreload: true}); } else { changeLang(1); } return false;\">все языки &raquo;</a></div>\\n  <div class=\"footer_links\">\\n    <a class=\"bnav_a\" href=\"/about\">о компании</a>\\n    <a class=\"bnav_a\" href=\"/support?act=home\" style=\"display: none;\">помощь</a>\\n    <a class=\"bnav_a\" href=\"/terms\">правила</a>\\n    <a class=\"bnav_a\" href=\"/ads\" style=\"\">реклама</a>\\n    \\n    <a class=\"bnav_a\" href=\"/dev\">разработчикам</a>\\n    <a class=\"bnav_a\" href=\"/jobs\" style=\"display: none;\">вакансии</a>\\n  </div>\\n</div>\\n\\n<div class=\"footer_bench clear\">\\n  \\n</div>\\n</div></div>\\n  </div>\\n</div></div>\\n    </div>\\n\\n    <div id=\"footer_wrap\" class=\"footer_wrap fl_r\" style=\"width: 960px;\"><div class=\"footer_nav\" id=\"bottom_nav\">\\n  <div class=\"footer_copy fl_l\"><a href=\"/about\">ВКонтакте</a> &copy; 2006–2019</div>\\n  <div class=\"footer_lang fl_r\">Язык:<a class=\"footer_lang_link\" onclick=\"ajax.post(\\'al_index.php\\', {act: \\'change_lang\\', lang_id: 3, hash: \\'0533db290c4279e164\\'})\">English</a><a class=\"footer_lang_link\" onclick=\"ajax.post(\\'al_index.php\\', {act: \\'change_lang\\', lang_id: 0, hash: \\'0533db290c4279e164\\'})\">Русский</a><a class=\"footer_lang_link\" onclick=\"ajax.post(\\'al_index.php\\', {act: \\'change_lang\\', lang_id: 1, hash: \\'0533db290c4279e164\\'})\">Українська</a><a class=\"footer_lang_link\" onclick=\"if (vk.al) { showBox(\\'lang.php\\', {act: \\'lang_dialog\\', all: 1}, {params: {dark: true, bodyStyle: \\'padding: 0px\\'}, noreload: true}); } else { changeLang(1); } return false;\">все языки &raquo;</a></div>\\n  <div class=\"footer_links\">\\n    <a class=\"bnav_a\" href=\"/about\">о компании</a>\\n    <a class=\"bnav_a\" href=\"/support?act=home\" style=\"display: none;\">помощь</a>\\n    <a class=\"bnav_a\" href=\"/terms\">правила</a>\\n    <a class=\"bnav_a\" href=\"/ads\" style=\"\">реклама</a>\\n    \\n    <a class=\"bnav_a\" href=\"/dev\">разработчикам</a>\\n    <a class=\"bnav_a\" href=\"/jobs\" style=\"display: none;\">вакансии</a>\\n  </div>\\n</div>\\n\\n<div class=\"footer_bench clear\">\\n  \\n</div></div>\\n\\n    <div class=\"clear\"></div>\\n  </div>\\n</div></div><noscript><div style=\"position:absolute;left:-10000px;\">\\n<img src=\"//top-fwz1.mail.ru/counter?id=2579437;js=na\" style=\"border:0;\" height=\"1\" width=\"1\" />\\n</div></noscript></div>\\n  <div class=\"progress\" id=\"global_prg\"></div>\\n\\n  <script type=\"text/javascript\">\\n    if (parent && parent != window && (browser.msie || browser.opera || browser.mozilla || browser.chrome || browser.safari || browser.iphone)) {\\n      document.getElementsByTagName(\\'body\\')[0].innerHTML = \\'\\';\\n    } else {\\n      window.domReady && domReady();\\n      updateMoney(0);\\ninitPageLayoutUI();\\nif (browser.iphone || browser.ipad || browser.ipod) {\\n  setStyle(bodyNode, {webkitTextSizeAdjust: \\'none\\'});\\n}var qf = ge(\\'quick_login_form\\'), ql = ge(\\'quick_login\\'), qe = ge(\\'quick_email\\'), qp = ge(\\'quick_pass\\');\\nvar qlb = ge(\\'quick_login_button\\'), prgBtn = qlb;\\n\\nvar qinit = function() {\\n  setTimeout(function() {\\n    ql.insertBefore(ce(\\'div\\', {innerHTML: \\'<iframe class=\"upload_frame\" id=\"quick_login_frame\" name=\"quick_login_frame\"></iframe>\\'}), qf);\\n    qf.target = \\'quick_login_frame\\';\\n    qe.onclick = loginByCredential;\\n    qp.onclick = loginByCredential;\\n  }, 1);\\n}\\n\\nif (window.top && window.top != window) {\\n  window.onload = qinit;\\n} else {\\n  setTimeout(qinit, 0);\\n}\\n\\nqf.onsubmit = function() {\\n  if (!ge(\\'quick_login_frame\\')) return false;\\n  if (!val(\\'quick_login_ul\\') && !trim(qe.value)) {\\n    notaBene(qe);\\n    return false;\\n  } else if (!trim(qp.value)) {\\n    notaBene(qp);\\n    return false;\\n  }\\n  lockButton(window.__qfBtn = prgBtn);\\n  prgBtn = qlb;\\n  clearTimeout(__qlTimer);\\n  __qlTimer = setTimeout(loginSubmitError, 30000);\\n  domFC(domPS(qf)).onload = function() {\\n    clearTimeout(__qlTimer);\\n    __qlTimer = setTimeout(loginSubmitError, 2500);\\n  }\\n  return true;\\n}\\n\\nwindow.loginSubmitError = function() {\\n  showFastBox(\\'Предупреждениe\\', \\'Не удается пройти авторизацию по защищённому соединению. Чаще всего это происходит, когда на Вашем компьютере установлены неправильные текущие дата и время. Пожалуйста, проверьте настройки даты и времени в системе и перезапустите браузер.\\');\\n}\\nwindow.focusLoginInput = function() {\\n  scrollToTop(0);\\n  notaBene(\\'quick_email\\');\\n}\\nwindow.changeQuickRegButton = function(noShow) {\\n  if (noShow) {\\n    hide(\\'top_reg_link\\', \\'quick_reg_button\\');\\n  } else {\\n    show(\\'top_reg_link\\', \\'quick_reg_button\\');\\n  }\\n  toggle(\\'top_switch_lang\\', noShow && window.langConfig && window.langConfig.id != 3);\\n}\\nwindow.submitQuickLoginForm = function(email, pass, opts) {\\n  setQuickLoginData(email, pass, opts);\\n  if (opts && opts.prg) prgBtn = opts.prg;\\n  if (qf.onsubmit()) qf.submit();\\n}\\nwindow.setQuickLoginData = function(email, pass, opts) {\\n  if (email !== undefined) ge(\\'quick_email\\').value = email;\\n  if (pass !== undefined) ge(\\'quick_pass\\').value = pass;\\n  var params = opts && opts.params || {};\\n  each (params, function(i, v) {\\n    var el = ge(\\'quick_\\' + i) || ge(\\'quick_login_\\' + i);;\\n    if (el) {\\n      val(el, params[i]);\\n    } else {\\n      qf.appendChild(ce(\\'input\\', {type: \\'hidden\\', name: i, id: \\'quick_login_\\' + i, value: v}));\\n    }\\n  });\\n}\\nwindow.loginByCredential = function() {\\n  if (!browserFeatures.cmaEnabled || !window.submitQuickLoginForm || window._loginByCredOffered) return false;\\n\\n  _loginByCredOffered = true;\\n  navigator.credentials.get({\\n    password: true,\\n    mediation: \\'required\\'\\n  }).then(function(cred) {\\n    if (cred) {\\n      submitQuickLoginForm(cred.id, cred.password);\\n      return true;\\n    } else {\\n      return false;\\n    }\\n  });\\n}\\n\\nif (qlb) {\\n  qlb.onclick = function() { if (qf.onsubmit()) qf.submit(); };\\n}\\n\\nif (browser.opera_mobile) show(\\'quick_expire\\');\\n\\nif (1) {\\n  hide(\\'support_link_td\\', \\'top_support_link\\');\\n}\\nvar ts_input = ge(\\'ts_input\\');\\nif (ts_input) {\\n  placeholderSetup(ts_input, {back: false, reload: true, phColor: \\'#8fadc8\\'});\\n}\\nTopSearch.init();;window.shortCurrency && shortCurrency();\\nwindow.handlePageParams && handlePageParams({\"id\":0,\"loc\":\"\",\"noleftmenu\":1,\"wrap_page\":1,\"width\":960,\"width_dec\":0,\"width_dec_footer\":0,\"top_home_link_class\":\"top_home_link fl_l\",\"body_class\":\"mac sf index_page\",\"counters\":\"\",\"pvbig\":0,\"pvdark\":1});addEvent(document, \\'click\\', onDocumentClick);\\naddLangKeys({\"global_apps\":\"Приложения\",\"global_friends\":\"Друзья\",\"global_communities\":\"Сообщества\",\"head_search_results\":\"Результаты поиска\",\"global_chats\":\"Диалоги\",\"global_show_all_results\":\"Показать все результаты\",\"global_news_search_results\":\"Результаты поиска в новостях\",\"global_emoji_cat_recent\":\"Часто используемые\",\"global_emoji_cat_1\":\"Эмоции\",\"global_emoji_cat_2\":\"Животные и растения\",\"global_emoji_cat_3\":\"Жесты и люди\",\"global_emoji_cat_4\":\"Еда и напитки\",\"global_emoji_cat_5\":\"Спорт и активности\",\"global_emoji_cat_6\":\"Путешествия и транспорт\",\"global_emoji_cat_7\":\"Предметы\",\"global_emoji_cat_8\":\"Символы\",\"global_emoji_cat_9\":\"Флаги\",\"stories_remove_warning\":\"Вы действительно хотите удалить историю?<br>Отменить действие будет невозможно.\",\"stories_narrative_remove_warning\":\"Вы действительно хотите удалить сюжет?<br>Отменить действие будет невозможно.\",\"stories_remove_confirm\":\"Удалить\",\"stories_answer_placeholder\":\"Ваше сообщение…\",\"stories_answer_sent\":\"Сообщение отправлено\",\"stories_blacklist_title\":\"Скрыты из историй\",\"stories_settings\":\"Настройки\",\"stories_add_blacklist_title\":\"Скрытие из историй\",\"stories_add_blacklist_message\":\"Пользователь останется в друзьях, но истории не будут показываться в новостях.\",\"stories_add_blacklist_button\":\"Скрыть из историй\",\"stories_add_blacklist_message_group\":\"Вы останетесь подписчиком сообщества, но истории не будут показываться в новостях.\",\"stories_error_cant_load\":\"Не удалось загрузить историю.\",\"stories_try_again\":\"Попробовать ещё раз\",\"stories_error_expired\":\"Историю можно было посмотреть<br>в течение 24 часов после публикации\",\"stories_error_deleted\":\"История удалена\",\"stories_error_private\":\"Автор скрыл историю\",\"stories_mask_tooltip\":\"Попробовать эту маску\",\"stories_mask_sent\":\"Маска отправлена на телефон\",\"stories_followed\":\"Вы подписались&#33;\",\"stories_unfollowed\":\"Вы отписались\",\"stories_is_ad\":\"Реклама\",\"stories_private_story\":\"Приватная<br>история\",\"stories_deleted_story\":\"История<br>удалена\",\"stories_bad_browser\":\"Истории не поддерживаются в Вашем браузере\",\"stories_delete_all_replies_confirm\":\"Вы действительно хотите удалить все ответы {name} за последние сутки? <br>Отменить действие будет невозможно.\",\"stories_hide_reply_button\":\"Скрыть ответ\",\"stories_reply_hidden\":\"Ответ на историю скрыт.\",\"stories_restore\":\"Восстановить\",\"stories_hide_reply_continue\":\"Продолжить просмотр\",\"stories_hide_all_replies\":[\"\",\"Скрыть все его ответы за последние сутки\",\"Скрыть все её ответы за последние сутки\"],\"stories_reply_add_to_blacklist\":\"Занести в чёрный список\",\"stories_hide_reply_warning\":\"Вы действительно хотите скрыть этот ответ?<br>Отменить действие будет невозможно.\",\"stories_replies_more_button\":[\"\",\"Показать ещё %s ответившего\",\"Показать ещё %s ответивших\",\"Показать ещё %s ответивших\"],\"stories_all_replies_hidden\":\"Все ответы скрыты\",\"stories_ban_confirm\":\"Вы действительно хотите добавить в чёрный список {name}?<br>Отменить действие будет невозможно.\",\"stories_banned\":\"Пользователь в чёрном списке\",\"stories_share\":\"Поделиться\",\"stories_follow\":\"Подписаться\",\"stories_unfollow\":\"Отписаться\",\"stories_report\":\"Пожаловаться\",\"stories_report_sent\":\"Жалоба отправлена\",\"stories_narrative_bookmark_added\":\"Сюжет сохранён в {link}закладках{\\\\/link}\",\"stories_narrative_bookmark_deleted\":\"Сюжет удалён из закладок\",\"stories_narrative_edit_button\":\"Редактировать сюжет\",\"stories_narrative_add_bookmark_button\":\"Сохранить в закладках\",\"stories_narrative_remove_bookmark_button\":\"Удалить из закладок\"}, true);\\naddLangKeys({\"index_to_main\":\"Главная страница\",\"index_choose_sex\":\"Укажите пол\",\"index_sel_bday\":\"День\",\"global_fifa_confetti_text\":\"Г-О-О-О-О-О-Л&#33;\"});\\naddTemplates({\"_\":\"_\",\"stickers_sticker_url\":\"https:\\\\/\\\\/vk.com\\\\/sticker\\\\/1-%id%-%size%-9\"});\\nwindow.cur = window.cur || {};\\ncur[\\'fifaConfettiEnabled\\']=false;\\n\\nwindow.cur = window.cur || {};\\ncur[\\'emojiHintsSendLogHash\\']=\"b88e373dd4e191f0ca\";\\ncur.options = {\"bmonths\":[[0,\"Месяц\"],[1,\"Января\"],[2,\"Февраля\"],[3,\"Марта\"],[4,\"Апреля\"],[5,\"Мая\"],[6,\"Июня\"],[7,\"Июля\"],[8,\"Августа\"],[9,\"Сентября\"],[10,\"Октября\"],[11,\"Ноября\"],[12,\"Декабря\"]],\"byears\":[[0,\"Год\"],[2005,\"2005\"],[2004,\"2004\"],[2003,\"2003\"],[2002,\"2002\"],[2001,\"2001\"],[2000,\"2000\"],[1999,\"1999\"],[1998,\"1998\"],[1997,\"1997\"],[1996,\"1996\"],[1995,\"1995\"],[1994,\"1994\"],[1993,\"1993\"],[1992,\"1992\"],[1991,\"1991\"],[1990,\"1990\"],[1989,\"1989\"],[1988,\"1988\"],[1987,\"1987\"],[1986,\"1986\"],[1985,\"1985\"],[1984,\"1984\"],[1983,\"1983\"],[1982,\"1982\"],[1981,\"1981\"],[1980,\"1980\"],[1979,\"1979\"],[1978,\"1978\"],[1977,\"1977\"],[1976,\"1976\"],[1975,\"1975\"],[1974,\"1974\"],[1973,\"1973\"],[1972,\"1972\"],[1971,\"1971\"],[1970,\"1970\"],[1969,\"1969\"],[1968,\"1968\"],[1967,\"1967\"],[1966,\"1966\"],[1965,\"1965\"],[1964,\"1964\"],[1963,\"1963\"],[1962,\"1962\"],[1961,\"1961\"],[1960,\"1960\"],[1959,\"1959\"],[1958,\"1958\"],[1957,\"1957\"],[1956,\"1956\"],[1955,\"1955\"],[1954,\"1954\"],[1953,\"1953\"],[1952,\"1952\"],[1951,\"1951\"],[1950,\"1950\"],[1949,\"1949\"],[1948,\"1948\"],[1947,\"1947\"],[1946,\"1946\"],[1945,\"1945\"],[1944,\"1944\"],[1943,\"1943\"],[1942,\"1942\"],[1941,\"1941\"],[1940,\"1940\"],[1939,\"1939\"],[1938,\"1938\"],[1937,\"1937\"],[1936,\"1936\"],[1935,\"1935\"],[1934,\"1934\"],[1933,\"1933\"],[1932,\"1932\"],[1931,\"1931\"],[1930,\"1930\"],[1929,\"1929\"],[1928,\"1928\"],[1927,\"1927\"],[1926,\"1926\"],[1925,\"1925\"],[1924,\"1924\"],[1923,\"1923\"],[1922,\"1922\"],[1921,\"1921\"],[1920,\"1920\"],[1919,\"1919\"],[1918,\"1918\"],[1917,\"1917\"],[1916,\"1916\"],[1915,\"1915\"],[1914,\"1914\"],[1913,\"1913\"],[1912,\"1912\"],[1911,\"1911\"],[1910,\"1910\"],[1909,\"1909\"],[1908,\"1908\"],[1907,\"1907\"],[1906,\"1906\"],[1905,\"1905\"],[1904,\"1904\"],[1903,\"1903\"],[1902,\"1902\"]]};\\nIndex.initNew();cur.fbApp = \\'128749580520227\\';\\ncur.fbState = \\'70aca8568de7b2f7fa\\';\\ncur.fbContinueWithSign = 1;\\ncur.fbLocale = \\'ru_RU\\';\\nIndex.fbCheck(cur.fbApp, \\'\\');; window.TimeSpent && TimeSpent.setTimers && TimeSpent.setTimers(3000, 10000); TimeSpent && TimeSpent.update && TimeSpent.update(false);\\n;(function (d, w) {\\nif (w.__dev) {\\n  return\\n}\\nvar ts = d.createElement(\"script\"); ts.type = \"text/javascript\"; ts.async = true;\\nts.src = (d.location.protocol == \"https:\" ? \"https:\" : \"http:\") + \"//top-fwz1.mail.ru/js/code.js\";\\nvar f = function () {var s = d.getElementsByTagName(\"script\")[0]; s.parentNode.insertBefore(ts, s);};\\nif (w.opera == \"[object Opera]\") { d.addEventListener(\"DOMContentLoaded\", f, false); } else { f(); }\\n})(document, window);\\n    }\\n  </script>\\n</body>\\n\\n</html>'"
      ]
     },
     "execution_count": 80,
     "metadata": {},
     "output_type": "execute_result"
    }
   ],
   "source": [
    "res.text"
   ]
  },
  {
   "cell_type": "markdown",
   "metadata": {
    "slideshow": {
     "slide_type": "slide"
    }
   },
   "source": [
    "В задаче предсказания погоды даны влажность, температура и давление воздуха, измеряемые каждый день в течении одного года. Также для каждого из дней дано значение целевой функции – шел в этот день дождь или нет. При решении предполагается использование всех имеющихся в наличии данных"
   ]
  },
  {
   "cell_type": "markdown",
   "metadata": {
    "slideshow": {
     "slide_type": "subslide"
    }
   },
   "source": [
    "* задача является задачей обучения с учителем\n",
    "* задача является задачей обучения без учителя"
   ]
  }
 ],
 "metadata": {
  "kernelspec": {
   "display_name": "Python 3",
   "language": "python",
   "name": "python3"
  },
  "language_info": {
   "codemirror_mode": {
    "name": "ipython",
    "version": 3
   },
   "file_extension": ".py",
   "mimetype": "text/x-python",
   "name": "python",
   "nbconvert_exporter": "python",
   "pygments_lexer": "ipython3",
   "version": "3.6.6"
  }
 },
 "nbformat": 4,
 "nbformat_minor": 2
}
