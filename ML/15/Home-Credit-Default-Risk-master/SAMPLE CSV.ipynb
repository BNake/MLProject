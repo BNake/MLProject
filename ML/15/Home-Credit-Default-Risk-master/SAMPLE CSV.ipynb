{
 "cells": [
  {
   "cell_type": "code",
   "execution_count": 1,
   "metadata": {},
   "outputs": [
    {
     "ename": "ModuleNotFoundError",
     "evalue": "No module named 'utils'",
     "output_type": "error",
     "traceback": [
      "\u001b[0;31m---------------------------------------------------------------------------\u001b[0m",
      "\u001b[0;31mModuleNotFoundError\u001b[0m                       Traceback (most recent call last)",
      "\u001b[0;32m<ipython-input-1-df5051e1ec02>\u001b[0m in \u001b[0;36m<module>\u001b[0;34m\u001b[0m\n\u001b[1;32m      1\u001b[0m \u001b[0;32mfrom\u001b[0m \u001b[0mglob\u001b[0m \u001b[0;32mimport\u001b[0m \u001b[0mglob\u001b[0m\u001b[0;34m\u001b[0m\u001b[0;34m\u001b[0m\u001b[0m\n\u001b[1;32m      2\u001b[0m \u001b[0;32mimport\u001b[0m \u001b[0mnumpy\u001b[0m \u001b[0;32mas\u001b[0m \u001b[0mnp\u001b[0m\u001b[0;34m\u001b[0m\u001b[0;34m\u001b[0m\u001b[0m\n\u001b[0;32m----> 3\u001b[0;31m \u001b[0;32mimport\u001b[0m \u001b[0mutils\u001b[0m\u001b[0;34m\u001b[0m\u001b[0;34m\u001b[0m\u001b[0m\n\u001b[0m\u001b[1;32m      4\u001b[0m \u001b[0msorted\u001b[0m\u001b[0;34m(\u001b[0m\u001b[0mglob\u001b[0m\u001b[0;34m(\u001b[0m\u001b[0;34m'../data/*'\u001b[0m\u001b[0;34m)\u001b[0m\u001b[0;34m)\u001b[0m\u001b[0;34m\u001b[0m\u001b[0;34m\u001b[0m\u001b[0m\n",
      "\u001b[0;31mModuleNotFoundError\u001b[0m: No module named 'utils'"
     ]
    }
   ],
   "source": [
    "from glob import glob\n",
    "import numpy as np\n",
    "import utils\n",
    "sorted(glob('../data/*'))"
   ]
  },
  {
   "cell_type": "code",
   "execution_count": 2,
   "metadata": {
    "collapsed": true
   },
   "outputs": [],
   "source": [
    "def sample(n=10):\n",
    "    df = utils.load_train()\n",
    "    ids = np.random.choice(df.SK_ID_CURR.unique(), size=n, replace=False)\n",
    "    df[df.SK_ID_CURR.isin(ids)].sort_values('SK_ID_CURR').to_csv('../sample/sample_tr.csv', index=False)\n",
    "    \n",
    "    df = utils.read_pickles('../data/POS_CASH_balance')\n",
    "    df = df[df.SK_ID_CURR.isin(ids)]\n",
    "    df.sort_values(['SK_ID_CURR', 'MONTHS_BALANCE'], ascending=[True, False]).to_csv('../sample/sample_POS.csv', index=False)\n",
    "    \n",
    "    df = utils.read_pickles('../data/bureau')\n",
    "    df = df[df.SK_ID_CURR.isin(ids)]\n",
    "    df.sort_values(['SK_ID_CURR', 'DAYS_CREDIT'], ascending=[True, False]).to_csv('../sample/sample_bure.csv', index=False)\n",
    "    \n",
    "    df = utils.read_pickles('../data/credit_card_balance')\n",
    "    df = df[df.SK_ID_CURR.isin(ids)]\n",
    "    df.sort_values(['SK_ID_CURR', 'MONTHS_BALANCE'], ascending=[True, False]).to_csv('../sample/sample_cre.csv', index=False)\n",
    "    \n",
    "    df = utils.read_pickles('../data/installments_payments')\n",
    "    df = df[df.SK_ID_CURR.isin(ids)]\n",
    "    df.sort_values(['SK_ID_CURR', 'DAYS_INSTALMENT'], ascending=[True, False]).to_csv('../sample/sample_ins.csv', index=False)\n",
    "    \n",
    "    df = utils.read_pickles('../data/previous_application')\n",
    "    df = df[df.SK_ID_CURR.isin(ids)]\n",
    "    df.sort_values(['SK_ID_CURR', 'DAYS_DECISION'], ascending=[True, False]).to_csv('../sample/sample_prev.csv', index=False)\n",
    "    \n",
    "    return"
   ]
  },
  {
   "cell_type": "code",
   "execution_count": 3,
   "metadata": {},
   "outputs": [
    {
     "name": "stderr",
     "output_type": "stream",
     "text": [
      "100%|██████████| 20/20 [00:03<00:00,  5.33it/s]\n",
      "100%|██████████| 20/20 [00:05<00:00,  3.64it/s]\n",
      "100%|██████████| 20/20 [00:04<00:00,  4.54it/s]\n",
      "100%|██████████| 20/20 [00:07<00:00,  2.86it/s]\n",
      "100%|██████████| 20/20 [00:13<00:00,  1.53it/s]\n",
      "100%|██████████| 20/20 [00:07<00:00,  2.50it/s]\n"
     ]
    }
   ],
   "source": [
    "sample(100)"
   ]
  },
  {
   "cell_type": "code",
   "execution_count": null,
   "metadata": {
    "collapsed": true
   },
   "outputs": [],
   "source": []
  }
 ],
 "metadata": {
  "kernelspec": {
   "display_name": "Python 3",
   "language": "python",
   "name": "python3"
  },
  "language_info": {
   "codemirror_mode": {
    "name": "ipython",
    "version": 3
   },
   "file_extension": ".py",
   "mimetype": "text/x-python",
   "name": "python",
   "nbconvert_exporter": "python",
   "pygments_lexer": "ipython3",
   "version": "3.6.8"
  }
 },
 "nbformat": 4,
 "nbformat_minor": 2
}
