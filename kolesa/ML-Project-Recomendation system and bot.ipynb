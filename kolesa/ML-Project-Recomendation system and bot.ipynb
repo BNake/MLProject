{
 "cells": [
  {
   "cell_type": "markdown",
   "metadata": {},
   "source": [
    "# Import"
   ]
  },
  {
   "cell_type": "code",
   "execution_count": 12,
   "metadata": {},
   "outputs": [],
   "source": [
    "%matplotlib inline\n",
    "import pandas as pd\n",
    "import numpy as np\n",
    "import matplotlib.pyplot as plt\n",
    "import seaborn as sns\n",
    "from scipy import stats\n",
    "from ast import literal_eval\n",
    "from sklearn.feature_extraction.text import TfidfVectorizer, CountVectorizer\n",
    "from sklearn.metrics.pairwise import linear_kernel, cosine_similarity\n",
    "from nltk.stem.snowball import SnowballStemmer\n",
    "from nltk.stem.wordnet import WordNetLemmatizer\n",
    "from nltk.corpus import wordnet\n",
    "from surprise import Reader, Dataset, SVD, evaluate\n",
    "\n",
    "import warnings; warnings.simplefilter('ignore')\n",
    "#Content Based Recommender\n",
    "from stop_words import get_stop_words\n",
    "stop_words = get_stop_words('russian')"
   ]
  },
  {
   "cell_type": "markdown",
   "metadata": {},
   "source": [
    "# Read from file"
   ]
  },
  {
   "cell_type": "code",
   "execution_count": 13,
   "metadata": {},
   "outputs": [
    {
     "data": {
      "text/html": [
       "<div>\n",
       "<style scoped>\n",
       "    .dataframe tbody tr th:only-of-type {\n",
       "        vertical-align: middle;\n",
       "    }\n",
       "\n",
       "    .dataframe tbody tr th {\n",
       "        vertical-align: top;\n",
       "    }\n",
       "\n",
       "    .dataframe thead th {\n",
       "        text-align: right;\n",
       "    }\n",
       "</style>\n",
       "<table border=\"1\" class=\"dataframe\">\n",
       "  <thead>\n",
       "    <tr style=\"text-align: right;\">\n",
       "      <th></th>\n",
       "      <th>city</th>\n",
       "      <th>brand</th>\n",
       "      <th>name</th>\n",
       "      <th>year</th>\n",
       "      <th>price</th>\n",
       "      <th>body</th>\n",
       "      <th>capacity</th>\n",
       "      <th>capacity_type</th>\n",
       "      <th>mileage</th>\n",
       "      <th>transmission</th>\n",
       "      <th>wheel</th>\n",
       "      <th>color</th>\n",
       "      <th>drive_unit</th>\n",
       "      <th>customs</th>\n",
       "      <th>image</th>\n",
       "      <th>description</th>\n",
       "      <th>avg_price</th>\n",
       "      <th>view_amount</th>\n",
       "    </tr>\n",
       "  </thead>\n",
       "  <tbody>\n",
       "    <tr>\n",
       "      <th>0</th>\n",
       "      <td>Алматы</td>\n",
       "      <td>Carina ED</td>\n",
       "      <td>Toyota</td>\n",
       "      <td>1995</td>\n",
       "      <td>1350000</td>\n",
       "      <td>седан</td>\n",
       "      <td>2.0</td>\n",
       "      <td>petrol</td>\n",
       "      <td>NaN</td>\n",
       "      <td>автомат</td>\n",
       "      <td>справа</td>\n",
       "      <td>черный</td>\n",
       "      <td>передний привод</td>\n",
       "      <td>Да</td>\n",
       "      <td>https://photos-b-kl.kcdn.kz/1d/1d210e94-2486-4...</td>\n",
       "      <td>NaN</td>\n",
       "      <td>1267000</td>\n",
       "      <td>0</td>\n",
       "    </tr>\n",
       "    <tr>\n",
       "      <th>1</th>\n",
       "      <td>Астана</td>\n",
       "      <td>A8</td>\n",
       "      <td>Audi</td>\n",
       "      <td>1995</td>\n",
       "      <td>1600000</td>\n",
       "      <td>седан</td>\n",
       "      <td>3.7</td>\n",
       "      <td>petrol</td>\n",
       "      <td>264037.0</td>\n",
       "      <td>типтроник</td>\n",
       "      <td>слева</td>\n",
       "      <td>серебристый</td>\n",
       "      <td>передний привод</td>\n",
       "      <td>Да</td>\n",
       "      <td>https://photos-a-kl.kcdn.kz/68/6802c05b-8272-4...</td>\n",
       "      <td>литые диски, тонировка, люк, противотуманки, к...</td>\n",
       "      <td>1651000</td>\n",
       "      <td>0</td>\n",
       "    </tr>\n",
       "    <tr>\n",
       "      <th>2</th>\n",
       "      <td>Алматы</td>\n",
       "      <td>Escalade</td>\n",
       "      <td>Cadillac</td>\n",
       "      <td>2004</td>\n",
       "      <td>5400000</td>\n",
       "      <td>внедорожник</td>\n",
       "      <td>6.0</td>\n",
       "      <td>petrol</td>\n",
       "      <td>NaN</td>\n",
       "      <td>автомат</td>\n",
       "      <td>слева</td>\n",
       "      <td>NaN</td>\n",
       "      <td>NaN</td>\n",
       "      <td>Да</td>\n",
       "      <td>https://photos-b-kl.kcdn.kz/0c/0ccc7792-c563-4...</td>\n",
       "      <td>NaN</td>\n",
       "      <td>5700000</td>\n",
       "      <td>0</td>\n",
       "    </tr>\n",
       "    <tr>\n",
       "      <th>3</th>\n",
       "      <td>Алматы</td>\n",
       "      <td>Continental GT</td>\n",
       "      <td>Bentley</td>\n",
       "      <td>2005</td>\n",
       "      <td>15000000</td>\n",
       "      <td>купе</td>\n",
       "      <td>6.0</td>\n",
       "      <td>petrol</td>\n",
       "      <td>NaN</td>\n",
       "      <td>автомат</td>\n",
       "      <td>слева</td>\n",
       "      <td>NaN</td>\n",
       "      <td>NaN</td>\n",
       "      <td>Да</td>\n",
       "      <td>https://photos-b-kl.kcdn.kz/6e/6e49b0fc-f8c0-4...</td>\n",
       "      <td>NaN</td>\n",
       "      <td>12750000</td>\n",
       "      <td>0</td>\n",
       "    </tr>\n",
       "    <tr>\n",
       "      <th>4</th>\n",
       "      <td>Алматы</td>\n",
       "      <td>Windom</td>\n",
       "      <td>Toyota</td>\n",
       "      <td>1997</td>\n",
       "      <td>1600000</td>\n",
       "      <td>седан</td>\n",
       "      <td>2.5</td>\n",
       "      <td>petrol</td>\n",
       "      <td>NaN</td>\n",
       "      <td>автомат</td>\n",
       "      <td>справа</td>\n",
       "      <td>NaN</td>\n",
       "      <td>передний привод</td>\n",
       "      <td>Да</td>\n",
       "      <td>https://photos-a-kl.kcdn.kz/a5/a5ca70fe-e7cf-4...</td>\n",
       "      <td>литые диски, тонировка, аудиосистема, встроенн...</td>\n",
       "      <td>1885000</td>\n",
       "      <td>0</td>\n",
       "    </tr>\n",
       "  </tbody>\n",
       "</table>\n",
       "</div>"
      ],
      "text/plain": [
       "     city           brand      name  year     price         body  capacity  \\\n",
       "0  Алматы       Carina ED    Toyota  1995   1350000        седан       2.0   \n",
       "1  Астана              A8      Audi  1995   1600000        седан       3.7   \n",
       "2  Алматы        Escalade  Cadillac  2004   5400000  внедорожник       6.0   \n",
       "3  Алматы  Continental GT   Bentley  2005  15000000         купе       6.0   \n",
       "4  Алматы          Windom    Toyota  1997   1600000        седан       2.5   \n",
       "\n",
       "  capacity_type   mileage transmission   wheel        color       drive_unit  \\\n",
       "0        petrol       NaN      автомат  справа       черный  передний привод   \n",
       "1        petrol  264037.0    типтроник   слева  серебристый  передний привод   \n",
       "2        petrol       NaN      автомат   слева          NaN              NaN   \n",
       "3        petrol       NaN      автомат   слева          NaN              NaN   \n",
       "4        petrol       NaN      автомат  справа          NaN  передний привод   \n",
       "\n",
       "  customs                                              image  \\\n",
       "0      Да  https://photos-b-kl.kcdn.kz/1d/1d210e94-2486-4...   \n",
       "1      Да  https://photos-a-kl.kcdn.kz/68/6802c05b-8272-4...   \n",
       "2      Да  https://photos-b-kl.kcdn.kz/0c/0ccc7792-c563-4...   \n",
       "3      Да  https://photos-b-kl.kcdn.kz/6e/6e49b0fc-f8c0-4...   \n",
       "4      Да  https://photos-a-kl.kcdn.kz/a5/a5ca70fe-e7cf-4...   \n",
       "\n",
       "                                         description  avg_price  view_amount  \n",
       "0                                                NaN    1267000            0  \n",
       "1  литые диски, тонировка, люк, противотуманки, к...    1651000            0  \n",
       "2                                                NaN    5700000            0  \n",
       "3                                                NaN   12750000            0  \n",
       "4  литые диски, тонировка, аудиосистема, встроенн...    1885000            0  "
      ]
     },
     "execution_count": 13,
     "metadata": {},
     "output_type": "execute_result"
    }
   ],
   "source": [
    "df = pd.read_csv('cars500.csv')\n",
    "df.head(5)"
   ]
  },
  {
   "cell_type": "markdown",
   "metadata": {},
   "source": [
    "# Sets for null vals in description \"\" "
   ]
  },
  {
   "cell_type": "code",
   "execution_count": 5,
   "metadata": {},
   "outputs": [],
   "source": [
    "df.description = df.description.fillna(\"\")"
   ]
  },
  {
   "cell_type": "markdown",
   "metadata": {},
   "source": [
    "# Term Frequency Inverse Document Frequency"
   ]
  },
  {
   "cell_type": "code",
   "execution_count": 6,
   "metadata": {},
   "outputs": [],
   "source": [
    "tf = TfidfVectorizer(analyzer='word',ngram_range=(1, 2),min_df=0, stop_words=stop_words)\n",
    "tfidf_matrix = tf.fit_transform(df.description)"
   ]
  },
  {
   "cell_type": "markdown",
   "metadata": {},
   "source": [
    "# linear_kernel matrix distance"
   ]
  },
  {
   "cell_type": "code",
   "execution_count": 7,
   "metadata": {},
   "outputs": [],
   "source": [
    "cosine_sim = linear_kernel(tfidf_matrix, tfidf_matrix)\n",
    "cosine_sim1 = cosine_similarity(tfidf_matrix, tfidf_matrix)"
   ]
  },
  {
   "cell_type": "markdown",
   "metadata": {},
   "source": [
    "# Recomendation fields"
   ]
  },
  {
   "cell_type": "code",
   "execution_count": 8,
   "metadata": {},
   "outputs": [
    {
     "data": {
      "text/plain": [
       "(11668,)"
      ]
     },
     "execution_count": 8,
     "metadata": {},
     "output_type": "execute_result"
    }
   ],
   "source": [
    "smd = df.reset_index()\n",
    "titles = df[\"name\"]+\" \"+df[\"brand\"]\n",
    "indices = pd.Series(df.index, index=df[\"name\"]+\" \"+df[\"brand\"]).drop_duplicates()\n",
    "indices.shape"
   ]
  },
  {
   "cell_type": "markdown",
   "metadata": {},
   "source": [
    "# Top 10 Recomendations function"
   ]
  },
  {
   "cell_type": "code",
   "execution_count": 9,
   "metadata": {},
   "outputs": [],
   "source": [
    "def get_recommendations(title):\n",
    "    idx = indices[title]\n",
    "    sim_scores = list(enumerate(cosine_sim[idx]))\n",
    "    print(sim_scores)\n",
    "    sim_scores = sorted(sim_scores, reverse=True)\n",
    "    sim_scores = sim_scores[1:31]\n",
    "    m_indices = [i[0] for i in sim_scores]\n",
    "    ttt = \", \".join(titles.iloc[m_indices].head(10))\n",
    "    return ttt"
   ]
  },
  {
   "cell_type": "markdown",
   "metadata": {},
   "source": [
    "# Bots code "
   ]
  },
  {
   "cell_type": "code",
   "execution_count": 1,
   "metadata": {},
   "outputs": [],
   "source": [
    "import telebot\n",
    "from telebot import types\n",
    "\n",
    "bot = telebot.TeleBot(\"\")\n",
    "\n",
    "@bot.message_handler(commands=['start'])\n",
    "def command_start(message):\n",
    "    bot.send_message(message.chat.id,\n",
    "                     \"Hello, I'm the demo ML bot.\"\n",
    "                     \" I can Predict you.\"\n",
    "                     \" Use /buy to order one, /perdict for Terms and Conditions\")\n",
    "\n",
    "\n",
    "@bot.message_handler(commands=['perdict'])\n",
    "def command_pay(message):\n",
    "    bot.send_message(message.chat.id,\"Write name\", parse_mode='Markdown')\n",
    "\n",
    "@bot.message_handler(func=lambda message: True)\n",
    "def echo_all(message):\n",
    "    tt = get_recommendations(message.text)\n",
    "    bot.reply_to(message, tt)\n",
    "\n",
    "\n",
    "bot.polling()"
   ]
  },
  {
   "cell_type": "code",
   "execution_count": null,
   "metadata": {},
   "outputs": [],
   "source": []
  },
  {
   "cell_type": "code",
   "execution_count": null,
   "metadata": {},
   "outputs": [],
   "source": []
  },
  {
   "cell_type": "code",
   "execution_count": null,
   "metadata": {},
   "outputs": [],
   "source": []
  }
 ],
 "metadata": {
  "kernelspec": {
   "display_name": "Python 3",
   "language": "python",
   "name": "python3"
  },
  "language_info": {
   "codemirror_mode": {
    "name": "ipython",
    "version": 3
   },
   "file_extension": ".py",
   "mimetype": "text/x-python",
   "name": "python",
   "nbconvert_exporter": "python",
   "pygments_lexer": "ipython3",
   "version": "3.6.8"
  }
 },
 "nbformat": 4,
 "nbformat_minor": 2
}
