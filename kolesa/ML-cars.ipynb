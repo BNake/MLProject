{
 "cells": [
  {
   "cell_type": "code",
   "execution_count": 87,
   "metadata": {},
   "outputs": [],
   "source": [
    "import pandas as pd\n",
    "\n",
    "import matplotlib.pyplot as plt\n",
    "import numpy as np\n",
    "from sklearn import datasets, linear_model, preprocessing, svm\n",
    "from sklearn.preprocessing import StandardScaler, Normalizer\n",
    "import math\n",
    "import matplotlib\n",
    "import seaborn as sns\n",
    "from xgboost.sklearn import XGBRegressor\n",
    "from xgboost.sklearn import XGBClassifier\n",
    "\n",
    "from sklearn.svm import SVC\n",
    "from sklearn.ensemble import RandomForestRegressor\n",
    "from sklearn.model_selection import GridSearchCV\n",
    "\n",
    "# \"₸\""
   ]
  },
  {
   "cell_type": "markdown",
   "metadata": {},
   "source": [
    "## Read from CSV"
   ]
  },
  {
   "cell_type": "code",
   "execution_count": 51,
   "metadata": {},
   "outputs": [],
   "source": [
    "md = pd.read_csv('cars500.csv')\n"
   ]
  },
  {
   "cell_type": "markdown",
   "metadata": {},
   "source": [
    "# Set 0 to null values"
   ]
  },
  {
   "cell_type": "code",
   "execution_count": 52,
   "metadata": {},
   "outputs": [],
   "source": [
    "md.mileage = md.mileage.fillna(0)"
   ]
  },
  {
   "cell_type": "markdown",
   "metadata": {},
   "source": [
    "# Let's see some info from numeric fields"
   ]
  },
  {
   "cell_type": "code",
   "execution_count": 65,
   "metadata": {},
   "outputs": [
    {
     "data": {
      "text/html": [
       "<div>\n",
       "<style scoped>\n",
       "    .dataframe tbody tr th:only-of-type {\n",
       "        vertical-align: middle;\n",
       "    }\n",
       "\n",
       "    .dataframe tbody tr th {\n",
       "        vertical-align: top;\n",
       "    }\n",
       "\n",
       "    .dataframe thead th {\n",
       "        text-align: right;\n",
       "    }\n",
       "</style>\n",
       "<table border=\"1\" class=\"dataframe\">\n",
       "  <thead>\n",
       "    <tr style=\"text-align: right;\">\n",
       "      <th></th>\n",
       "      <th>year</th>\n",
       "      <th>price</th>\n",
       "      <th>capacity</th>\n",
       "      <th>mileage</th>\n",
       "      <th>view_amount</th>\n",
       "    </tr>\n",
       "  </thead>\n",
       "  <tbody>\n",
       "    <tr>\n",
       "      <th>count</th>\n",
       "      <td>11668.000000</td>\n",
       "      <td>1.166800e+04</td>\n",
       "      <td>11664.000000</td>\n",
       "      <td>1.166800e+04</td>\n",
       "      <td>11668.0</td>\n",
       "    </tr>\n",
       "    <tr>\n",
       "      <th>mean</th>\n",
       "      <td>2004.455005</td>\n",
       "      <td>4.002574e+06</td>\n",
       "      <td>2.428479</td>\n",
       "      <td>1.334746e+05</td>\n",
       "      <td>0.0</td>\n",
       "    </tr>\n",
       "    <tr>\n",
       "      <th>std</th>\n",
       "      <td>8.061218</td>\n",
       "      <td>5.097716e+06</td>\n",
       "      <td>0.996999</td>\n",
       "      <td>4.485989e+05</td>\n",
       "      <td>0.0</td>\n",
       "    </tr>\n",
       "    <tr>\n",
       "      <th>min</th>\n",
       "      <td>1990.000000</td>\n",
       "      <td>1.111110e+05</td>\n",
       "      <td>0.100000</td>\n",
       "      <td>0.000000e+00</td>\n",
       "      <td>0.0</td>\n",
       "    </tr>\n",
       "    <tr>\n",
       "      <th>25%</th>\n",
       "      <td>1997.000000</td>\n",
       "      <td>1.200000e+06</td>\n",
       "      <td>1.600000</td>\n",
       "      <td>0.000000e+00</td>\n",
       "      <td>0.0</td>\n",
       "    </tr>\n",
       "    <tr>\n",
       "      <th>50%</th>\n",
       "      <td>2005.000000</td>\n",
       "      <td>2.500000e+06</td>\n",
       "      <td>2.000000</td>\n",
       "      <td>6.500000e+04</td>\n",
       "      <td>0.0</td>\n",
       "    </tr>\n",
       "    <tr>\n",
       "      <th>75%</th>\n",
       "      <td>2012.000000</td>\n",
       "      <td>4.800000e+06</td>\n",
       "      <td>2.800000</td>\n",
       "      <td>1.650000e+05</td>\n",
       "      <td>0.0</td>\n",
       "    </tr>\n",
       "    <tr>\n",
       "      <th>max</th>\n",
       "      <td>2018.000000</td>\n",
       "      <td>1.500000e+08</td>\n",
       "      <td>8.000000</td>\n",
       "      <td>9.999999e+06</td>\n",
       "      <td>0.0</td>\n",
       "    </tr>\n",
       "  </tbody>\n",
       "</table>\n",
       "</div>"
      ],
      "text/plain": [
       "               year         price      capacity       mileage  view_amount\n",
       "count  11668.000000  1.166800e+04  11664.000000  1.166800e+04      11668.0\n",
       "mean    2004.455005  4.002574e+06      2.428479  1.334746e+05          0.0\n",
       "std        8.061218  5.097716e+06      0.996999  4.485989e+05          0.0\n",
       "min     1990.000000  1.111110e+05      0.100000  0.000000e+00          0.0\n",
       "25%     1997.000000  1.200000e+06      1.600000  0.000000e+00          0.0\n",
       "50%     2005.000000  2.500000e+06      2.000000  6.500000e+04          0.0\n",
       "75%     2012.000000  4.800000e+06      2.800000  1.650000e+05          0.0\n",
       "max     2018.000000  1.500000e+08      8.000000  9.999999e+06          0.0"
      ]
     },
     "execution_count": 65,
     "metadata": {},
     "output_type": "execute_result"
    }
   ],
   "source": [
    "md.describe()"
   ]
  },
  {
   "cell_type": "markdown",
   "metadata": {},
   "source": [
    "# Let's see name of columns"
   ]
  },
  {
   "cell_type": "code",
   "execution_count": 66,
   "metadata": {},
   "outputs": [
    {
     "data": {
      "text/plain": [
       "Index(['city', 'brand', 'name', 'year', 'price', 'body', 'capacity',\n",
       "       'capacity_type', 'mileage', 'transmission', 'image', 'description',\n",
       "       'view_amount'],\n",
       "      dtype='object')"
      ]
     },
     "execution_count": 66,
     "metadata": {},
     "output_type": "execute_result"
    }
   ],
   "source": [
    "md.columns"
   ]
  },
  {
   "cell_type": "markdown",
   "metadata": {},
   "source": [
    "# Unique values of \"body, city, ...\""
   ]
  },
  {
   "cell_type": "code",
   "execution_count": 67,
   "metadata": {},
   "outputs": [
    {
     "name": "stdout",
     "output_type": "stream",
     "text": [
      "['седан' 'внедорожник' 'купе' 'кроссовер' 'хэтчбек/лифтбек' 'минивэн'\n",
      " 'универсал' 'микроавтобус' 'лимузин' 'микровэн' 'фургон' 'пикап'\n",
      " 'родстер' 'кабриолет']\n",
      "['Алматы' 'Астана' 'Актобе' 'Караганда' 'Усть-Каменогорск' 'Шымкент'\n",
      " 'Жетысай' 'Атырау' 'Актау' 'Тараз' 'Костанай' 'Уральск' 'Кызылорда'\n",
      " 'Жезказган' 'Экибастуз' 'Каскелен' 'Павлодар' 'Туркестан' 'Жосалы'\n",
      " 'Кокшетау' 'Жанаозен' 'Семей' 'Байконыр' 'Жанакорган' 'Талгар' 'Шу'\n",
      " 'Кульсары' 'Асыката' 'Байтерек' 'Абай (Сарыагашский р-н)' 'Петропавловск'\n",
      " 'Аральск' 'Челябинск' 'Аягоз' 'Кентау' 'Жымпиты' 'Темиртау'\n",
      " 'Отеген батыра' 'Балхаш' 'Талдыкорган' 'Санкт-Петербург' 'Мерке'\n",
      " 'Аксукент' 'Есик' 'Айтеке би' 'Теренозек' 'Атбасар' 'Шубаркудук' 'Риддер'\n",
      " 'Шахтинск' 'Арысь' 'Рудный' 'Кандыагаш' 'Алга' 'Щучинск'\n",
      " 'Федоровка (Федоровский р-н)' 'Карабалык (Карабалыкский р-н)'\n",
      " 'Степногорск' 'Кордай' 'Урджар' 'Казалинск' 'Ушарал' 'Сатпаев' 'Капчагай'\n",
      " 'Шардара' 'Абай (Абайский р-н)' 'Каркаралинск' 'Тайынша' 'Ленгер'\n",
      " 'Шолаккорган' 'Шалкар' 'Хромтау' 'Москва' 'Аксуат' 'Зеренда' 'Аксай'\n",
      " 'Кулан' 'Житикара' 'Бейнеу' 'Шаульдер' 'Сарыкемер'\n",
      " 'Карабулак (Ескельдинский р-н)' 'Боровое' 'Лисаковск' 'Шемонаиха'\n",
      " 'Узынагаш' 'Сарыозек' 'Сарань' 'Боралдай' 'Омск' 'Державинск' 'Жаркент'\n",
      " 'Аса' 'Сайхин' 'Турара Рыскулова' 'Сарыагаш' 'Аккыстау' 'Самарское'\n",
      " 'Бауыржана Момышулы' 'Аксу' 'Казыгурт' 'Бадамша' 'Кеген' 'Эмба' 'Жетиген'\n",
      " 'Есиль' 'Шиели' 'Таскала' 'Жанатас' 'Федоровка (Теректинский р-н)'\n",
      " 'Чунджа' 'Железинка' 'Аркалык' 'Акколь (Таласский р-н)' 'Аулиеколь'\n",
      " 'Темирлановка' 'Ащибулак' 'Шаян' 'Камысты' 'Сарканд' 'Зайсан' 'Зыряновск'\n",
      " 'Баянаул' 'Карабулак' 'Бишкек' 'Казталовка' 'Булаево' 'Тюмень' 'Шелек'\n",
      " 'Индерборский' 'Бородулиха' 'Уштобе' 'Молодежный (Уланский р-н)'\n",
      " 'Тимирязево' 'Форт-Шевченко' 'Сургут' 'Оренбург' 'Степняк' 'Сергеевка'\n",
      " 'Глубокое' 'Пресновка' 'Текели' 'Приозерск' 'Курчум' 'Аманкарагай'\n",
      " 'Ереван' 'Акколь (Аккольский р-н)' 'Тобыл' 'Ботакара' 'Орск' 'Макинск'\n",
      " 'Жалкамыс' 'Октябрьское' 'Шар' 'Самара' 'Жезкент' 'Качар' 'Жангала'\n",
      " 'Каратау' 'Черноярка' 'Новая Шульба' 'Доссор' 'Новоишимский' 'Атасу'\n",
      " 'Габидена Мустафина' 'Иргели' 'Иртышск' 'Воронеж' 'Ганюшкино' 'Мамлютка'\n",
      " 'Ушконыр' 'Бесагаш' 'Жетыбай' 'Кемерово' 'Кашыр' 'Затобольск' 'Денисовка'\n",
      " 'Маканчи' 'Аксу-Аюлы' 'Шантобе' 'Казань' 'Чапаев' 'Кокпекты'\n",
      " 'Кабанбай (Алакольский р-н)' 'Ерейментау' 'Мартук' 'Жанибек' 'Байганин'\n",
      " 'Абакан' 'Георгиевка' 'Серебрянск' 'Астрахань' 'Комсомольское'\n",
      " 'Караменды' 'Акраб' 'Жансугуров']\n",
      "['Carina ED' 'A8' 'Escalade' 'Continental GT' 'Windom' '2115 (седан)'\n",
      " 'RX 350' 'Land Cruiser' 'JX35' 'RAV 4' 'S 500' 'Cee’d' 'E 320' 'Panamera'\n",
      " 'Passat' 'Pajero Sport' 'Tempra' 'Highlander' 'Vento' 'Nexia' 'RX 330'\n",
      " 'K5' 'G 500' 'Yeti' 'E 55 AMG' 'Legacy' 'Range Rover'\n",
      " 'Land Cruiser Prado' 'Previa' 'Camry' 'GS 300' 'FX35' 'A6 allroad'\n",
      " 'LX 570' 'M5' 'Delica' 'GX 460' 'Rio' '300C' 'X6 M' 'Duster' 'XJ'\n",
      " 'GLA 45 AMG' 'CLS 550' 'Outback' 'Santa Fe' 'Sonata' 'Cayenne' 'Note'\n",
      " 'S 600' 'S 320' 'Soul' 'Yukon' 'Mokka' 'Almera' '3302 (ГАЗель Бизнес)'\n",
      " 'Golf' '318i' '2170 (седан)' 'Lucida' 'Accent' 'E 350' 'ES 250' '2123'\n",
      " 'ML 350' 'A 45 AMG' '2114 (хэтчбек)' 'Montero Sport' 'GL 400' 'Progres'\n",
      " 'Tunland' 'Grand Cherokee' '2107' 'E 280' 'Patrol' 'Cefiro' '416'\n",
      " 'Cerato' '80' 'Chariot' 'Transporter' '2121 Нива' 'A4' 'S 450' 'CX-7'\n",
      " 'Caliber' '745' '2172 (хэтчбек)' 'XRAY' 'CL 500' '3102 (Волга)' 'C 200'\n",
      " 'Astra' 'Largus' 'Optima' '2110 (седан)' '320i' 'Toledo' '2109 (хэтчбек)'\n",
      " 'LX 470' 'Sprinter' 'E 230' 'Ipsum' 'Sens' 'Octavia' 'Vectra' 'E 240'\n",
      " 'LADA Priora' 'Qashqai' '21099 (седан)' 'ASX' 'Tribute' 'LS 460' 'E 200'\n",
      " 'Pajero' 'Evoque' 'E 260' 'Jetta' 'Veloster' 'Range Rover Sport' 'Lancer'\n",
      " 'Express' 'Maxima' 'Galant' '100' '2113 (хэтчбек)' 'A 190' '626' 'SC7'\n",
      " '525' 'A6' '2112 (хэтчбек)' 'Tiida' 'Hunter' 'Platz' 'Odyssey' 'Matrix'\n",
      " '33023 (ГАЗель Бизнес)' 'Carnival' 'GL 63 AMG' 'X5' '3962' 'CTS' 'Actyon'\n",
      " 'LADA Granta' 'Elgrand' 'Frontera' '2106' 'C4' 'Premacy' 'Primera' '3'\n",
      " '520' 'Lacetti' 'NX 200t' 'Sportage' 'ES 300' 'Solaris' 'Cruze' 'Avensis'\n",
      " 'Pickup' '2190 (седан)' 'Hilux' 'Leganza' 'E 250' 'Polo' 'Carina E'\n",
      " 'S 350' '2705 (ГАЗель)' 'Airtrek' 'H2' 'Starex' 'Caddy' 'LS 430' '528'\n",
      " 'CR-V' 'Outlander' 'Colt' '4Runner' '730' 'Corolla' 'Wingle 6' 'E 220'\n",
      " 'SLK 32 AMG' 'Sharan' 'Road Partner' 'Grand Starex' 'Rapid' '452'\n",
      " 'Mistral' 'Serena' 'Multivan' 'LZW6376' 'Cronos' '740' 'LADA Kalina'\n",
      " 'Cadenza' '530' 'Picanto' 'Tacoma' 'Нива' '540' 'ML 320' '523' 'Avalon'\n",
      " '32213 (ГАЗель)' 'Explorer' 'Z3' 'G 270' 'Smily' 'Fortuner' 'Omega' 'X6'\n",
      " '308' 'X3' 'C 180' '750' 'LADA Largus' 'CX-9' '2105' 'Transit' 'S 550'\n",
      " 'Tucson' 'Estima' 'Chance' 'E 300' '2194 (универсал)' '728' 'Superb'\n",
      " 'Sintra' 'Passat CC' 'Tracker' 'Voxy' 'Space Wagon' 'LADA Kalina 2' '325'\n",
      " '2104' 'Diamante' 'A 200' 'L400' 'Amarok' 'Zafira' 'NX 200' 'E 430'\n",
      " 'Yaris' 'HiAce' 'Carina II' 'GLA 250' 'ES 330' '535' 'Forester' 'SM5'\n",
      " 'Espero' '6' 'Prairie' 'Kyron' 'Patriot' 'Matiz' 'Vito' 'LS 600h'\n",
      " 'E-Class' '2108 (хэтчбек)' 'Picnic' 'Saber' 'GS-Series' '323' 'Noah'\n",
      " 'Crafter' 'Sunny' 'Pathfinder' 'Voyager' 'RX 400h' 'FX37' '21106 (седан)'\n",
      " 'XF' 'Sigma' 'Legnum' 'Primera Camino' 'RX 450h' 'CLS 350' 'Kuga'\n",
      " 'GX 470' 'MPV' 'Mark II' 'Quoris' 'A5' 'Shuttle' '3153' 'Eunos 800'\n",
      " 'Pilot' 'Corolla Ceres' 'QX56' 'Avante' 'Sandero' 'Legacy Grand Wagon'\n",
      " 'Q7' 'A 160' 'Hilux Surf' 'CLA 200' '190' 'Sorento' 'IS 250'\n",
      " 'Almera Tino' 'XC90' 'Impreza' 'Sequoia' 'Grandeur' 'Captiva' '330'\n",
      " 'RX 300' 'MDX' 'S4' 'Mondeo' 'MXT' 'H30 Cross' 'Teana' 'Challenger'\n",
      " 'Caldina' 'Mustang' 'Carisma' 'LADA 110' 'RX 270' 'L200' 'Elantra'\n",
      " 'Freelander' 'H3' '630' 'Lanos' 'Juke' 'X5 M' 'X60' 'C 230' 'Vista'\n",
      " 'X-Trail' 'Coupe' 'Murano' 'ES 350' 'Integra' 'Niva' 'SLK 230'\n",
      " 'CLS 63 AMG' '4007' 'Malibu' 'GL 450' 'Caravelle' 'G 63 AMG' 'S 300'\n",
      " 'Musso' 'G 55 AMG' 'C 280' 'CE 300' 'Benni' 'F 650' 'C 220' 'Scorpio'\n",
      " 'Nomad' 'Tribeca' '5-Series' 'Hatch' 'Countryman' 'Camaro' 'Accord'\n",
      " '2206' 'Tiggo' 'Touareg' 'Logan' 'Stepwgn' 'March' 'Space Runner'\n",
      " 'Blazer' '318' '650' 'EcoSport' 'Myway' 'Solano' 'Creta' 'E 270'\n",
      " '2111 (универсал)' 'A21R23 (ГАЗель NEXT изотерм)' 'Pregio' 'Nubira'\n",
      " 'Verso' 'Elysion' 'G 400' 'FJ Cruiser' 'GLE Coupe 43 AMG' 'A7'\n",
      " 'Discovery' 'Sedan de Ville' 'Spark' 'Korando' 'Impreza WRX STi' 'Focus'\n",
      " 'i3' 'Q3' 'Oley' 'H-1' 'CL 550' 'GLS 400' 'R 350' '735'\n",
      " 'Lancer Evolution' 'S 63 AMG' 'M6' 'Continental Flying Spur' 'Bongo'\n",
      " 'Aveo' 'RVR Sport Gear' 'Aurion' 'Tundra' 'Aygo' 'C 240' 'Getz' 'S 55'\n",
      " 'ES 300h' '24011' '5-Series Gran Turismo' 'Carens' 'RC 350' 'CX-5'\n",
      " 'Town Car' 'Chevy Van' '2191 (лифтбек)' 'Model S' 'Charger' 'Model X'\n",
      " 'Combo' 'RAM' 'Grand HiAce' 'CLS 400' 'SM3' 'Cee’d SW' 'GL 550'\n",
      " 'Besturn B50' 'i30' 'Ducato' 'G35' 'Stinger' 'S60' 'S8' 'Innova' 'Shuma'\n",
      " 'Vue' '2126' 'Sandero Stepway' 'Actyon Sports' 'GS 350' 'Vivaro'\n",
      " 'Terrano' 'Sentra' 'CLA 45 AMG' 'Midi' 'Cobalt' 'Liberty' 'Cedric'\n",
      " '2131 (5-ти дверный)' 'XV' 'Avenger' 'Prelude' 'Impreza WRX' 'C 250'\n",
      " '2171 (универсал)' 'Sovereign' 'Navara' 'Grand Vitara' 'GS 250' 'Demio'\n",
      " 'Bluebird' 'G 350' 'Terios' 'E 43 AMG' 'Clubman' 'i40' 'Kaptur' 'ML 550'\n",
      " 'Genesis' 'A3' 'GL 350' 'Emgrand EC7' 'Rio X-Line' 'Orlando' 'Airwave'\n",
      " 'Tino' 'Gentra' 'MKX' 'Fabia' 'X1' 'D-Max' '3110 (Волга)' 'SC6406'\n",
      " 'F 150' 'Edge' 'Armada' 'NX 300h' 'Cherokee' 'Ranger' 'E 63 AMG'\n",
      " 'Camry Gracia' 'Crown Majesta' 'SX4' 'Mu-7' 'Wagon R+' 'Aristo' '760'\n",
      " 'C 320' '206' 'H1' '360' 'Civic' 'Tiguan' 'GLE Coupe 400' 'S 400' 'Prius'\n",
      " 'Corolla Verso' 'Daily' 'CS35' 'Avensis Verso' 'Trajet' 'Altima' 'Touran'\n",
      " 'ES 200' 'Vitara' 'Venza' 'GT-R' 'CA 1024 VRL' '2192 (хэтчбек)' 'Tahoe'\n",
      " 'Partner' '116' 'CLK 320' 'Wrangler' 'X2' 'Rexton' 'QX80' 'NP300'\n",
      " 'Paladin' 'ML 500' 'Terracan' '307' 'Silverado' 'IS 350' 'Beetle'\n",
      " 'Harrier' '335' 'Nativa' 'E 550' 'Defender' 'Quattroporte' 'Escape'\n",
      " 'S 65 AMG' 'Vida' 'R2' 'Mark X' 'V5' 'Navigator' 'Roomster' \"R'nessa\"\n",
      " 'Axiom' 'Labo' 'Element' '328' 'Stavic' 'CLS 320' '316' 'S3' 'RX 200t'\n",
      " 'Trafic' 'PT Cruiser' 'S5 (Eagle)' 'EX35' 'Avenir' 'Q30' 'Gol'\n",
      " '2752 (Соболь)' 'QX30' 'Insight' 'Town Ace' 'G 300' 'Q5' '300M'\n",
      " 'Qashqai+2' 'S 430' 'Fit' 'HR-V' '207' 'Crown Victoria' 'Alphard'\n",
      " 'Terrano II' 'GL 500' '11113 Ока' 'FX45' 'GS 430' 'R4' 'Epica' 'IS 300'\n",
      " 'Vanette' 'LT' 'I35' 'Vesta Cross' 'Micra' 'Skyline' 'Emgrand X7'\n",
      " 'Ridgeline' 'Safari' 'Probe' 'Pajero IO' 'X4' '6119' 'Corsa'\n",
      " '1117 (универсал)' 'ML 400' 'C-HR' 'C-Class' 'Vesta' 'Stream'\n",
      " 'Corona Premio' 'Montero' 'X-Type' 'Cavalier' 'Galloper' 'GC6' 'Pulsar'\n",
      " 'LX 450d' 'G 320' 'Cresta' '31519' 'Largo' 'B 150' 'Levin' '1111 Ока'\n",
      " 'Rocsta' 'Prairie Joy' 'XL7' '390902' 'Alhambra' 'E 500' 'Xedos 6'\n",
      " '31602' 'C 63 AMG' 'Golf Plus' '2129 Кедр' 'Fiesta' '9-5' 'Жигули' '3008'\n",
      " 'Eclipse' '406' 'Captur' 'GS 450h' '301' 'Millenia' 'TT' 'Granvia'\n",
      " 'Fora (A21)' 'Space Star' 'Supra' '90' 'CT 200h' 'I30' '2410 (Волга)'\n",
      " 'Galaxy' 'Civic Shuttle' '518' 'Istana' '300ZX' 'A-Class' 'Endeavor'\n",
      " 'Breez' 'Frontier' 'Range Rover Velar' 'Magnus' 'Escudo' '320' 'ZNA'\n",
      " 'V70' 'Polo Classic' 'E5' 'A 140' 'Bolero' 'Carina' 'J5 (Heyue)' 'Xterra'\n",
      " 'Marino' 'mi-DO' 'Sienna' '75' 'Viano' 'Vitz' '32215 (ГАЗель)' 'Caravan'\n",
      " 'S40' 'Santamo' 'Escort' 'Orthia' 'A 220' 'CE 220' '9-3' 'Scenic'\n",
      " 'GL 320' '31514' 'Corona Exiv' 'Aztek' 'F3' 'Isis' 'Proceed' 'S 420'\n",
      " '100NX' 'Veracruz' 'Cerato Koup' 'Magentis' 'C 300' 'Impreza XV' 'Chaser'\n",
      " 'A 210' 'RVR' 'Presea' 'CA 6390B5' '234700 (LADA Samara)' 'ix35'\n",
      " 'Bighorn' 'MK' 'Fox' 'А64R42 (ГАЗель NEXT Citiline)' 'Damas'\n",
      " 'HiAce Regius' 'MK Cross' 'Mascott' 'RDX' 'GC7' 'Xedos 9' 'Calibra'\n",
      " 'Boxer' '911' '469' 'Agila' 'S-Type' '2141' 'Space Gear' '412' 'CLK 200'\n",
      " 'RS4' 'Kalos' 'Gaia' 'CLS 500' 'Vita' 'Crown' 'Baleno' 'Grand Voyager'\n",
      " '31105 (Волга)' 'Maverick' 'Largus Cross' 'E 290' 'Alpha' 'Mercury'\n",
      " 'CA 6350' '1102 (Таврия)' 'S30' 'Spectra' 'Meriva' 'L300' 'V2'\n",
      " 'Sprinter Marino' '31512' 'EX25' 'Sierra' '2310 (Соболь)' 'QX4'\n",
      " 'А21R22 (ГАЗель NEXT бортовой)' 'Tigra' 'Safrane' 'Suburban' 'Lantra'\n",
      " 'on-DO' '315' 'Pajero Pinin' 'A 170' 'MX6' '607' 'Laurel' 'Sentia'\n",
      " '3-Series' 'HS 250h' 'S 280' '2834 (ГАЗель)' 'CR-Z' 'TrailBlazer'\n",
      " 'Spacio' 'Urban Cruiser' 'C 55 AMG' 'Samand' '5' 'Emina' 'Kadett'\n",
      " 'SLS AMG' 'Aventador' 'Cayman' 'SLK 200' 'Sebring' '2329 (пикап)'\n",
      " 'Espace' '3303' 'GLK 350' 'Leaf' 'Expedition' 'S80' 'SM-X' 'Cube'\n",
      " 'CLK 230' '405' 'Acadia' '3151' 'QX70' 'Altezza' 'Siber' 'Q45' 'Rafaga'\n",
      " 'Ascot' 'HHR' 'C-Max' 'Cargo' '850' 'ML 280' 'Sephia' 'Cami' 'C5'\n",
      " 'Legacy Lancaster' 'Amulet (A15)' 'FX50' 'UNO' 'Sprinter Carib' '9000'\n",
      " 'Intrepid' 'C70' '121' 'Presage' '407' 'Kangoo' 'CL 600' '310221 (Волга)'\n",
      " 'Koleos' 'Arnage' 'Tosca' 'R 500' 'FTO' 'C3' 'Eurovan' '2008' 'LS 400'\n",
      " 'Soarer' 'Brougham' 'CE 230' 'Corona' 'Celica' 'B 180' '640'\n",
      " 'Camry Lumiere' 'Voleex C30' 'N-5' 'Grandis' 'Tico' 'Megane' 'SRX'\n",
      " 'Santana' 'Insignia' 'A4 allroad' 'Quest' 'Kizashi' 'LC' 'Forza'\n",
      " 'Pacifica' '1119 (хэтчбек)' 'Fluence' 'Mohave' 'XD' 'Excursion' 'S6'\n",
      " 'Eos' 'C 350']\n",
      "['Toyota' 'Audi' 'Cadillac' 'Bentley' 'ВАЗ (Lada)' 'Lexus' 'Infiniti'\n",
      " 'Mercedes-Benz' 'Kia' 'Porsche' 'Volkswagen' 'Mitsubishi' 'Fiat' 'Daewoo'\n",
      " 'Skoda' 'Subaru' 'Land Rover' 'JAC' 'Chrysler' 'BMW' 'Renault' 'Jaguar'\n",
      " 'Hyundai' 'Nissan' 'GMC' 'Opel' 'ГАЗ' 'Foton' 'Jeep' 'Rover' 'Mazda'\n",
      " 'Dodge' 'Seat' 'ЗАЗ' 'Chevrolet' 'Geely' 'УАЗ' 'Honda' 'SsangYong'\n",
      " 'Citroen' 'Hummer' 'Great Wall' 'ТагАЗ' 'Wuling' 'Ford' 'Lifan' 'Peugeot'\n",
      " 'Renault Samsung' 'Volvo' 'Acura' 'International' 'Dong Feng' 'Mini'\n",
      " 'Changan' 'Chery' 'FAW' 'Lincoln' 'Tesla' 'Saturn' 'ИЖ' 'Isuzu' 'Suzuki'\n",
      " 'Daihatsu' 'Ravon' 'Ferrari' 'Mercedes-Maybach' 'Iveco' 'Maserati'\n",
      " 'Yutong' 'Asia' 'Saab' 'Mahindra' 'Datsun' 'Pontiac' 'BYD' 'ВИС'\n",
      " 'Москвич' 'Iran Khodro' 'Lamborghini' 'Scion']\n",
      "['petrol' 'gas' 'diesel' nan]\n",
      "['автомат' 'типтроник' 'механика' 'вариатор' 'робот' 'АКПП']\n"
     ]
    },
    {
     "ename": "AttributeError",
     "evalue": "'DataFrame' object has no attribute 'wheel'",
     "output_type": "error",
     "traceback": [
      "\u001b[0;31m---------------------------------------------------------------------------\u001b[0m",
      "\u001b[0;31mAttributeError\u001b[0m                            Traceback (most recent call last)",
      "\u001b[0;32m<ipython-input-67-1df362f723e1>\u001b[0m in \u001b[0;36m<module>\u001b[0;34m\u001b[0m\n\u001b[1;32m      5\u001b[0m \u001b[0mprint\u001b[0m\u001b[0;34m(\u001b[0m\u001b[0mmd\u001b[0m\u001b[0;34m.\u001b[0m\u001b[0mcapacity_type\u001b[0m\u001b[0;34m.\u001b[0m\u001b[0munique\u001b[0m\u001b[0;34m(\u001b[0m\u001b[0;34m)\u001b[0m\u001b[0;34m)\u001b[0m\u001b[0;34m\u001b[0m\u001b[0m\n\u001b[1;32m      6\u001b[0m \u001b[0mprint\u001b[0m\u001b[0;34m(\u001b[0m\u001b[0mmd\u001b[0m\u001b[0;34m.\u001b[0m\u001b[0mtransmission\u001b[0m\u001b[0;34m.\u001b[0m\u001b[0munique\u001b[0m\u001b[0;34m(\u001b[0m\u001b[0;34m)\u001b[0m\u001b[0;34m)\u001b[0m\u001b[0;34m\u001b[0m\u001b[0m\n\u001b[0;32m----> 7\u001b[0;31m \u001b[0mprint\u001b[0m\u001b[0;34m(\u001b[0m\u001b[0mmd\u001b[0m\u001b[0;34m.\u001b[0m\u001b[0mwheel\u001b[0m\u001b[0;34m.\u001b[0m\u001b[0munique\u001b[0m\u001b[0;34m(\u001b[0m\u001b[0;34m)\u001b[0m\u001b[0;34m)\u001b[0m\u001b[0;34m\u001b[0m\u001b[0m\n\u001b[0m\u001b[1;32m      8\u001b[0m \u001b[0mprint\u001b[0m\u001b[0;34m(\u001b[0m\u001b[0mmd\u001b[0m\u001b[0;34m.\u001b[0m\u001b[0mcolor\u001b[0m\u001b[0;34m.\u001b[0m\u001b[0munique\u001b[0m\u001b[0;34m(\u001b[0m\u001b[0;34m)\u001b[0m\u001b[0;34m)\u001b[0m\u001b[0;34m\u001b[0m\u001b[0m\n\u001b[1;32m      9\u001b[0m \u001b[0mprint\u001b[0m\u001b[0;34m(\u001b[0m\u001b[0mmd\u001b[0m\u001b[0;34m.\u001b[0m\u001b[0mdrive_unit\u001b[0m\u001b[0;34m.\u001b[0m\u001b[0munique\u001b[0m\u001b[0;34m(\u001b[0m\u001b[0;34m)\u001b[0m\u001b[0;34m)\u001b[0m\u001b[0;34m\u001b[0m\u001b[0m\n",
      "\u001b[0;32m~/anaconda3/lib/python3.6/site-packages/pandas/core/generic.py\u001b[0m in \u001b[0;36m__getattr__\u001b[0;34m(self, name)\u001b[0m\n\u001b[1;32m   4374\u001b[0m             \u001b[0;32mif\u001b[0m \u001b[0mself\u001b[0m\u001b[0;34m.\u001b[0m\u001b[0m_info_axis\u001b[0m\u001b[0;34m.\u001b[0m\u001b[0m_can_hold_identifiers_and_holds_name\u001b[0m\u001b[0;34m(\u001b[0m\u001b[0mname\u001b[0m\u001b[0;34m)\u001b[0m\u001b[0;34m:\u001b[0m\u001b[0;34m\u001b[0m\u001b[0m\n\u001b[1;32m   4375\u001b[0m                 \u001b[0;32mreturn\u001b[0m \u001b[0mself\u001b[0m\u001b[0;34m[\u001b[0m\u001b[0mname\u001b[0m\u001b[0;34m]\u001b[0m\u001b[0;34m\u001b[0m\u001b[0m\n\u001b[0;32m-> 4376\u001b[0;31m             \u001b[0;32mreturn\u001b[0m \u001b[0mobject\u001b[0m\u001b[0;34m.\u001b[0m\u001b[0m__getattribute__\u001b[0m\u001b[0;34m(\u001b[0m\u001b[0mself\u001b[0m\u001b[0;34m,\u001b[0m \u001b[0mname\u001b[0m\u001b[0;34m)\u001b[0m\u001b[0;34m\u001b[0m\u001b[0m\n\u001b[0m\u001b[1;32m   4377\u001b[0m \u001b[0;34m\u001b[0m\u001b[0m\n\u001b[1;32m   4378\u001b[0m     \u001b[0;32mdef\u001b[0m \u001b[0m__setattr__\u001b[0m\u001b[0;34m(\u001b[0m\u001b[0mself\u001b[0m\u001b[0;34m,\u001b[0m \u001b[0mname\u001b[0m\u001b[0;34m,\u001b[0m \u001b[0mvalue\u001b[0m\u001b[0;34m)\u001b[0m\u001b[0;34m:\u001b[0m\u001b[0;34m\u001b[0m\u001b[0m\n",
      "\u001b[0;31mAttributeError\u001b[0m: 'DataFrame' object has no attribute 'wheel'"
     ]
    }
   ],
   "source": [
    "print(md.body.unique())\n",
    "print(md.city.unique())\n",
    "print(md.brand.unique())\n",
    "print(md.name.unique())\n",
    "print(md.capacity_type.unique())\n",
    "print(md.transmission.unique())\n",
    "print(md.wheel.unique())\n",
    "print(md.color.unique())\n",
    "print(md.drive_unit.unique())\n",
    "print(md.customs.unique())"
   ]
  },
  {
   "cell_type": "markdown",
   "metadata": {},
   "source": [
    "# And delete unused  culumns"
   ]
  },
  {
   "cell_type": "code",
   "execution_count": 56,
   "metadata": {},
   "outputs": [],
   "source": [
    "md.drop(['customs', 'drive_unit', 'color', 'wheel','avg_price'], axis='columns', inplace=True)"
   ]
  },
  {
   "cell_type": "markdown",
   "metadata": {},
   "source": [
    "# Preprocessing values"
   ]
  },
  {
   "cell_type": "code",
   "execution_count": 57,
   "metadata": {},
   "outputs": [
    {
     "name": "stdout",
     "output_type": "stream",
     "text": [
      "Too new: 194\n",
      "Too old: 0\n",
      "Too cheap: 0\n",
      "Too expensive:  378\n",
      "Too few km:  4026\n",
      "Too many km:  2092\n",
      "Fuel types:  ['petrol' 'gas' 'diesel' nan]\n",
      "Vehicle types:  ['седан' 'внедорожник' 'купе' 'кроссовер' 'хэтчбек/лифтбек' 'минивэн'\n",
      " 'универсал' 'микроавтобус' 'лимузин' 'микровэн' 'фургон' 'пикап'\n",
      " 'родстер' 'кабриолет']\n",
      "Brands:  ['Toyota' 'Audi' 'Cadillac' 'Bentley' 'ВАЗ (Lada)' 'Lexus' 'Infiniti'\n",
      " 'Mercedes-Benz' 'Kia' 'Porsche' 'Volkswagen' 'Mitsubishi' 'Fiat' 'Daewoo'\n",
      " 'Skoda' 'Subaru' 'Land Rover' 'JAC' 'Chrysler' 'BMW' 'Renault' 'Jaguar'\n",
      " 'Hyundai' 'Nissan' 'GMC' 'Opel' 'ГАЗ' 'Foton' 'Jeep' 'Rover' 'Mazda'\n",
      " 'Dodge' 'Seat' 'ЗАЗ' 'Chevrolet' 'Geely' 'УАЗ' 'Honda' 'SsangYong'\n",
      " 'Citroen' 'Hummer' 'Great Wall' 'ТагАЗ' 'Wuling' 'Ford' 'Lifan' 'Peugeot'\n",
      " 'Renault Samsung' 'Volvo' 'Acura' 'International' 'Dong Feng' 'Mini'\n",
      " 'Changan' 'Chery' 'FAW' 'Lincoln' 'Tesla' 'Saturn' 'ИЖ' 'Isuzu' 'Suzuki'\n",
      " 'Daihatsu' 'Ravon' 'Ferrari' 'Mercedes-Maybach' 'Iveco' 'Maserati'\n",
      " 'Yutong' 'Asia' 'Saab' 'Mahindra' 'Datsun' 'Pontiac' 'BYD' 'ВИС'\n",
      " 'Москвич' 'Iran Khodro' 'Lamborghini' 'Scion']\n",
      "-----------------\n",
      "Data kept for analisys: 85 percent of the entire set\n",
      "-----------------\n"
     ]
    }
   ],
   "source": [
    "print(\"Too new: %d\" % md.loc[md.year >= 2018].count()['brand'])\n",
    "print(\"Too old: %d\" % md.loc[md.year < 1950].count()['brand'])\n",
    "print(\"Too cheap: %d\" % md.loc[md.price < 100].count()['brand'])\n",
    "print(\"Too expensive: \" , md.loc[md.price > 15000000].count()['brand'])\n",
    "print(\"Too few km: \" , md.loc[md.mileage < 10].count()['brand'])\n",
    "print(\"Too many km: \" , md.loc[md.mileage > 200000].count()['brand'])\n",
    "\n",
    "print(\"Fuel types: \" , md['capacity_type'].unique())\n",
    "\n",
    "\n",
    "print(\"Vehicle types: \" , md['body'].unique())\n",
    "print(\"Brands: \" , md['name'].unique())\n",
    "\n",
    "# Cleaning data\n",
    "#valid_models = df.dropna()\n",
    "\n",
    "#### Removing the duplicates\n",
    "dedups = md.drop_duplicates(['brand','price','capacity_type','year','transmission','name','mileage','capacity_type'])\n",
    "\n",
    "#### Removing the outliers\n",
    "dedups = dedups[\n",
    "        (dedups.year <= 2016) \n",
    "      & (dedups.year >= 1950) \n",
    "      & (dedups.price >= 100) \n",
    "      & (dedups.price <= 15000000)]\n",
    "\n",
    "print(\"-----------------\\nData kept for analisys: %d percent of the entire set\\n-----------------\" % (100 * dedups['brand'].count() / md['brand'].count()))\n"
   ]
  },
  {
   "cell_type": "markdown",
   "metadata": {},
   "source": [
    "# How many empty values in which column"
   ]
  },
  {
   "cell_type": "code",
   "execution_count": 58,
   "metadata": {},
   "outputs": [
    {
     "data": {
      "text/plain": [
       "city                0\n",
       "brand               0\n",
       "name                0\n",
       "year                0\n",
       "price               0\n",
       "body                0\n",
       "capacity            4\n",
       "capacity_type      45\n",
       "mileage             0\n",
       "transmission        0\n",
       "image             421\n",
       "description      2025\n",
       "view_amount         0\n",
       "dtype: int64"
      ]
     },
     "execution_count": 58,
     "metadata": {},
     "output_type": "execute_result"
    }
   ],
   "source": [
    "md.isnull().sum()"
   ]
  },
  {
   "cell_type": "markdown",
   "metadata": {},
   "source": [
    "# Sets for all emply  vals \"not-declared\""
   ]
  },
  {
   "cell_type": "code",
   "execution_count": 68,
   "metadata": {},
   "outputs": [],
   "source": [
    "dedups.fillna(value='not-declared', inplace=True)"
   ]
  },
  {
   "cell_type": "markdown",
   "metadata": {},
   "source": [
    "# And you can see values are filled"
   ]
  },
  {
   "cell_type": "code",
   "execution_count": 60,
   "metadata": {},
   "outputs": [
    {
     "data": {
      "text/plain": [
       "city             0\n",
       "brand            0\n",
       "name             0\n",
       "year             0\n",
       "price            0\n",
       "body             0\n",
       "capacity         3\n",
       "capacity_type    0\n",
       "mileage          0\n",
       "transmission     0\n",
       "image            0\n",
       "description      0\n",
       "view_amount      0\n",
       "dtype: int64"
      ]
     },
     "execution_count": 60,
     "metadata": {},
     "output_type": "execute_result"
    }
   ],
   "source": [
    "dedups.isnull().sum()"
   ]
  },
  {
   "cell_type": "markdown",
   "metadata": {},
   "source": [
    "# Diagram for 'body', 'name', 'brand', 'transmission', 'capacity_type' "
   ]
  },
  {
   "cell_type": "code",
   "execution_count": 63,
   "metadata": {},
   "outputs": [
    {
     "name": "stdout",
     "output_type": "stream",
     "text": [
      "body\n",
      "седан              4860\n",
      "внедорожник        1235\n",
      "кроссовер          1094\n",
      "хэтчбек/лифтбек    1079\n",
      "универсал           661\n",
      "Name: body, dtype: int64\n"
     ]
    },
    {
     "data": {
      "image/png": "[encoded data removed]",
      "text/plain": [
       "<Figure size 360x216 with 1 Axes>"
      ]
     },
     "metadata": {
      "needs_background": "light"
     },
     "output_type": "display_data"
    },
    {
     "name": "stdout",
     "output_type": "stream",
     "text": [
      "name\n",
      "Toyota           1576\n",
      "ВАЗ (Lada)       1293\n",
      "Mercedes-Benz    1003\n",
      "Volkswagen        680\n",
      "Nissan            628\n",
      "Name: name, dtype: int64\n"
     ]
    },
    {
     "data": {
      "image/png": "[encoded data removed]",
      "text/plain": [
       "<Figure size 360x216 with 1 Axes>"
      ]
     },
     "metadata": {
      "needs_background": "light"
     },
     "output_type": "display_data"
    },
    {
     "name": "stdout",
     "output_type": "stream",
     "text": [
      "brand\n",
      "Camry                 486\n",
      "Passat                247\n",
      "Land Cruiser Prado    205\n",
      "2114 (хэтчбек)        204\n",
      "Golf                  166\n",
      "Name: brand, dtype: int64\n"
     ]
    },
    {
     "data": {
      "image/png": "[encoded data removed]",
      "text/plain": [
       "<Figure size 360x216 with 1 Axes>"
      ]
     },
     "metadata": {
      "needs_background": "light"
     },
     "output_type": "display_data"
    },
    {
     "name": "stdout",
     "output_type": "stream",
     "text": [
      "transmission\n",
      "механика     4431\n",
      "автомат      4383\n",
      "типтроник    1017\n",
      "вариатор      157\n",
      "робот          37\n",
      "Name: transmission, dtype: int64\n"
     ]
    },
    {
     "data": {
      "image/png": "[encoded data removed]",
      "text/plain": [
       "<Figure size 360x216 with 1 Axes>"
      ]
     },
     "metadata": {
      "needs_background": "light"
     },
     "output_type": "display_data"
    },
    {
     "name": "stdout",
     "output_type": "stream",
     "text": [
      "capacity_type\n",
      "petrol          7782\n",
      "gas             1453\n",
      "diesel           754\n",
      "not-declared      37\n",
      "Name: capacity_type, dtype: int64\n"
     ]
    },
    {
     "data": {
      "image/png": "[encoded data removed]",
      "text/plain": [
       "<Figure size 360x216 with 1 Axes>"
      ]
     },
     "metadata": {
      "needs_background": "light"
     },
     "output_type": "display_data"
    }
   ],
   "source": [
    "categories = ['body', 'name', 'brand', 'transmission', 'capacity_type']\n",
    "\n",
    "for i, c in enumerate(categories):\n",
    "    v = dedups[c].unique()\n",
    "    \n",
    "    g = dedups.groupby(by=c)[c].count().sort_values(ascending=False)\n",
    "    r = range(min(len(v), 5))\n",
    "\n",
    "    print( g.head())\n",
    "    plt.figure(figsize=(5,3))\n",
    "    plt.bar(r, g.head()) \n",
    "    plt.xticks(r, v)\n",
    "    plt.show()"
   ]
  },
  {
   "cell_type": "markdown",
   "metadata": {},
   "source": [
    "\n",
    "# Feature engineering\n",
    "# Adding the name length to see how much does a long description influence the price"
   ]
  },
  {
   "cell_type": "code",
   "execution_count": 70,
   "metadata": {},
   "outputs": [
    {
     "data": {
      "image/png": "[encoded data removed]",
      "text/plain": [
       "<Figure size 576x576 with 3 Axes>"
      ]
     },
     "metadata": {
      "needs_background": "light"
     },
     "output_type": "display_data"
    }
   ],
   "source": [
    "\n",
    "dedups['namelen'] = [min(70, len(n)) for n in dedups['name']]\n",
    "\n",
    "ax = sns.jointplot(x='namelen', \n",
    "                   y='price',\n",
    "                   data=dedups[['namelen','price']], \n",
    "                    alpha=0.1, \n",
    "                    size=8)"
   ]
  },
  {
   "cell_type": "markdown",
   "metadata": {},
   "source": [
    "# Save in dedups and preprocessing \"words\" in column 'body', 'name', 'brand', 'transmission', 'capacity_type'"
   ]
  },
  {
   "cell_type": "code",
   "execution_count": 38,
   "metadata": {},
   "outputs": [],
   "source": [
    "labels = ['body', 'name', 'brand', 'transmission', 'capacity_type']\n",
    "les = {}\n",
    "\n",
    "for l in labels:\n",
    "    les[l] = preprocessing.LabelEncoder()\n",
    "    les[l].fit(dedups[l])\n",
    "    tr = les[l].transform(dedups[l]) \n",
    "    dedups.loc[:, l + '_feat'] = pd.Series(tr, index=dedups.index)\n",
    "\n",
    "labeled = dedups[ ['price'\n",
    "                        ,'year'\n",
    "                        ,'mileage'] \n",
    "                    + [x+\"_feat\" for x in labels]]"
   ]
  },
  {
   "cell_type": "markdown",
   "metadata": {},
   "source": [
    "# Correlation map and cofficent for all"
   ]
  },
  {
   "cell_type": "code",
   "execution_count": 91,
   "metadata": {},
   "outputs": [
    {
     "data": {
      "text/html": [
       "<div>\n",
       "<style scoped>\n",
       "    .dataframe tbody tr th:only-of-type {\n",
       "        vertical-align: middle;\n",
       "    }\n",
       "\n",
       "    .dataframe tbody tr th {\n",
       "        vertical-align: top;\n",
       "    }\n",
       "\n",
       "    .dataframe thead th {\n",
       "        text-align: right;\n",
       "    }\n",
       "</style>\n",
       "<table border=\"1\" class=\"dataframe\">\n",
       "  <thead>\n",
       "    <tr style=\"text-align: right;\">\n",
       "      <th></th>\n",
       "      <th>price</th>\n",
       "      <th>year</th>\n",
       "      <th>mileage</th>\n",
       "      <th>body_feat</th>\n",
       "      <th>brand_feat</th>\n",
       "      <th>transmission_feat</th>\n",
       "      <th>capacity_type_feat</th>\n",
       "    </tr>\n",
       "  </thead>\n",
       "  <tbody>\n",
       "    <tr>\n",
       "      <th>price</th>\n",
       "      <td>1.000000</td>\n",
       "      <td>0.552821</td>\n",
       "      <td>-0.062727</td>\n",
       "      <td>-0.499082</td>\n",
       "      <td>0.279563</td>\n",
       "      <td>-0.134224</td>\n",
       "      <td>-0.070210</td>\n",
       "    </tr>\n",
       "    <tr>\n",
       "      <th>year</th>\n",
       "      <td>0.552821</td>\n",
       "      <td>1.000000</td>\n",
       "      <td>-0.094374</td>\n",
       "      <td>-0.151817</td>\n",
       "      <td>0.058843</td>\n",
       "      <td>0.020317</td>\n",
       "      <td>0.026549</td>\n",
       "    </tr>\n",
       "    <tr>\n",
       "      <th>mileage</th>\n",
       "      <td>-0.062727</td>\n",
       "      <td>-0.094374</td>\n",
       "      <td>1.000000</td>\n",
       "      <td>0.024562</td>\n",
       "      <td>-0.006065</td>\n",
       "      <td>0.015936</td>\n",
       "      <td>-0.012684</td>\n",
       "    </tr>\n",
       "    <tr>\n",
       "      <th>body_feat</th>\n",
       "      <td>-0.499082</td>\n",
       "      <td>-0.151817</td>\n",
       "      <td>0.024562</td>\n",
       "      <td>1.000000</td>\n",
       "      <td>-0.351533</td>\n",
       "      <td>0.142799</td>\n",
       "      <td>0.210379</td>\n",
       "    </tr>\n",
       "    <tr>\n",
       "      <th>brand_feat</th>\n",
       "      <td>0.279563</td>\n",
       "      <td>0.058843</td>\n",
       "      <td>-0.006065</td>\n",
       "      <td>-0.351533</td>\n",
       "      <td>1.000000</td>\n",
       "      <td>-0.110990</td>\n",
       "      <td>-0.143760</td>\n",
       "    </tr>\n",
       "    <tr>\n",
       "      <th>transmission_feat</th>\n",
       "      <td>-0.134224</td>\n",
       "      <td>0.020317</td>\n",
       "      <td>0.015936</td>\n",
       "      <td>0.142799</td>\n",
       "      <td>-0.110990</td>\n",
       "      <td>1.000000</td>\n",
       "      <td>0.001628</td>\n",
       "    </tr>\n",
       "    <tr>\n",
       "      <th>capacity_type_feat</th>\n",
       "      <td>-0.070210</td>\n",
       "      <td>0.026549</td>\n",
       "      <td>-0.012684</td>\n",
       "      <td>0.210379</td>\n",
       "      <td>-0.143760</td>\n",
       "      <td>0.001628</td>\n",
       "      <td>1.000000</td>\n",
       "    </tr>\n",
       "  </tbody>\n",
       "</table>\n",
       "</div>"
      ],
      "text/plain": [
       "                       price      year   mileage  body_feat  brand_feat  \\\n",
       "price               1.000000  0.552821 -0.062727  -0.499082    0.279563   \n",
       "year                0.552821  1.000000 -0.094374  -0.151817    0.058843   \n",
       "mileage            -0.062727 -0.094374  1.000000   0.024562   -0.006065   \n",
       "body_feat          -0.499082 -0.151817  0.024562   1.000000   -0.351533   \n",
       "brand_feat          0.279563  0.058843 -0.006065  -0.351533    1.000000   \n",
       "transmission_feat  -0.134224  0.020317  0.015936   0.142799   -0.110990   \n",
       "capacity_type_feat -0.070210  0.026549 -0.012684   0.210379   -0.143760   \n",
       "\n",
       "                    transmission_feat  capacity_type_feat  \n",
       "price                       -0.134224           -0.070210  \n",
       "year                         0.020317            0.026549  \n",
       "mileage                      0.015936           -0.012684  \n",
       "body_feat                    0.142799            0.210379  \n",
       "brand_feat                  -0.110990           -0.143760  \n",
       "transmission_feat            1.000000            0.001628  \n",
       "capacity_type_feat           0.001628            1.000000  "
      ]
     },
     "execution_count": 91,
     "metadata": {},
     "output_type": "execute_result"
    },
    {
     "data": {
      "image/png": "[encoded data removed]",
      "text/plain": [
       "<Figure size 864x720 with 2 Axes>"
      ]
     },
     "metadata": {
      "needs_background": "light"
     },
     "output_type": "display_data"
    }
   ],
   "source": [
    "def plot_correlation_map( df ):\n",
    "    corr = df.corr()\n",
    "    _ , ax = plt.subplots( figsize =( 12 , 10 ) )\n",
    "    cmap = sns.diverging_palette( 220 , 10 , as_cmap = True )\n",
    "    _ = sns.heatmap(\n",
    "        corr, \n",
    "        cmap = cmap,\n",
    "        square=True, \n",
    "        cbar_kws={ 'shrink' : .9 }, \n",
    "        ax=ax, \n",
    "        annot = True, \n",
    "        annot_kws = { 'fontsize' : 12 }\n",
    "    )\n",
    "plot_correlation_map(labeled)\n",
    "labeled.corr()\n"
   ]
  },
  {
   "cell_type": "markdown",
   "metadata": {},
   "source": [
    "# Which column strong effected for price"
   ]
  },
  {
   "cell_type": "code",
   "execution_count": 92,
   "metadata": {},
   "outputs": [
    {
     "data": {
      "text/plain": [
       "year                  0.552821\n",
       "body_feat             0.499082\n",
       "brand_feat            0.279563\n",
       "transmission_feat     0.134224\n",
       "capacity_type_feat    0.070210\n",
       "mileage               0.062727\n",
       "Name: price, dtype: float64"
      ]
     },
     "execution_count": 92,
     "metadata": {},
     "output_type": "execute_result"
    }
   ],
   "source": [
    "labeled.corr().loc[:,'price'].abs().sort_values(ascending=False)[1:]"
   ]
  },
  {
   "cell_type": "markdown",
   "metadata": {},
   "source": [
    "# price log1p "
   ]
  },
  {
   "cell_type": "code",
   "execution_count": 46,
   "metadata": {},
   "outputs": [
    {
     "data": {
      "image/png": "[encoded data removed]",
      "text/plain": [
       "<Figure size 864x432 with 2 Axes>"
      ]
     },
     "metadata": {
      "needs_background": "light"
     },
     "output_type": "display_data"
    }
   ],
   "source": [
    "Y = labeled['price']\n",
    "X = labeled.drop(['price'], axis='columns', inplace=False)\n",
    "\n",
    "\n",
    "matplotlib.rcParams['figure.figsize'] = (12.0, 6.0)\n",
    "prices = pd.DataFrame({\"1. Before\":Y, \"2. After\":np.log1p(Y)})\n",
    "prices.hist()\n",
    "\n",
    "Y = np.log1p(Y)"
   ]
  },
  {
   "cell_type": "markdown",
   "metadata": {},
   "source": [
    "# Train test vals"
   ]
  },
  {
   "cell_type": "code",
   "execution_count": 73,
   "metadata": {},
   "outputs": [
    {
     "name": "stdout",
     "output_type": "stream",
     "text": [
      "(6717, 6) (3309, 6) (6717,) (3309,)\n"
     ]
    }
   ],
   "source": [
    "# Basic imports and functions\n",
    "# Trying with some model from scikit learn: LinearRegression, LR with L2 regularization and others.\n",
    "from sklearn.linear_model import Ridge, RidgeCV, ElasticNet, Lasso, LassoCV, LassoLarsCV\n",
    "from sklearn.model_selection import cross_val_score, train_test_split\n",
    "\n",
    "\n",
    "test_size = .33\n",
    "\n",
    "#Split into train and validation\n",
    "X_train, X_val, y_train, y_val = train_test_split(X, Y, test_size=test_size, random_state = 123)\n",
    "print(X_train.shape, X_val.shape, y_train.shape, y_val.shape)\n",
    "\n",
    "r = range(2003, 2017)\n",
    "km_year = 10000"
   ]
  },
  {
   "cell_type": "markdown",
   "metadata": {},
   "source": [
    "# Random Forest and Grid Search fit model"
   ]
  },
  {
   "cell_type": "code",
   "execution_count": 82,
   "metadata": {},
   "outputs": [
    {
     "name": "stdout",
     "output_type": "stream",
     "text": [
      "Fitting 2 folds for each of 36 candidates, totalling 72 fits\n"
     ]
    },
    {
     "name": "stderr",
     "output_type": "stream",
     "text": [
      "[Parallel(n_jobs=-1)]: Using backend LokyBackend with 4 concurrent workers.\n",
      "[Parallel(n_jobs=-1)]: Done  42 tasks      | elapsed:   12.7s\n",
      "[Parallel(n_jobs=-1)]: Done  72 out of  72 | elapsed:   23.3s finished\n"
     ]
    }
   ],
   "source": [
    "\n",
    "rf = RandomForestRegressor()\n",
    "\n",
    "param_grid = { \"criterion\" : [\"mse\"]\n",
    "              , \"min_samples_leaf\" : [1, 3, 5]\n",
    "              , \"min_samples_split\" : [2, 3]\n",
    "              , \"max_depth\": [5, 6, 7]\n",
    "              , \"n_estimators\": [100, 200]}\n",
    "\n",
    "gs = GridSearchCV(estimator=rf, param_grid=param_grid, cv=2, n_jobs=-1, verbose=1)\n",
    "gs = gs.fit(X_train, y_train)"
   ]
  },
  {
   "cell_type": "markdown",
   "metadata": {},
   "source": [
    "# Function to evaluate my model with Cross validation# "
   ]
  },
  {
   "cell_type": "code",
   "execution_count": 81,
   "metadata": {},
   "outputs": [],
   "source": [
    "#Function to evaluate my model with Cross validation\n",
    "from sklearn.model_selection import cross_val_score\n",
    "def testingModel(model, X_train, Y_train):\n",
    "    scores = cross_val_score(model, X_train, Y_train, cv=10, scoring = \"roc_auc\")\n",
    "    print(\"Scores:\", scores)\n",
    "    print(\"Mean:\", scores.mean())\n",
    "    print(\"Standard Deviation:\", scores.std())\n",
    "    return scores.mean()"
   ]
  },
  {
   "cell_type": "markdown",
   "metadata": {},
   "source": [
    "# RandomForestRegressor for best_params"
   ]
  },
  {
   "cell_type": "code",
   "execution_count": 84,
   "metadata": {},
   "outputs": [
    {
     "name": "stdout",
     "output_type": "stream",
     "text": [
      "Score: 0.82\n"
     ]
    }
   ],
   "source": [
    "bp = gs.best_params_\n",
    "forest = RandomForestRegressor(criterion=bp['criterion'],\n",
    "                              min_samples_leaf=bp['min_samples_leaf'],\n",
    "                              min_samples_split=bp['min_samples_split'],\n",
    "                              max_depth=bp['max_depth'],\n",
    "                              n_estimators=bp['n_estimators'])\n",
    "forest.fit(X_train, y_train)\n",
    "print('Score: %.2f' % forest.score(X_val, y_val))"
   ]
  },
  {
   "cell_type": "markdown",
   "metadata": {},
   "source": [
    "# Feature importances"
   ]
  },
  {
   "cell_type": "code",
   "execution_count": 85,
   "metadata": {},
   "outputs": [
    {
     "name": "stdout",
     "output_type": "stream",
     "text": [
      "Feature ranking:\n",
      "1. feature 0 (0.486322)\n",
      "2. feature 3 (0.316784)\n",
      "3. feature 4 (0.095590)\n",
      "4. feature 2 (0.083772)\n",
      "5. feature 5 (0.011918)\n",
      "6. feature 1 (0.005613)\n"
     ]
    },
    {
     "data": {
      "image/png": "[encoded data removed]",
      "text/plain": [
       "<Figure size 864x432 with 1 Axes>"
      ]
     },
     "metadata": {
      "needs_background": "light"
     },
     "output_type": "display_data"
    },
    {
     "data": {
      "text/plain": [
       "array(['year', 'mileage', 'body_feat', 'brand_feat', 'transmission_feat',\n",
       "       'capacity_type_feat'], dtype=object)"
      ]
     },
     "execution_count": 85,
     "metadata": {},
     "output_type": "execute_result"
    }
   ],
   "source": [
    "importances = forest.feature_importances_\n",
    "std = np.std([tree.feature_importances_ for tree in forest.estimators_],\n",
    "             axis=0)\n",
    "indices = np.argsort(importances)[::-1]\n",
    "# Print the feature ranking\n",
    "print(\"Feature ranking:\")\n",
    "\n",
    "for f in range(X.shape[1]):\n",
    "    print(\"%d. feature %d (%f)\" % (f + 1, indices[f], importances[indices[f]]))\n",
    "\n",
    "# Plot the feature importances of the forest\n",
    "plt.figure()\n",
    "plt.title(\"Feature importances\")\n",
    "plt.bar(range(X.shape[1]), importances[indices],\n",
    "       color=\"r\", yerr=std[indices], align=\"center\",tick_label = X_train.columns.values)\n",
    "plt.xticks(range(X.shape[1]), indices)\n",
    "plt.xlim([-1, X.shape[1]])\n",
    "plt.show()\n",
    "\n",
    "X_train.columns.values"
   ]
  },
  {
   "cell_type": "markdown",
   "metadata": {},
   "source": [
    "# XGBRegressor for model "
   ]
  },
  {
   "cell_type": "code",
   "execution_count": 67,
   "metadata": {},
   "outputs": [
    {
     "name": "stdout",
     "output_type": "stream",
     "text": [
      "Accuracy: 83.06%\n"
     ]
    },
    {
     "data": {
      "image/png": "[encoded data removed]",
      "text/plain": [
       "<Figure size 864x432 with 1 Axes>"
      ]
     },
     "metadata": {
      "needs_background": "light"
     },
     "output_type": "display_data"
    }
   ],
   "source": [
    "model = XGBRegressor()\n",
    "model.fit(X_train, y_train)\n",
    "# make predictions for test data\n",
    "y_pred = model.predict(X_val)\n",
    "accuracy = model.score(X_val, y_val)\n",
    "print(\"Accuracy: %.2f%%\" % (accuracy * 100.0))\n",
    "feat_imp = pd.Series(model.get_booster().get_fscore()).sort_values(ascending=False)\n",
    "feat_imp.plot(kind='bar', title='Feature Importances')\n",
    "plt.ylabel('Feature Importance Score')\n",
    "plt.show()"
   ]
  },
  {
   "cell_type": "code",
   "execution_count": 90,
   "metadata": {},
   "outputs": [],
   "source": [
    "# def scatter(x, y, xlabel, ylabel):\n",
    "#     plt.scatter(x, y, s=1)\n",
    "#     plt.xlabel(xlabel)\n",
    "#     plt.ylabel(ylabel)\n",
    "#     plt.show()\n",
    "\n",
    "# for f in X.columns:\n",
    "#     scatter(X[f], Y, f, 'Y')"
   ]
  }
 ],
 "metadata": {
  "kernelspec": {
   "display_name": "Python 3",
   "language": "python",
   "name": "python3"
  },
  "language_info": {
   "codemirror_mode": {
    "name": "ipython",
    "version": 3
   },
   "file_extension": ".py",
   "mimetype": "text/x-python",
   "name": "python",
   "nbconvert_exporter": "python",
   "pygments_lexer": "ipython3",
   "version": "3.6.8"
  }
 },
 "nbformat": 4,
 "nbformat_minor": 2
}
